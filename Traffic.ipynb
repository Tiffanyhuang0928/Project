{
 "cells": [
  {
   "cell_type": "code",
   "execution_count": 1,
   "id": "e2eedd1c",
   "metadata": {
    "deletable": false,
    "editable": false
   },
   "outputs": [],
   "source": [
    "# Initialize Otter\n",
    "import otter\n",
    "grader = otter.Notebook(\"Traffic.ipynb\")"
   ]
  },

  {
   "cell_type": "markdown",
   "id": "e7ba9096",
   "metadata": {},
   "source": [
    "# Data 100 Final Project: Traffic in a post-lockdown world\n",
    "\n",
    "**Scenario:** You're a data scientist at Uber -- sitting in a war room on March 16, 2020, 1 day after California-wide COVID lockdown measures began and the day shelter-in-place measures are announced in the bay area. The entire data science department is on fire: All of your existing traffic models have regressed *significantly*. Given the sudden change in traffic patterns (i.e., no traffic at all), the company's traffic estimates are wildly incorrect. This is a top priority for the company. Since traffic estimates are used directly for pricing strategies, this is actively costing the company millions every hour. You are tasked with fixing these models.\n",
    "\n",
    "**Takeaways:** How do you \"fix\" models that have learned biases from pre-lockdown traffic? How do you train new ones, with just 24 hours of data? What sorts of data do you examine, to better understand the situation? In the midst of company-wide panic, you'll need a strong inferential acumen to lead a robust data science response. In this project, we'll walk you through a simulated war room data science effort, culminating in some strategies to fix models online, which are experiencing large distributional shifts in data.\n",
    "\n",
    "For this project, we'll explore traffic data provided by the **Uber Movement** dataset, specifically around the start of COVID shutdowns in March 2020. Your project is structured around the following ideas:\n",
    "\n",
    "```\n",
    "1. Guided data cleaning: Clustering data spatially\n",
    "    a. Load Uber traffic speeds dataset\n",
    "    b. Map traffic speeds to Google Plus Codes (spatially uniform)\n",
    "        i. Load node-to-gps-coordinates data\n",
    "        ii. Map traffic speed to GPS coordinates\n",
    "        iii. Convert GPS coordinates to plus code regions\n",
    "        iv. Sanity check number of plus code regions in San Francisco\n",
    "        v. Plot a histogram of the standard deviation in speed, per plus code region.\n",
    "    c. Map traffic speeds to census tracts (spatially non-uniform)\n",
    "        i. Download census tracts geojson\n",
    "        ii. Map traffic speed to census tracts\n",
    "        iii. Sanity check number of census tracts in San Francisco with data.\n",
    "        iv. Plot a histogram of the standard deviation in speed, per census tract.\n",
    "    d. What defines a \"good\" or \"bad\" spatial clustering?\n",
    "2. Guided EDA: Understanding COVID lockdown impact on traffic\n",
    "    a. How did lockdown affect average traffic speeds?\n",
    "        i. Sort census tracts by average speed, pre-lockdown.\n",
    "        ii. Sort census tracts by average speed, post-lockdown.\n",
    "        iii. Sort census tracts by change in average speed, from pre to post lockdown.\n",
    "        iv. Quantify the impact of lockdown on average speeds.\n",
    "        v. Quantify the impact of pre-lockdown average speed on change in speed.\n",
    "    b. What traffic areas were impacted by lockdown?\n",
    "        i. Visualize heatmap of average traffic speed per census tract, pre-lockdown.\n",
    "        ii. Visualize change in average daily speeds pre vs. post lockdown.\n",
    "        iii. Quantify the impact of lockdown on daily speeds, spatially.\n",
    "3. Open-Ended EDA: Understanding lockdown impact on traffic times\n",
    "    a. Download Uber Movement (Travel Times) dataset\n",
    "4. Guided Modeling: Predict traffic speed post-lockdown\n",
    "    a. Predict daily traffic speed on pre-lockdown data\n",
    "        i. Assemble dataset to predict daily traffic speed.\n",
    "        ii. Train and evaluate linear model on pre-lockdown data.\n",
    "    b. Understand failures on post-lockdown data\n",
    "        i. Evaluate on post-lockdown data\n",
    "        ii. Report model performance temporally\n",
    "    c. \"Fix\" model on post-lockdown data\n",
    "        i. Learn delta off of a moving bias\n",
    "        ii. Does it \"solve itself\"? Does the pre-lockdown model predict, after the change point?\n",
    "        iii. Naively retrain model with post-lockdown data\n",
    "        iv. What if you just ignore the change point?\n",
    "5. Open-Ended Modeling: Predicting travel times post-lockdown\n",
    "```\n",
    "\n",
    "Concepts tested: regex, pivot, join, grouping, inferential thinking"
   ]
  },
  {
   "cell_type": "code",
   "execution_count": 2,
   "id": "dac22504",
   "metadata": {
    "scrolled": true
   },
   "outputs": [
    {
     "name": "stdout",
     "output_type": "stream",
     "text": [
      "Note: you may need to restart the kernel to use updated packages.\n"
     ]
    }
   ],
   "source": [
    "import pandas as pd\n",
    "import geopandas as gpd\n",
    "import numpy as np\n",
    "import csv\n",
    "import json\n",
    "import os\n",
    "import contextily as cx\n",
    "from collections import defaultdict\n",
    "import re\n",
    "from typing import Callable\n",
    "\n",
    "from sklearn.linear_model import LinearRegression\n",
    "import matplotlib.pyplot as plt\n",
    "\n",
    "from zipfile import ZipFile\n",
    "zf = ZipFile('data.zip', 'r')\n",
    "zf.extractall('.')\n",
    "\n",
    "# more readable exceptions\n",
    "%pip install --quiet iwut\n",
    "%load_ext iwut\n",
    "%wut on"
   ]
  },
  {
   "cell_type": "markdown",
   "id": "e1170aa2",
   "metadata": {
    "tags": []
   },
   "source": [
    "# Step 1 - Guided Data Cleaning: Partitioning Data Spatially\n",
    "\n",
    "Our hope is answer: How do we group information spatially? We'll specifically look at 2 ways of partitioning data spatially, to understand the impact of spatial partitioning strategies on our analyses:\n",
    "\n",
    "1. Dividing the world uniformly into slices, like Google's plus codes.\n",
    "2. Dividing the world according to population, using census tracts.\n",
    "\n",
    "In this step, we'll load the following datasets that we'll need for this project:\n",
    "\n",
    "- Daily travel times from Uber Movement data in March 2020 from San Francisco, by census tract\n",
    "- Daily traffic speeds from Uber Movement data in Q1 2020 from San Francisco, between OSM nodes\n",
    "- Census tracts dividing San Francisco by GPS coordinates\n",
    "- Mapping from OSM nodes to GPS coordinates\n",
    "\n",
    "There are several terms and concepts to get familiar with upfront:\n",
    "\n",
    "- **Open Street Maps (OSM)** provides nodes (points in space, [wiki](https://wiki.openstreetmap.org/wiki/Node)) and ways (segments between nodes [wiki](https://wiki.openstreetmap.org/wiki/Way)). These IDs are used in the Uber Movement dataset to identify streets in the traffic speeds dataset.\n",
    "- **Census Tracts** provided by the county of San Francisco geographically divides space according to the US 2010 Census. This is used in the Uber Movement dataset to identify regions of differing travel times."
   ]
  },
  {
   "cell_type": "markdown",
   "id": "f972f63f",
   "metadata": {
    "deletable": false,
    "editable": false
   },
   "source": [
    "## 1.a. Load Uber traffic speeds dataset\n",
    "\n",
    "The dataset is located at `data/movement-speeds-daily-san-francisco-2020-3.csv`. **Load this dataset into a dataframe.**\n",
    "\n",
    "*The original dataset from Uber was provided hourly and took up 2.1 GB on disk, which means it couldn't fit into your 1GB of RAM. You can find the dataset preparation script at `data/PrepareTrafficDataset.ipynb` which aggregated within each day, reducing the dataset to just 55MB on disk.*\n",
    "\n",
    "*This was originally going to be question in this project, but it takes 22 minutes to run. Better yet, if you mess up, your kernel dies and you start over. We deemed it too frustrating and preprocessed the dataset to spare you the pain... but just know that this is a real-world issue!*\n",
    "\n",
    "<!--\n",
    "BEGIN QUESTION\n",
    "name: q1a\n",
    "points: 1\n",
    "-->"
   ]
  },
  {
   "cell_type": "code",
   "execution_count": 3,
   "id": "afa7b370",
   "metadata": {},
   "outputs": [
    {
     "data": {
      "text/html": [
       "<div>\n",
       "<style scoped>\n",
       "    .dataframe tbody tr th:only-of-type {\n",
       "        vertical-align: middle;\n",
       "    }\n",
       "\n",
       "    .dataframe tbody tr th {\n",
       "        vertical-align: top;\n",
       "    }\n",
       "\n",
       "    .dataframe thead th {\n",
       "        text-align: right;\n",
       "    }\n",
       "</style>\n",
       "<table border=\"1\" class=\"dataframe\">\n",
       "  <thead>\n",
       "    <tr style=\"text-align: right;\">\n",
       "      <th></th>\n",
       "      <th>osm_start_node_id</th>\n",
       "      <th>osm_end_node_id</th>\n",
       "      <th>day</th>\n",
       "      <th>speed_mph_mean</th>\n",
       "    </tr>\n",
       "  </thead>\n",
       "  <tbody>\n",
       "    <tr>\n",
       "      <th>0</th>\n",
       "      <td>281266</td>\n",
       "      <td>702258940</td>\n",
       "      <td>1</td>\n",
       "      <td>59.674042</td>\n",
       "    </tr>\n",
       "    <tr>\n",
       "      <th>1</th>\n",
       "      <td>281266</td>\n",
       "      <td>702274215</td>\n",
       "      <td>1</td>\n",
       "      <td>68.444042</td>\n",
       "    </tr>\n",
       "    <tr>\n",
       "      <th>2</th>\n",
       "      <td>302876</td>\n",
       "      <td>240259516</td>\n",
       "      <td>1</td>\n",
       "      <td>66.446500</td>\n",
       "    </tr>\n",
       "    <tr>\n",
       "      <th>3</th>\n",
       "      <td>302878</td>\n",
       "      <td>437325360</td>\n",
       "      <td>1</td>\n",
       "      <td>65.516850</td>\n",
       "    </tr>\n",
       "    <tr>\n",
       "      <th>4</th>\n",
       "      <td>302883</td>\n",
       "      <td>65381191</td>\n",
       "      <td>1</td>\n",
       "      <td>61.880556</td>\n",
       "    </tr>\n",
       "    <tr>\n",
       "      <th>...</th>\n",
       "      <td>...</td>\n",
       "      <td>...</td>\n",
       "      <td>...</td>\n",
       "      <td>...</td>\n",
       "    </tr>\n",
       "    <tr>\n",
       "      <th>1586647</th>\n",
       "      <td>6569140748</td>\n",
       "      <td>1350115374</td>\n",
       "      <td>31</td>\n",
       "      <td>68.484833</td>\n",
       "    </tr>\n",
       "    <tr>\n",
       "      <th>1586648</th>\n",
       "      <td>6570476556</td>\n",
       "      <td>4551993266</td>\n",
       "      <td>31</td>\n",
       "      <td>36.837000</td>\n",
       "    </tr>\n",
       "    <tr>\n",
       "      <th>1586649</th>\n",
       "      <td>6573249373</td>\n",
       "      <td>4911384010</td>\n",
       "      <td>31</td>\n",
       "      <td>39.021000</td>\n",
       "    </tr>\n",
       "    <tr>\n",
       "      <th>1586650</th>\n",
       "      <td>6573553681</td>\n",
       "      <td>256888796</td>\n",
       "      <td>31</td>\n",
       "      <td>68.728333</td>\n",
       "    </tr>\n",
       "    <tr>\n",
       "      <th>1586651</th>\n",
       "      <td>6577722252</td>\n",
       "      <td>209835741</td>\n",
       "      <td>31</td>\n",
       "      <td>68.905538</td>\n",
       "    </tr>\n",
       "  </tbody>\n",
       "</table>\n",
       "<p>1586652 rows × 4 columns</p>\n",
       "</div>"
      ],
      "text/plain": [
       "         osm_start_node_id  osm_end_node_id  day  speed_mph_mean\n",
       "0                   281266        702258940    1       59.674042\n",
       "1                   281266        702274215    1       68.444042\n",
       "2                   302876        240259516    1       66.446500\n",
       "3                   302878        437325360    1       65.516850\n",
       "4                   302883         65381191    1       61.880556\n",
       "...                    ...              ...  ...             ...\n",
       "1586647         6569140748       1350115374   31       68.484833\n",
       "1586648         6570476556       4551993266   31       36.837000\n",
       "1586649         6573249373       4911384010   31       39.021000\n",
       "1586650         6573553681        256888796   31       68.728333\n",
       "1586651         6577722252        209835741   31       68.905538\n",
       "\n",
       "[1586652 rows x 4 columns]"
      ]
     },
     "execution_count": 3,
     "metadata": {},
     "output_type": "execute_result"
    }
   ],
   "source": [
    "# Load Uber Movement (Movement Speeds) dataset into dataframe\n",
    "speeds_to_nodes = pd.read_csv('data/movement-speeds-daily-san-francisco-2020-3.csv')\n",
    "\n",
    "speeds_to_nodes"
   ]
  },
  {
   "cell_type": "code",
   "execution_count": 4,
   "id": "1a8f96bb",
   "metadata": {
    "deletable": false,
    "editable": false
   },
   "outputs": [
    {
     "data": {
      "text/html": [
       "<p><strong><pre style='display: inline;'>q1a</pre></strong> passed!</p>"
      ],
      "text/plain": [
       "q1a results: All test cases passed!"
      ]
     },
     "execution_count": 4,
     "metadata": {},
     "output_type": "execute_result"
    }
   ],
   "source": [
    "grader.check(\"q1a\")"
   ]
  },
  {
   "cell_type": "markdown",
   "id": "657ce62e",
   "metadata": {
    "deletable": false,
    "editable": false
   },
   "source": 
  },
  {
   "cell_type": "markdown",
   "id": "7fdfc8c4",
   "metadata": {},
   "source": [
    "No, the spatial structure is not effective for summarizing traffic speed. \n",
    "\n",
    "For example, if the shape of CBD in SF is not rectangular, then some part of the area in CBD will be split out with area where the traffic situation is not the same with the CBD area.\n",
    "\n",
    "Also, Palo Alto Highway 101 is the main freeway to get from north bay to south bay. Some parts of the freeway it’s often in traffic during rush hours. In comparison, the roads around 101 in the Palo Alto area are less crowded, which are in the resident area and often at a faster average speed. Therefore, if we use rectangular slices to summarize traffic speed, because of the big difference in traffic speed in the free way and the other roads in that cluster, the average speed does not fully represent the cluster. "
   ]
  },
  {
   "cell_type": "markdown",
   "id": "956d25e2",
   "metadata": {},
   "source": [
    "<!-- END QUESTION -->\n",
    "\n",
    "\n",
    "\n",
    "### 1.b.i. Load Node-to-GPS-Coordinate Data\n",
    "\n",
    "In this substep, we'll load a mapping from OSM nodes to GPS coordinates. The dataset is provided in a gzip'ed XML file from OpenStreetMaps (OSM). The mapping from OSM nodes to GPS coordinates was downloaded from https://download.bbbike.org/osm/bbbike/SanFrancisco/SanFrancisco.osm.gz. We've downloaded this for you, to avoid any issues with OSM updates.\n",
    "\n",
    "**If** you try to load the provided `.osm` (an `.xml` in disguise) using Python's built-in XML utilities **(by uncommenting the last 2 lines in the below cell)**, you will hit an out-of-memory error, as your kernel is forced to restart."
   ]
  },
  {
   "cell_type": "code",
   "execution_count": 5,
   "id": "2b734bb9",
   "metadata": {},
   "outputs": [],
   "source": [
    "# [OSM] - Read the OSM XML and extract mapping from node ID to GPS coordinates\n",
    "PATH_OSM = os.path.expanduser('data/SanFrancisco.osm')\n",
    "\n",
    "# Runs out of memory! File itself is 430 MB, even when filtering out\n",
    "# irrelevant rows, and remaining 3M rows are too expensive to parse,\n",
    "# resulting in OOM\n",
    "\n",
    "# import xml.etree.ElementTree as ET\n",
    "# _tree = ET.parse(PATH_OSM)"
   ]
  },
  {
   "cell_type": "markdown",
   "id": "50de7d9e",
   "metadata": {},
   "source": [
    "Your above code hits a memory error, so instead, we will use our handy-dandy tool--regex--from earlier in the semester to load just the parts of the file that we need. **Given the XML snippet below, write a regex pattern to extract OSM node ID, latitude, and longitude.** (The first capture group should be node ID. The second should be latitude, and the third should be longitude.) A snippet of the XML is included below ([screenshot](https://extract.bbbike.org/extract-screenshots.html)):\n",
    "\n",
    "```\n",
    "<?xml version='1.0' encoding='UTF-8'?>\n",
    "<osm version=\"0.6\" generator=\"osmconvert 0.8.3\">\n",
    "    <bounds minlat=\"42.4543\" minlon=\"-2.4761999\" maxlat=\"42.4...\"/>\n",
    "    <node id=\"26861066\" lat=\"42.471111\" lon=\"-2.454722\" version=\"...\"/>\n",
    "        <tag k=\"name\" v=\"Camping La Playa\"/>\n",
    "        <tag k=\"tourism\" v=\"camp_site\"/>\n",
    "        <tag k=\"operator\" v=\"private\"/>\n",
    "        ...\n",
    "    </node>\n",
    "    <node id=\"34793287\" lat=\"42.4713587\" lon=\"-2.4510783\" version=\"...\"/>\n",
    "        <tag k=\"created_by\" v=\"JOSM\"/>\n",
    "    </node>\n",
    "    <node id=\"34793294\" lat=\"42.4610836\" lon=\"-2.4303622\" version=\"...\"/>\n",
    "    <node id=\"34793297\" lat=\"42.4548363\" lon=\"-2.4287657\" version=\"...\"/>\n",
    "    ...\n",
    "</osm>\n",
    "```"
   ]
  },
  {
   "cell_type": "code",
   "execution_count": 6,
   "id": "4b82c675",
   "metadata": {
    "scrolled": true
   },
   "outputs": [],
   "source": [
    "# [OSM] - Read the OSM XML using a regex operation instead.\n",
    "def read_node_lat_lon(path: str, pattern: str, line_condition: Callable):\n",
    "    \"\"\"\n",
    "    Read the provided path line at a line. If the provided regex pattern\n",
    "    has a match, return the grouped matches as items in a generator.\n",
    "    \n",
    "    :param path: Path to read data from\n",
    "    :param pattern: Regex pattern to test against each line\n",
    "    :param line_condition: function that returns if we should check regex\n",
    "        against current line\n",
    "    \"\"\"\n",
    "    with open(path) as f:\n",
    "        for line in f:\n",
    "            result = re.search(pattern, line)\n",
    "            if result is not None and line_condition(result):\n",
    "                yield int(result.group(1)), float(result.group(2)), float(result.group(3))"
   ]
  },
  {
   "cell_type": "code",
   "execution_count": 7,
   "id": "8bbae0df",
   "metadata": {},
   "outputs": [
    {
     "data": {
      "text/html": [
       "<div>\n",
       "<style scoped>\n",
       "    .dataframe tbody tr th:only-of-type {\n",
       "        vertical-align: middle;\n",
       "    }\n",
       "\n",
       "    .dataframe tbody tr th {\n",
       "        vertical-align: top;\n",
       "    }\n",
       "\n",
       "    .dataframe thead th {\n",
       "        text-align: right;\n",
       "    }\n",
       "</style>\n",
       "<table border=\"1\" class=\"dataframe\">\n",
       "  <thead>\n",
       "    <tr style=\"text-align: right;\">\n",
       "      <th></th>\n",
       "      <th>osm_node_id</th>\n",
       "      <th>Latitude</th>\n",
       "      <th>Longitude</th>\n",
       "    </tr>\n",
       "  </thead>\n",
       "  <tbody>\n",
       "    <tr>\n",
       "      <th>0</th>\n",
       "      <td>26118026</td>\n",
       "      <td>37.675280</td>\n",
       "      <td>-122.389194</td>\n",
       "    </tr>\n",
       "    <tr>\n",
       "      <th>1</th>\n",
       "      <td>29891973</td>\n",
       "      <td>37.674935</td>\n",
       "      <td>-122.389130</td>\n",
       "    </tr>\n",
       "    <tr>\n",
       "      <th>2</th>\n",
       "      <td>29892598</td>\n",
       "      <td>37.716892</td>\n",
       "      <td>-122.398893</td>\n",
       "    </tr>\n",
       "    <tr>\n",
       "      <th>3</th>\n",
       "      <td>30033679</td>\n",
       "      <td>37.599877</td>\n",
       "      <td>-122.376497</td>\n",
       "    </tr>\n",
       "    <tr>\n",
       "      <th>4</th>\n",
       "      <td>30033686</td>\n",
       "      <td>37.642167</td>\n",
       "      <td>-122.405946</td>\n",
       "    </tr>\n",
       "    <tr>\n",
       "      <th>...</th>\n",
       "      <td>...</td>\n",
       "      <td>...</td>\n",
       "      <td>...</td>\n",
       "    </tr>\n",
       "    <tr>\n",
       "      <th>19139</th>\n",
       "      <td>6522255428</td>\n",
       "      <td>37.760543</td>\n",
       "      <td>-122.443563</td>\n",
       "    </tr>\n",
       "    <tr>\n",
       "      <th>19140</th>\n",
       "      <td>6522255492</td>\n",
       "      <td>37.759317</td>\n",
       "      <td>-122.444996</td>\n",
       "    </tr>\n",
       "    <tr>\n",
       "      <th>19141</th>\n",
       "      <td>6522764204</td>\n",
       "      <td>37.762163</td>\n",
       "      <td>-122.436143</td>\n",
       "    </tr>\n",
       "    <tr>\n",
       "      <th>19142</th>\n",
       "      <td>6522764212</td>\n",
       "      <td>37.756061</td>\n",
       "      <td>-122.436761</td>\n",
       "    </tr>\n",
       "    <tr>\n",
       "      <th>19143</th>\n",
       "      <td>6522764213</td>\n",
       "      <td>37.761187</td>\n",
       "      <td>-122.440089</td>\n",
       "    </tr>\n",
       "  </tbody>\n",
       "</table>\n",
       "<p>19144 rows × 3 columns</p>\n",
       "</div>"
      ],
      "text/plain": [
       "       osm_node_id   Latitude   Longitude\n",
       "0         26118026  37.675280 -122.389194\n",
       "1         29891973  37.674935 -122.389130\n",
       "2         29892598  37.716892 -122.398893\n",
       "3         30033679  37.599877 -122.376497\n",
       "4         30033686  37.642167 -122.405946\n",
       "...            ...        ...         ...\n",
       "19139   6522255428  37.760543 -122.443563\n",
       "19140   6522255492  37.759317 -122.444996\n",
       "19141   6522764204  37.762163 -122.436143\n",
       "19142   6522764212  37.756061 -122.436761\n",
       "19143   6522764213  37.761187 -122.440089\n",
       "\n",
       "[19144 rows x 3 columns]"
      ]
     },
     "execution_count": 7,
     "metadata": {},
     "output_type": "execute_result"
    }
   ],
   "source": [
    "node_ids = set(speeds_to_nodes.osm_start_node_id) | set(speeds_to_nodes.osm_end_node_id)\n",
    "\n",
    "NODE_PATTERN = r\"<node\\sid=\\\"(.*)\\\"\\slat=\\\"(.*)\\\"\\slon=\\\"(.*)\\\"\\s.*>\"\n",
    "\n",
    "node_to_gps = pd.DataFrame(read_node_lat_lon(\n",
    "    PATH_OSM,\n",
    "    pattern=NODE_PATTERN,\n",
    "    line_condition=lambda result: int(result.group(1)) in node_ids\n",
    "), columns=['osm_node_id', 'Latitude', 'Longitude'])\n",
    "node_to_gps"
   ]
  },
  {
   "cell_type": "code",
   "execution_count": 8,
   "id": "253fe3a7",
   "metadata": {
    "deletable": false,
    "editable": false
   },
   "outputs": [
    {
     "data": {
      "text/html": [
       "<p><strong><pre style='display: inline;'>q1bi</pre></strong> passed!</p>"
      ],
      "text/plain": [
       "q1bi results: All test cases passed!"
      ]
     },
     "execution_count": 8,
     "metadata": {},
     "output_type": "execute_result"
    }
   ],
   "source": [
    "grader.check(\"q1bi\")"
   ]
  },
  {
   "cell_type": "markdown",
   "id": "90d2e3dd",
   "metadata": {
    "deletable": false,
    "editable": false
   },
   "source": [
    "### 1.b.ii. Map traffic speed to GPS coordinates.\n",
    "\n",
    "Traffic speeds are currently connected to OSM nodes. You will then use the mapping from OSM nodes to GPS coordinates, to map traffic speeds to GPS coordinates. **Link each traffic speed measurement to the GPS coordinate of its starting node.**\n",
    "\n",
    "**Note**: For simplicity, assume each segment is associated with the node it *starts* with. \n",
    "\n",
    "**Hint**: Not all nodes are included in the OSM node mapping. Make sure to ignore any nodes without valid GPS coordinates.\n",
    "\n",
    "<!--\n",
    "BEGIN QUESTION\n",
    "name: q1bii\n",
    "points: 3\n",
    "-->"
   ]
  },
  {
   "cell_type": "code",
   "execution_count": 9,
   "id": "1dbc5f8c",
   "metadata": {
    "tags": []
   },
   "outputs": [
    {
     "data": {
      "text/html": [
       "<div>\n",
       "<style scoped>\n",
       "    .dataframe tbody tr th:only-of-type {\n",
       "        vertical-align: middle;\n",
       "    }\n",
       "\n",
       "    .dataframe tbody tr th {\n",
       "        vertical-align: top;\n",
       "    }\n",
       "\n",
       "    .dataframe thead th {\n",
       "        text-align: right;\n",
       "    }\n",
       "</style>\n",
       "<table border=\"1\" class=\"dataframe\">\n",
       "  <thead>\n",
       "    <tr style=\"text-align: right;\">\n",
       "      <th></th>\n",
       "      <th>osm_start_node_id</th>\n",
       "      <th>osm_end_node_id</th>\n",
       "      <th>day</th>\n",
       "      <th>speed_mph_mean</th>\n",
       "      <th>osm_node_id</th>\n",
       "      <th>Latitude</th>\n",
       "      <th>Longitude</th>\n",
       "    </tr>\n",
       "  </thead>\n",
       "  <tbody>\n",
       "    <tr>\n",
       "      <th>0</th>\n",
       "      <td>26118026</td>\n",
       "      <td>259458979</td>\n",
       "      <td>1</td>\n",
       "      <td>64.478000</td>\n",
       "      <td>26118026</td>\n",
       "      <td>37.675280</td>\n",
       "      <td>-122.389194</td>\n",
       "    </tr>\n",
       "    <tr>\n",
       "      <th>1</th>\n",
       "      <td>26118026</td>\n",
       "      <td>259458979</td>\n",
       "      <td>2</td>\n",
       "      <td>62.868208</td>\n",
       "      <td>26118026</td>\n",
       "      <td>37.675280</td>\n",
       "      <td>-122.389194</td>\n",
       "    </tr>\n",
       "    <tr>\n",
       "      <th>2</th>\n",
       "      <td>26118026</td>\n",
       "      <td>259458979</td>\n",
       "      <td>3</td>\n",
       "      <td>62.211750</td>\n",
       "      <td>26118026</td>\n",
       "      <td>37.675280</td>\n",
       "      <td>-122.389194</td>\n",
       "    </tr>\n",
       "    <tr>\n",
       "      <th>3</th>\n",
       "      <td>26118026</td>\n",
       "      <td>259458979</td>\n",
       "      <td>4</td>\n",
       "      <td>62.192458</td>\n",
       "      <td>26118026</td>\n",
       "      <td>37.675280</td>\n",
       "      <td>-122.389194</td>\n",
       "    </tr>\n",
       "    <tr>\n",
       "      <th>4</th>\n",
       "      <td>26118026</td>\n",
       "      <td>259458979</td>\n",
       "      <td>5</td>\n",
       "      <td>61.913292</td>\n",
       "      <td>26118026</td>\n",
       "      <td>37.675280</td>\n",
       "      <td>-122.389194</td>\n",
       "    </tr>\n",
       "    <tr>\n",
       "      <th>...</th>\n",
       "      <td>...</td>\n",
       "      <td>...</td>\n",
       "      <td>...</td>\n",
       "      <td>...</td>\n",
       "      <td>...</td>\n",
       "      <td>...</td>\n",
       "      <td>...</td>\n",
       "    </tr>\n",
       "    <tr>\n",
       "      <th>417634</th>\n",
       "      <td>4069109544</td>\n",
       "      <td>615120176</td>\n",
       "      <td>30</td>\n",
       "      <td>38.956000</td>\n",
       "      <td>4069109544</td>\n",
       "      <td>37.732039</td>\n",
       "      <td>-122.507126</td>\n",
       "    </tr>\n",
       "    <tr>\n",
       "      <th>417635</th>\n",
       "      <td>5448539901</td>\n",
       "      <td>65446993</td>\n",
       "      <td>16</td>\n",
       "      <td>25.627000</td>\n",
       "      <td>5448539901</td>\n",
       "      <td>37.622476</td>\n",
       "      <td>-122.413763</td>\n",
       "    </tr>\n",
       "    <tr>\n",
       "      <th>417636</th>\n",
       "      <td>302964668</td>\n",
       "      <td>4069109544</td>\n",
       "      <td>19</td>\n",
       "      <td>40.802000</td>\n",
       "      <td>302964668</td>\n",
       "      <td>37.732418</td>\n",
       "      <td>-122.507206</td>\n",
       "    </tr>\n",
       "    <tr>\n",
       "      <th>417637</th>\n",
       "      <td>302964668</td>\n",
       "      <td>4069109544</td>\n",
       "      <td>20</td>\n",
       "      <td>36.076000</td>\n",
       "      <td>302964668</td>\n",
       "      <td>37.732418</td>\n",
       "      <td>-122.507206</td>\n",
       "    </tr>\n",
       "    <tr>\n",
       "      <th>417638</th>\n",
       "      <td>5022068066</td>\n",
       "      <td>302964668</td>\n",
       "      <td>19</td>\n",
       "      <td>39.592000</td>\n",
       "      <td>5022068066</td>\n",
       "      <td>37.733635</td>\n",
       "      <td>-122.507100</td>\n",
       "    </tr>\n",
       "  </tbody>\n",
       "</table>\n",
       "<p>417639 rows × 7 columns</p>\n",
       "</div>"
      ],
      "text/plain": [
       "        osm_start_node_id  osm_end_node_id  day  speed_mph_mean  osm_node_id  \\\n",
       "0                26118026        259458979    1       64.478000     26118026   \n",
       "1                26118026        259458979    2       62.868208     26118026   \n",
       "2                26118026        259458979    3       62.211750     26118026   \n",
       "3                26118026        259458979    4       62.192458     26118026   \n",
       "4                26118026        259458979    5       61.913292     26118026   \n",
       "...                   ...              ...  ...             ...          ...   \n",
       "417634         4069109544        615120176   30       38.956000   4069109544   \n",
       "417635         5448539901         65446993   16       25.627000   5448539901   \n",
       "417636          302964668       4069109544   19       40.802000    302964668   \n",
       "417637          302964668       4069109544   20       36.076000    302964668   \n",
       "417638         5022068066        302964668   19       39.592000   5022068066   \n",
       "\n",
       "         Latitude   Longitude  \n",
       "0       37.675280 -122.389194  \n",
       "1       37.675280 -122.389194  \n",
       "2       37.675280 -122.389194  \n",
       "3       37.675280 -122.389194  \n",
       "4       37.675280 -122.389194  \n",
       "...           ...         ...  \n",
       "417634  37.732039 -122.507126  \n",
       "417635  37.622476 -122.413763  \n",
       "417636  37.732418 -122.507206  \n",
       "417637  37.732418 -122.507206  \n",
       "417638  37.733635 -122.507100  \n",
       "\n",
       "[417639 rows x 7 columns]"
      ]
     },
     "execution_count": 9,
     "metadata": {},
     "output_type": "execute_result"
    }
   ],
   "source": [
    "# Find mapping from traffic speeds to GPS coordinates\n",
    "speeds_to_gps = speeds_to_nodes.merge(node_to_gps, how='inner', left_on=\"osm_start_node_id\", right_on=\"osm_node_id\")\n",
    "speeds_to_gps"
   ]
  },
  {
   "cell_type": "code",
   "execution_count": 10,
   "id": "b0f931cc",
   "metadata": {
    "deletable": false,
    "editable": false
   },
   "outputs": [
    {
     "data": {
      "text/html": [
       "<p><strong><pre style='display: inline;'>q1bii</pre></strong> passed!</p>"
      ],
      "text/plain": [
       "q1bii results: All test cases passed!"
      ]
     },
     "execution_count": 10,
     "metadata": {},
     "output_type": "execute_result"
    }
   ],
   "source": [
    "grader.check(\"q1bii\")"
   ]
  },
  {
   "cell_type": "markdown",
   "id": "ffd3be0e",
   "metadata": {
    "deletable": false,
    "editable": false
   },
   "source": [
    "### 1.b.iii. Convert GPS coordinates to plus code regions.\n",
    "\n",
    "Plus code regions divide up the world into uniformly-sized rectangles, which we will assume is 0.012 degrees latitudiunally and longitudinally. **For each traffic speed row, compute the plus code region it belongs to**, based on its GPS coordinates.\n",
    "\n",
    "To do this, we suggest computing a latitudinal index `plus_latitude_idx` and a longitudinal index `plus_longitude_idx` for the plus code region each row belongs to. *Make sure these columns are integer-valued*.\n",
    "\n",
    "**Hint**: If you're running into nans, you did 1.b.ii. incorrectly!\n",
    "\n",
    "<!--\n",
    "BEGIN QUESTION\n",
    "name: q1biii\n",
    "points: 3\n",
    "-->"
   ]
  },
  {
   "cell_type": "code",
   "execution_count": 11,
   "id": "6e3bb4ee",
   "metadata": {},
   "outputs": [
    {
     "data": {
      "text/html": [
       "<div>\n",
       "<style scoped>\n",
       "    .dataframe tbody tr th:only-of-type {\n",
       "        vertical-align: middle;\n",
       "    }\n",
       "\n",
       "    .dataframe tbody tr th {\n",
       "        vertical-align: top;\n",
       "    }\n",
       "\n",
       "    .dataframe thead th {\n",
       "        text-align: right;\n",
       "    }\n",
       "</style>\n",
       "<table border=\"1\" class=\"dataframe\">\n",
       "  <thead>\n",
       "    <tr style=\"text-align: right;\">\n",
       "      <th></th>\n",
       "      <th>osm_start_node_id</th>\n",
       "      <th>osm_end_node_id</th>\n",
       "      <th>day</th>\n",
       "      <th>speed_mph_mean</th>\n",
       "      <th>osm_node_id</th>\n",
       "      <th>Latitude</th>\n",
       "      <th>Longitude</th>\n",
       "      <th>plus_latitude_idx</th>\n",
       "      <th>plus_longitude_idx</th>\n",
       "    </tr>\n",
       "  </thead>\n",
       "  <tbody>\n",
       "    <tr>\n",
       "      <th>0</th>\n",
       "      <td>26118026</td>\n",
       "      <td>259458979</td>\n",
       "      <td>1</td>\n",
       "      <td>64.478000</td>\n",
       "      <td>26118026</td>\n",
       "      <td>37.675280</td>\n",
       "      <td>-122.389194</td>\n",
       "      <td>3139</td>\n",
       "      <td>-10200</td>\n",
       "    </tr>\n",
       "    <tr>\n",
       "      <th>1</th>\n",
       "      <td>26118026</td>\n",
       "      <td>259458979</td>\n",
       "      <td>2</td>\n",
       "      <td>62.868208</td>\n",
       "      <td>26118026</td>\n",
       "      <td>37.675280</td>\n",
       "      <td>-122.389194</td>\n",
       "      <td>3139</td>\n",
       "      <td>-10200</td>\n",
       "    </tr>\n",
       "    <tr>\n",
       "      <th>2</th>\n",
       "      <td>26118026</td>\n",
       "      <td>259458979</td>\n",
       "      <td>3</td>\n",
       "      <td>62.211750</td>\n",
       "      <td>26118026</td>\n",
       "      <td>37.675280</td>\n",
       "      <td>-122.389194</td>\n",
       "      <td>3139</td>\n",
       "      <td>-10200</td>\n",
       "    </tr>\n",
       "    <tr>\n",
       "      <th>3</th>\n",
       "      <td>26118026</td>\n",
       "      <td>259458979</td>\n",
       "      <td>4</td>\n",
       "      <td>62.192458</td>\n",
       "      <td>26118026</td>\n",
       "      <td>37.675280</td>\n",
       "      <td>-122.389194</td>\n",
       "      <td>3139</td>\n",
       "      <td>-10200</td>\n",
       "    </tr>\n",
       "    <tr>\n",
       "      <th>4</th>\n",
       "      <td>26118026</td>\n",
       "      <td>259458979</td>\n",
       "      <td>5</td>\n",
       "      <td>61.913292</td>\n",
       "      <td>26118026</td>\n",
       "      <td>37.675280</td>\n",
       "      <td>-122.389194</td>\n",
       "      <td>3139</td>\n",
       "      <td>-10200</td>\n",
       "    </tr>\n",
       "    <tr>\n",
       "      <th>...</th>\n",
       "      <td>...</td>\n",
       "      <td>...</td>\n",
       "      <td>...</td>\n",
       "      <td>...</td>\n",
       "      <td>...</td>\n",
       "      <td>...</td>\n",
       "      <td>...</td>\n",
       "      <td>...</td>\n",
       "      <td>...</td>\n",
       "    </tr>\n",
       "    <tr>\n",
       "      <th>417634</th>\n",
       "      <td>4069109544</td>\n",
       "      <td>615120176</td>\n",
       "      <td>30</td>\n",
       "      <td>38.956000</td>\n",
       "      <td>4069109544</td>\n",
       "      <td>37.732039</td>\n",
       "      <td>-122.507126</td>\n",
       "      <td>3144</td>\n",
       "      <td>-10209</td>\n",
       "    </tr>\n",
       "    <tr>\n",
       "      <th>417635</th>\n",
       "      <td>5448539901</td>\n",
       "      <td>65446993</td>\n",
       "      <td>16</td>\n",
       "      <td>25.627000</td>\n",
       "      <td>5448539901</td>\n",
       "      <td>37.622476</td>\n",
       "      <td>-122.413763</td>\n",
       "      <td>3135</td>\n",
       "      <td>-10202</td>\n",
       "    </tr>\n",
       "    <tr>\n",
       "      <th>417636</th>\n",
       "      <td>302964668</td>\n",
       "      <td>4069109544</td>\n",
       "      <td>19</td>\n",
       "      <td>40.802000</td>\n",
       "      <td>302964668</td>\n",
       "      <td>37.732418</td>\n",
       "      <td>-122.507206</td>\n",
       "      <td>3144</td>\n",
       "      <td>-10209</td>\n",
       "    </tr>\n",
       "    <tr>\n",
       "      <th>417637</th>\n",
       "      <td>302964668</td>\n",
       "      <td>4069109544</td>\n",
       "      <td>20</td>\n",
       "      <td>36.076000</td>\n",
       "      <td>302964668</td>\n",
       "      <td>37.732418</td>\n",
       "      <td>-122.507206</td>\n",
       "      <td>3144</td>\n",
       "      <td>-10209</td>\n",
       "    </tr>\n",
       "    <tr>\n",
       "      <th>417638</th>\n",
       "      <td>5022068066</td>\n",
       "      <td>302964668</td>\n",
       "      <td>19</td>\n",
       "      <td>39.592000</td>\n",
       "      <td>5022068066</td>\n",
       "      <td>37.733635</td>\n",
       "      <td>-122.507100</td>\n",
       "      <td>3144</td>\n",
       "      <td>-10209</td>\n",
       "    </tr>\n",
       "  </tbody>\n",
       "</table>\n",
       "<p>417639 rows × 9 columns</p>\n",
       "</div>"
      ],
      "text/plain": [
       "        osm_start_node_id  osm_end_node_id  day  speed_mph_mean  osm_node_id  \\\n",
       "0                26118026        259458979    1       64.478000     26118026   \n",
       "1                26118026        259458979    2       62.868208     26118026   \n",
       "2                26118026        259458979    3       62.211750     26118026   \n",
       "3                26118026        259458979    4       62.192458     26118026   \n",
       "4                26118026        259458979    5       61.913292     26118026   \n",
       "...                   ...              ...  ...             ...          ...   \n",
       "417634         4069109544        615120176   30       38.956000   4069109544   \n",
       "417635         5448539901         65446993   16       25.627000   5448539901   \n",
       "417636          302964668       4069109544   19       40.802000    302964668   \n",
       "417637          302964668       4069109544   20       36.076000    302964668   \n",
       "417638         5022068066        302964668   19       39.592000   5022068066   \n",
       "\n",
       "         Latitude   Longitude  plus_latitude_idx  plus_longitude_idx  \n",
       "0       37.675280 -122.389194               3139              -10200  \n",
       "1       37.675280 -122.389194               3139              -10200  \n",
       "2       37.675280 -122.389194               3139              -10200  \n",
       "3       37.675280 -122.389194               3139              -10200  \n",
       "4       37.675280 -122.389194               3139              -10200  \n",
       "...           ...         ...                ...                 ...  \n",
       "417634  37.732039 -122.507126               3144              -10209  \n",
       "417635  37.622476 -122.413763               3135              -10202  \n",
       "417636  37.732418 -122.507206               3144              -10209  \n",
       "417637  37.732418 -122.507206               3144              -10209  \n",
       "417638  37.733635 -122.507100               3144              -10209  \n",
       "\n",
       "[417639 rows x 9 columns]"
      ]
     },
     "execution_count": 11,
     "metadata": {},
     "output_type": "execute_result"
    }
   ],
   "source": [
    "plus_latitude_idx = (speeds_to_gps[\"Latitude\"]//0.012).astype(int)\n",
    "plus_longitude_idx = (speeds_to_gps[\"Longitude\"]//0.012).astype(int)\n",
    "\n",
    "speeds_to_gps[\"plus_latitude_idx\"] = plus_latitude_idx\n",
    "speeds_to_gps[\"plus_longitude_idx\"] = plus_longitude_idx\n",
    "\n",
    "speeds_to_gps"
   ]
  },
  {
   "cell_type": "code",
   "execution_count": 12,
   "id": "43568f79",
   "metadata": {
    "deletable": false,
    "editable": false
   },
   "outputs": [
    {
     "data": {
      "text/html": [
       "<p><strong><pre style='display: inline;'>q1biii</pre></strong> passed!</p>"
      ],
      "text/plain": [
       "q1biii results: All test cases passed!"
      ]
     },
     "execution_count": 12,
     "metadata": {},
     "output_type": "execute_result"
    }
   ],
   "source": [
    "grader.check(\"q1biii\")"
   ]
  },
  {
   "cell_type": "markdown",
   "id": "1a6eccf8",
   "metadata": {
    "deletable": false,
    "editable": false
   },
   "source": [
    "### 1.b.iv. Sanity check number of plus code regions in San Francisco.\n",
    "\n",
    "**Compute the number of unique plus codes found in your dataset**. You're checking that the number isn't ridiculous, like 1, or 100,000 (SF is 231 sq mi, so 100k tracts would average 12 sq ft per tract).\n",
    "\n",
    "If you followed the suggestion above, this is the number of unique `(plus_latitude_idx, plus_longitude_idx)` pairs.\n",
    "\n",
    "<!--\n",
    "BEGIN QUESTION\n",
    "name: q1biv\n",
    "points: 4\n",
    "-->"
   ]
  },
  {
   "cell_type": "code",
   "execution_count": 13,
   "id": "9fc353f4",
   "metadata": {},
   "outputs": [
    {
     "data": {
      "text/plain": [
       "276"
      ]
     },
     "execution_count": 13,
     "metadata": {},
     "output_type": "execute_result"
    }
   ],
   "source": [
    "# You're expecting 276 plus codes here. Don't just type \"276\" \n",
    "# below to pass the autograder. The goal is to sanity check your \n",
    "# dataframe!\n",
    "num_pluscode_regions = len(speeds_to_gps[[\"plus_latitude_idx\", \"plus_longitude_idx\"]].value_counts())\n",
    "num_pluscode_regions"
   ]
  },
  {
   "cell_type": "code",
   "execution_count": 14,
   "id": "9969c637",
   "metadata": {
    "deletable": false,
    "editable": false
   },
   "outputs": [
    {
     "data": {
      "text/html": [
       "<p><strong><pre style='display: inline;'>q1biv</pre></strong> passed!</p>"
      ],
      "text/plain": [
       "q1biv results: All test cases passed!"
      ]
     },
     "execution_count": 14,
     "metadata": {},
     "output_type": "execute_result"
    }
   ],
   "source": [
    "grader.check(\"q1biv\")"
   ]
  },
  {
   "cell_type": "markdown",
   "id": "e7d50542",
   "metadata": {
    "deletable": false,
    "editable": false
   },
   "source": [
    "<!-- BEGIN QUESTION -->\n",
    "\n",
    "### 1.b.v. How well do plus code regions summarize movement speeds?\n",
    "\n",
    "The following will give us an idea of how well the average represents traffic speed per plus code region. For these questions, we'll refer to a \"plus code region\" as a \"cluster\":\n",
    "\n",
    "1. **Plot a histogram of the within-cluster standard deviation**.\n",
    "2. **Compute across-cluster average of within-cluster standard deviation**.\n",
    "3. **Compute across-cluster standard deviation of within-cluster average speeds**.\n",
    "4. **Is this average variance reasonable?** To assess what \"reasonable\" means, consider these questions and how to answer them: (1) Do plus codes capture meaningful subpopulations? (2) Do differences between subpopulations outweigh differences within a subpopulation? Use the statistics above to answer these questions, and compute any additional statistics you need. Additionally explain *why these questions are important to assessing the quality of a spatial clustering*.\n",
    "\n",
    "**Hint**: Run the autograder first to ensure your variance average and average variance are correct, before starting to draw conclusions.\n",
    "\n",
    "In the first cell, write your written answers. In the second cell, complete the code.\n",
    "\n",
    "<!--\n",
    "BEGIN QUESTION\n",
    "name: q1bv1\n",
    "points: 2\n",
    "manual: True\n",
    "-->\n",
    "\n"
   ]
  },
  {
   "cell_type": "markdown",
   "id": "9f344ee2",
   "metadata": {},
   "source": [
    "I think the average variance is not reasonable.\n",
    "\n",
    "Because plus codes doesn't capture meaningful subpopulations since the standard deviation of the average traffic speed within a plus code region varys a lot (from 1 to 22). And there are tens of clusters that have within-cluster standard deviation greater than 15 and maximum can reach 22. It is hard to say subpopulations with large deviations are meaningful.\n",
    "\n",
    "Also, even though differences between subpopulations outweigh differences within a subpopulation, they are still kind of close. An optimal clustering algorithm requires differences between subpopulations significantly larger than differences within subpopulations, and within-cluster standard deviations should be small. Only when spatial clustering results in meaningful subpopulations, clustering operation is meaningful for data analysis."
   ]
  },
  {
   "cell_type": "markdown",
   "id": "3e45a362",
   "metadata": {
    "deletable": false,
    "editable": false
   },
   "source": [
    "<!-- END QUESTION -->\n",
    "\n",
    "<!-- BEGIN QUESTION -->\n",
    "\n",
    "<!--\n",
    "BEGIN QUESTION\n",
    "name: q1bv2\n",
    "points: 2\n",
    "manual: True\n",
    "-->"
   ]
  },
  {
   "cell_type": "code",
   "execution_count": 15,
   "id": "00d9ec83",
   "metadata": {
    "tags": []
   },
   "outputs": [
    {
     "data": {
      "image/png": "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\n",
      "text/plain": [
       "<Figure size 432x288 with 1 Axes>"
      ]
     },
     "metadata": {
      "needs_background": "light"
     },
     "output_type": "display_data"
    }
   ],
   "source": [
    "speed_variance_by_pluscode = speeds_to_gps.pivot_table(index=['plus_longitude_idx','plus_latitude_idx'],\n",
    "                                                       values='speed_mph_mean',\n",
    "                                                       aggfunc={np.mean, np.std}) # compute traffic speed variance in each plus code region\n",
    "# plot a histogram\n",
    "plt.hist(speed_variance_by_pluscode['std'])\n",
    "plt.xlabel('within-cluster standard deviation')\n",
    "plt.ylabel('number of cluster')\n",
    "plt.title('Histogram of within-cluster standard deviation')\n",
    "\n",
    "average_variance_by_pluscode = speed_variance_by_pluscode['std'].mean()\n",
    "variance_average_by_pluscode = speed_variance_by_pluscode['mean'].std()"
   ]
  },
  {
   "cell_type": "markdown",
   "id": "7b9b9177",
   "metadata": {
    "deletable": false,
    "editable": false
   },
   "source": [
    "<!-- END QUESTION -->\n",
    "\n",
    "<!--\n",
    "BEGIN QUESTION\n",
    "name: q1bv3\n",
    "points: 3\n",
    "-->"
   ]
  },
  {
   "cell_type": "code",
   "execution_count": 16,
   "id": "dddeeddd",
   "metadata": {},
   "outputs": [
    {
     "data": {
      "text/html": [
       "<div>\n",
       "<style scoped>\n",
       "    .dataframe tbody tr th:only-of-type {\n",
       "        vertical-align: middle;\n",
       "    }\n",
       "\n",
       "    .dataframe tbody tr th {\n",
       "        vertical-align: top;\n",
       "    }\n",
       "\n",
       "    .dataframe thead th {\n",
       "        text-align: right;\n",
       "    }\n",
       "</style>\n",
       "<table border=\"1\" class=\"dataframe\">\n",
       "  <thead>\n",
       "    <tr style=\"text-align: right;\">\n",
       "      <th></th>\n",
       "      <th></th>\n",
       "      <th>mean</th>\n",
       "      <th>std</th>\n",
       "    </tr>\n",
       "    <tr>\n",
       "      <th>plus_longitude_idx</th>\n",
       "      <th>plus_latitude_idx</th>\n",
       "      <th></th>\n",
       "      <th></th>\n",
       "    </tr>\n",
       "  </thead>\n",
       "  <tbody>\n",
       "    <tr>\n",
       "      <th rowspan=\"4\" valign=\"top\">-10212</th>\n",
       "      <th>3156</th>\n",
       "      <td>30.926440</td>\n",
       "      <td>2.769338</td>\n",
       "    </tr>\n",
       "    <tr>\n",
       "      <th>3157</th>\n",
       "      <td>30.831117</td>\n",
       "      <td>2.492015</td>\n",
       "    </tr>\n",
       "    <tr>\n",
       "      <th>3158</th>\n",
       "      <td>24.693169</td>\n",
       "      <td>5.188069</td>\n",
       "    </tr>\n",
       "    <tr>\n",
       "      <th>3160</th>\n",
       "      <td>27.480063</td>\n",
       "      <td>3.681002</td>\n",
       "    </tr>\n",
       "    <tr>\n",
       "      <th>-10211</th>\n",
       "      <th>3156</th>\n",
       "      <td>24.110057</td>\n",
       "      <td>5.024053</td>\n",
       "    </tr>\n",
       "    <tr>\n",
       "      <th>...</th>\n",
       "      <th>...</th>\n",
       "      <td>...</td>\n",
       "      <td>...</td>\n",
       "    </tr>\n",
       "    <tr>\n",
       "      <th rowspan=\"5\" valign=\"top\">-10194</th>\n",
       "      <th>3131</th>\n",
       "      <td>28.457301</td>\n",
       "      <td>16.226483</td>\n",
       "    </tr>\n",
       "    <tr>\n",
       "      <th>3132</th>\n",
       "      <td>22.653985</td>\n",
       "      <td>4.186361</td>\n",
       "    </tr>\n",
       "    <tr>\n",
       "      <th>3151</th>\n",
       "      <td>62.108413</td>\n",
       "      <td>4.161371</td>\n",
       "    </tr>\n",
       "    <tr>\n",
       "      <th>3159</th>\n",
       "      <td>37.121426</td>\n",
       "      <td>18.778811</td>\n",
       "    </tr>\n",
       "    <tr>\n",
       "      <th>3160</th>\n",
       "      <td>35.496658</td>\n",
       "      <td>17.590817</td>\n",
       "    </tr>\n",
       "  </tbody>\n",
       "</table>\n",
       "<p>276 rows × 2 columns</p>\n",
       "</div>"
      ],
      "text/plain": [
       "                                           mean        std\n",
       "plus_longitude_idx plus_latitude_idx                      \n",
       "-10212             3156               30.926440   2.769338\n",
       "                   3157               30.831117   2.492015\n",
       "                   3158               24.693169   5.188069\n",
       "                   3160               27.480063   3.681002\n",
       "-10211             3156               24.110057   5.024053\n",
       "...                                         ...        ...\n",
       "-10194             3131               28.457301  16.226483\n",
       "                   3132               22.653985   4.186361\n",
       "                   3151               62.108413   4.161371\n",
       "                   3159               37.121426  18.778811\n",
       "                   3160               35.496658  17.590817\n",
       "\n",
       "[276 rows x 2 columns]"
      ]
     },
     "execution_count": 16,
     "metadata": {},
     "output_type": "execute_result"
    }
   ],
   "source": [
    "speed_variance_by_pluscode"
   ]
  },
  {
   "cell_type": "code",
   "execution_count": 17,
   "id": "d6cf561a",
   "metadata": {
    "deletable": false,
    "editable": false
   },
   "outputs": [
    {
     "data": {
      "text/html": [
       "<p><strong><pre style='display: inline;'>q1bv3</pre></strong> passed!</p>"
      ],
      "text/plain": [
       "q1bv3 results: All test cases passed!"
      ]
     },
     "execution_count": 17,
     "metadata": {},
     "output_type": "execute_result"
    }
   ],
   "source": [
    "grader.check(\"q1bv3\")"
   ]
  },
  {
   "cell_type": "markdown",
   "id": "5a7a6e79",
   "metadata": {},
   "source": [
    "## 1.c. Map traffic speed to census tract.\n",
    "\n",
    "Census tracts divide the space much less uniformly, subdividing regions that we were interested in into smaller zones. This suggests promise in providing informative spatial segments. Note that the daily traffic speeds are provided between OpenStreetMap (OSM) nodes, so we'll need to map nodes to census tracts somehow.\n",
    "\n",
    "Above, we've mapped traffic speeds to GPS coordinates. Below, we'll then link GPS coordinates to census tracts, to complete the mapping from traffic speeds to census tracts."
   ]
  },
  {
   "cell_type": "markdown",
   "id": "d02aca27",
   "metadata": {
    "deletable": false,
    "editable": false
   },
   "source": [
    "### 1.c.i. Download Census Tracts Geojson\n",
    "\n",
    "**Load the census tracts geojson.** Make sure to see the relevant [geopandas io documentation](https://geopandas.org/docs/user_guide/io.html) to see how to load a geojson.\n",
    "\n",
    "**Hint**: It should take you just one line to load.\n",
    "\n",
    "<!--\n",
    "BEGIN QUESTION\n",
    "name: q1ci\n",
    "points: 1\n",
    "-->"
   ]
  },
  {
   "cell_type": "code",
   "execution_count": 18,
   "id": "905c8c7e",
   "metadata": {
    "tags": []
   },
   "outputs": [
    {
     "data": {
      "text/html": [
       "<div>\n",
       "<style scoped>\n",
       "    .dataframe tbody tr th:only-of-type {\n",
       "        vertical-align: middle;\n",
       "    }\n",
       "\n",
       "    .dataframe tbody tr th {\n",
       "        vertical-align: top;\n",
       "    }\n",
       "\n",
       "    .dataframe thead th {\n",
       "        text-align: right;\n",
       "    }\n",
       "</style>\n",
       "<table border=\"1\" class=\"dataframe\">\n",
       "  <thead>\n",
       "    <tr style=\"text-align: right;\">\n",
       "      <th></th>\n",
       "      <th>MOVEMENT_ID</th>\n",
       "      <th>DISPLAY_NAME</th>\n",
       "      <th>geometry</th>\n",
       "    </tr>\n",
       "  </thead>\n",
       "  <tbody>\n",
       "    <tr>\n",
       "      <th>0</th>\n",
       "      <td>1</td>\n",
       "      <td>Sargent Creek, San Ardo</td>\n",
       "      <td>MULTIPOLYGON (((-121.59511 36.11126, -121.5401...</td>\n",
       "    </tr>\n",
       "    <tr>\n",
       "      <th>1</th>\n",
       "      <td>2</td>\n",
       "      <td>400 Northumberland Avenue, Redwood Oaks, Redwo...</td>\n",
       "      <td>MULTIPOLYGON (((-122.22463 37.46507, -122.2236...</td>\n",
       "    </tr>\n",
       "    <tr>\n",
       "      <th>2</th>\n",
       "      <td>3</td>\n",
       "      <td>18300 Sutter Boulevard, Morgan Hill</td>\n",
       "      <td>MULTIPOLYGON (((-121.67978 37.15859, -121.6719...</td>\n",
       "    </tr>\n",
       "    <tr>\n",
       "      <th>3</th>\n",
       "      <td>4</td>\n",
       "      <td>2700 Stoughton Way, Sheffield, Sacramento</td>\n",
       "      <td>MULTIPOLYGON (((-121.35921 38.57175, -121.3462...</td>\n",
       "    </tr>\n",
       "    <tr>\n",
       "      <th>4</th>\n",
       "      <td>5</td>\n",
       "      <td>3200 Huntsman Drive, Rosemont Park, Sacramento</td>\n",
       "      <td>MULTIPOLYGON (((-121.37512 38.55309, -121.3715...</td>\n",
       "    </tr>\n",
       "    <tr>\n",
       "      <th>...</th>\n",
       "      <td>...</td>\n",
       "      <td>...</td>\n",
       "      <td>...</td>\n",
       "    </tr>\n",
       "    <tr>\n",
       "      <th>2705</th>\n",
       "      <td>2706</td>\n",
       "      <td>10000 Bobbell Drive, Elk Grove</td>\n",
       "      <td>MULTIPOLYGON (((-121.48392 38.40874, -121.4787...</td>\n",
       "    </tr>\n",
       "    <tr>\n",
       "      <th>2706</th>\n",
       "      <td>2707</td>\n",
       "      <td>400 Ericwood Court, Manteca</td>\n",
       "      <td>MULTIPOLYGON (((-121.22695 37.82647, -121.2185...</td>\n",
       "    </tr>\n",
       "    <tr>\n",
       "      <th>2707</th>\n",
       "      <td>2708</td>\n",
       "      <td>200 Westview Drive, Sunshine Gardens, South Sa...</td>\n",
       "      <td>MULTIPOLYGON (((-122.45179 37.66912, -122.4506...</td>\n",
       "    </tr>\n",
       "    <tr>\n",
       "      <th>2708</th>\n",
       "      <td>2709</td>\n",
       "      <td>1200 Halyard Drive, West Sacramento</td>\n",
       "      <td>MULTIPOLYGON (((-121.58346 38.57860, -121.5827...</td>\n",
       "    </tr>\n",
       "    <tr>\n",
       "      <th>2709</th>\n",
       "      <td>2710</td>\n",
       "      <td>2500 Clubhouse Drive West, Whitney Oaks, Rocklin</td>\n",
       "      <td>MULTIPOLYGON (((-121.25720 38.82472, -121.2545...</td>\n",
       "    </tr>\n",
       "  </tbody>\n",
       "</table>\n",
       "<p>2710 rows × 3 columns</p>\n",
       "</div>"
      ],
      "text/plain": [
       "      MOVEMENT_ID                                       DISPLAY_NAME  \\\n",
       "0               1                            Sargent Creek, San Ardo   \n",
       "1               2  400 Northumberland Avenue, Redwood Oaks, Redwo...   \n",
       "2               3                18300 Sutter Boulevard, Morgan Hill   \n",
       "3               4          2700 Stoughton Way, Sheffield, Sacramento   \n",
       "4               5     3200 Huntsman Drive, Rosemont Park, Sacramento   \n",
       "...           ...                                                ...   \n",
       "2705         2706                     10000 Bobbell Drive, Elk Grove   \n",
       "2706         2707                        400 Ericwood Court, Manteca   \n",
       "2707         2708  200 Westview Drive, Sunshine Gardens, South Sa...   \n",
       "2708         2709                1200 Halyard Drive, West Sacramento   \n",
       "2709         2710   2500 Clubhouse Drive West, Whitney Oaks, Rocklin   \n",
       "\n",
       "                                               geometry  \n",
       "0     MULTIPOLYGON (((-121.59511 36.11126, -121.5401...  \n",
       "1     MULTIPOLYGON (((-122.22463 37.46507, -122.2236...  \n",
       "2     MULTIPOLYGON (((-121.67978 37.15859, -121.6719...  \n",
       "3     MULTIPOLYGON (((-121.35921 38.57175, -121.3462...  \n",
       "4     MULTIPOLYGON (((-121.37512 38.55309, -121.3715...  \n",
       "...                                                 ...  \n",
       "2705  MULTIPOLYGON (((-121.48392 38.40874, -121.4787...  \n",
       "2706  MULTIPOLYGON (((-121.22695 37.82647, -121.2185...  \n",
       "2707  MULTIPOLYGON (((-122.45179 37.66912, -122.4506...  \n",
       "2708  MULTIPOLYGON (((-121.58346 38.57860, -121.5827...  \n",
       "2709  MULTIPOLYGON (((-121.25720 38.82472, -121.2545...  \n",
       "\n",
       "[2710 rows x 3 columns]"
      ]
     },
     "execution_count": 18,
     "metadata": {},
     "output_type": "execute_result"
    }
   ],
   "source": [
    "PATH_TRACTS = os.path.expanduser('data/san_francisco_censustracts.json')\n",
    "tract_to_gps = gpd.read_file(open(PATH_TRACTS))\n",
    "tract_to_gps['MOVEMENT_ID'] = tract_to_gps['MOVEMENT_ID'].astype(int)\n",
    "tract_to_gps"
   ]
  },
  {
   "cell_type": "code",
   "execution_count": 19,
   "id": "7ad51eba",
   "metadata": {
    "deletable": false,
    "editable": false
   },
   "outputs": [
    {
     "data": {
      "text/html": [
       "<p><strong><pre style='display: inline;'>q1ci</pre></strong> passed!</p>"
      ],
      "text/plain": [
       "q1ci results: All test cases passed!"
      ]
     },
     "execution_count": 19,
     "metadata": {},
     "output_type": "execute_result"
    }
   ],
   "source": [
    "grader.check(\"q1ci\")"
   ]
  },
  {
   "cell_type": "markdown",
   "id": "9a801db2",
   "metadata": {
    "deletable": false,
    "editable": false
   },
   "source": [
    "### 1.c.ii Map traffic speed to census tracts.\n",
    "\n",
    "You will need to *spatially join* the (1) mapping from traffic speed to GPS coordinates `speed_to_gps` and (2) the mapping from GPS coordinates to boundaries of census tracts `tract_to_gps` to group all traffic speeds by census tract. This \"spatial join\" is an advanced feature recently released (as of time of writing, in Oct 2021) in geopandas, which allows us to connect single points to their enclosing polygons. You will do this question in 3 parts:\n",
    "\n",
    "1. Convert the last dataframe `speeds_to_gps` into a geopandas dataframe `speeds_to_points`, where GPS coordinates are now geopandas points. See this tutorial: https://geopandas.org/gallery/create_geopandas_from_pandas.html#From-longitudes-and-latitudes\n",
    "2. Set the coordinate-system for the new geopandas dataframe to the \"world geodesic system\" [link](https://epsg.io/4326), or in other words, the coordinate system that GPS coordinates are reported in.\n",
    "3. Compute a spatial join between census tracts `tract_to_gps` and the geopandas traffic speeds `speeds_to_points`\n",
    "\n",
    "<!--\n",
    "BEGIN QUESTION\n",
    "name: q1cii\n",
    "points: 4\n",
    "-->"
   ]
  },
  {
   "cell_type": "code",
   "execution_count": 20,
   "id": "0d2640f0",
   "metadata": {},
   "outputs": [
    {
     "data": {
      "text/html": [
       "<div>\n",
       "<style scoped>\n",
       "    .dataframe tbody tr th:only-of-type {\n",
       "        vertical-align: middle;\n",
       "    }\n",
       "\n",
       "    .dataframe tbody tr th {\n",
       "        vertical-align: top;\n",
       "    }\n",
       "\n",
       "    .dataframe thead th {\n",
       "        text-align: right;\n",
       "    }\n",
       "</style>\n",
       "<table border=\"1\" class=\"dataframe\">\n",
       "  <thead>\n",
       "    <tr style=\"text-align: right;\">\n",
       "      <th></th>\n",
       "      <th>osm_start_node_id</th>\n",
       "      <th>osm_end_node_id</th>\n",
       "      <th>day</th>\n",
       "      <th>speed_mph_mean</th>\n",
       "      <th>osm_node_id</th>\n",
       "      <th>Latitude</th>\n",
       "      <th>Longitude</th>\n",
       "      <th>plus_latitude_idx</th>\n",
       "      <th>plus_longitude_idx</th>\n",
       "      <th>geometry</th>\n",
       "      <th>index_right</th>\n",
       "      <th>MOVEMENT_ID</th>\n",
       "      <th>DISPLAY_NAME</th>\n",
       "    </tr>\n",
       "  </thead>\n",
       "  <tbody>\n",
       "    <tr>\n",
       "      <th>0</th>\n",
       "      <td>26118026</td>\n",
       "      <td>259458979</td>\n",
       "      <td>1</td>\n",
       "      <td>64.478000</td>\n",
       "      <td>26118026</td>\n",
       "      <td>37.675280</td>\n",
       "      <td>-122.389194</td>\n",
       "      <td>3139</td>\n",
       "      <td>-10200</td>\n",
       "      <td>POINT (-122.38919 37.67528)</td>\n",
       "      <td>1729</td>\n",
       "      <td>1730</td>\n",
       "      <td>0 Park Lane, Brisbane</td>\n",
       "    </tr>\n",
       "    <tr>\n",
       "      <th>1</th>\n",
       "      <td>26118026</td>\n",
       "      <td>259458979</td>\n",
       "      <td>2</td>\n",
       "      <td>62.868208</td>\n",
       "      <td>26118026</td>\n",
       "      <td>37.675280</td>\n",
       "      <td>-122.389194</td>\n",
       "      <td>3139</td>\n",
       "      <td>-10200</td>\n",
       "      <td>POINT (-122.38919 37.67528)</td>\n",
       "      <td>1729</td>\n",
       "      <td>1730</td>\n",
       "      <td>0 Park Lane, Brisbane</td>\n",
       "    </tr>\n",
       "    <tr>\n",
       "      <th>2</th>\n",
       "      <td>26118026</td>\n",
       "      <td>259458979</td>\n",
       "      <td>3</td>\n",
       "      <td>62.211750</td>\n",
       "      <td>26118026</td>\n",
       "      <td>37.675280</td>\n",
       "      <td>-122.389194</td>\n",
       "      <td>3139</td>\n",
       "      <td>-10200</td>\n",
       "      <td>POINT (-122.38919 37.67528)</td>\n",
       "      <td>1729</td>\n",
       "      <td>1730</td>\n",
       "      <td>0 Park Lane, Brisbane</td>\n",
       "    </tr>\n",
       "    <tr>\n",
       "      <th>3</th>\n",
       "      <td>26118026</td>\n",
       "      <td>259458979</td>\n",
       "      <td>4</td>\n",
       "      <td>62.192458</td>\n",
       "      <td>26118026</td>\n",
       "      <td>37.675280</td>\n",
       "      <td>-122.389194</td>\n",
       "      <td>3139</td>\n",
       "      <td>-10200</td>\n",
       "      <td>POINT (-122.38919 37.67528)</td>\n",
       "      <td>1729</td>\n",
       "      <td>1730</td>\n",
       "      <td>0 Park Lane, Brisbane</td>\n",
       "    </tr>\n",
       "    <tr>\n",
       "      <th>4</th>\n",
       "      <td>26118026</td>\n",
       "      <td>259458979</td>\n",
       "      <td>5</td>\n",
       "      <td>61.913292</td>\n",
       "      <td>26118026</td>\n",
       "      <td>37.675280</td>\n",
       "      <td>-122.389194</td>\n",
       "      <td>3139</td>\n",
       "      <td>-10200</td>\n",
       "      <td>POINT (-122.38919 37.67528)</td>\n",
       "      <td>1729</td>\n",
       "      <td>1730</td>\n",
       "      <td>0 Park Lane, Brisbane</td>\n",
       "    </tr>\n",
       "    <tr>\n",
       "      <th>...</th>\n",
       "      <td>...</td>\n",
       "      <td>...</td>\n",
       "      <td>...</td>\n",
       "      <td>...</td>\n",
       "      <td>...</td>\n",
       "      <td>...</td>\n",
       "      <td>...</td>\n",
       "      <td>...</td>\n",
       "      <td>...</td>\n",
       "      <td>...</td>\n",
       "      <td>...</td>\n",
       "      <td>...</td>\n",
       "      <td>...</td>\n",
       "    </tr>\n",
       "    <tr>\n",
       "      <th>417634</th>\n",
       "      <td>4069109544</td>\n",
       "      <td>615120176</td>\n",
       "      <td>30</td>\n",
       "      <td>38.956000</td>\n",
       "      <td>4069109544</td>\n",
       "      <td>37.732039</td>\n",
       "      <td>-122.507126</td>\n",
       "      <td>3144</td>\n",
       "      <td>-10209</td>\n",
       "      <td>POINT (-122.50713 37.73204)</td>\n",
       "      <td>1778</td>\n",
       "      <td>1779</td>\n",
       "      <td>500 John Muir Drive, Lakeshore, San Francisco</td>\n",
       "    </tr>\n",
       "    <tr>\n",
       "      <th>417635</th>\n",
       "      <td>5448539901</td>\n",
       "      <td>65446993</td>\n",
       "      <td>16</td>\n",
       "      <td>25.627000</td>\n",
       "      <td>5448539901</td>\n",
       "      <td>37.622476</td>\n",
       "      <td>-122.413763</td>\n",
       "      <td>3135</td>\n",
       "      <td>-10202</td>\n",
       "      <td>POINT (-122.41376 37.62248)</td>\n",
       "      <td>1456</td>\n",
       "      <td>1457</td>\n",
       "      <td>1500 Donner Avenue, San Bruno</td>\n",
       "    </tr>\n",
       "    <tr>\n",
       "      <th>417636</th>\n",
       "      <td>302964668</td>\n",
       "      <td>4069109544</td>\n",
       "      <td>19</td>\n",
       "      <td>40.802000</td>\n",
       "      <td>302964668</td>\n",
       "      <td>37.732418</td>\n",
       "      <td>-122.507206</td>\n",
       "      <td>3144</td>\n",
       "      <td>-10209</td>\n",
       "      <td>POINT (-122.50721 37.73242)</td>\n",
       "      <td>1778</td>\n",
       "      <td>1779</td>\n",
       "      <td>500 John Muir Drive, Lakeshore, San Francisco</td>\n",
       "    </tr>\n",
       "    <tr>\n",
       "      <th>417637</th>\n",
       "      <td>302964668</td>\n",
       "      <td>4069109544</td>\n",
       "      <td>20</td>\n",
       "      <td>36.076000</td>\n",
       "      <td>302964668</td>\n",
       "      <td>37.732418</td>\n",
       "      <td>-122.507206</td>\n",
       "      <td>3144</td>\n",
       "      <td>-10209</td>\n",
       "      <td>POINT (-122.50721 37.73242)</td>\n",
       "      <td>1778</td>\n",
       "      <td>1779</td>\n",
       "      <td>500 John Muir Drive, Lakeshore, San Francisco</td>\n",
       "    </tr>\n",
       "    <tr>\n",
       "      <th>417638</th>\n",
       "      <td>5022068066</td>\n",
       "      <td>302964668</td>\n",
       "      <td>19</td>\n",
       "      <td>39.592000</td>\n",
       "      <td>5022068066</td>\n",
       "      <td>37.733635</td>\n",
       "      <td>-122.507100</td>\n",
       "      <td>3144</td>\n",
       "      <td>-10209</td>\n",
       "      <td>POINT (-122.50710 37.73363)</td>\n",
       "      <td>1778</td>\n",
       "      <td>1779</td>\n",
       "      <td>500 John Muir Drive, Lakeshore, San Francisco</td>\n",
       "    </tr>\n",
       "  </tbody>\n",
       "</table>\n",
       "<p>418848 rows × 13 columns</p>\n",
       "</div>"
      ],
      "text/plain": [
       "        osm_start_node_id  osm_end_node_id  day  speed_mph_mean  osm_node_id  \\\n",
       "0                26118026        259458979    1       64.478000     26118026   \n",
       "1                26118026        259458979    2       62.868208     26118026   \n",
       "2                26118026        259458979    3       62.211750     26118026   \n",
       "3                26118026        259458979    4       62.192458     26118026   \n",
       "4                26118026        259458979    5       61.913292     26118026   \n",
       "...                   ...              ...  ...             ...          ...   \n",
       "417634         4069109544        615120176   30       38.956000   4069109544   \n",
       "417635         5448539901         65446993   16       25.627000   5448539901   \n",
       "417636          302964668       4069109544   19       40.802000    302964668   \n",
       "417637          302964668       4069109544   20       36.076000    302964668   \n",
       "417638         5022068066        302964668   19       39.592000   5022068066   \n",
       "\n",
       "         Latitude   Longitude  plus_latitude_idx  plus_longitude_idx  \\\n",
       "0       37.675280 -122.389194               3139              -10200   \n",
       "1       37.675280 -122.389194               3139              -10200   \n",
       "2       37.675280 -122.389194               3139              -10200   \n",
       "3       37.675280 -122.389194               3139              -10200   \n",
       "4       37.675280 -122.389194               3139              -10200   \n",
       "...           ...         ...                ...                 ...   \n",
       "417634  37.732039 -122.507126               3144              -10209   \n",
       "417635  37.622476 -122.413763               3135              -10202   \n",
       "417636  37.732418 -122.507206               3144              -10209   \n",
       "417637  37.732418 -122.507206               3144              -10209   \n",
       "417638  37.733635 -122.507100               3144              -10209   \n",
       "\n",
       "                           geometry  index_right  MOVEMENT_ID  \\\n",
       "0       POINT (-122.38919 37.67528)         1729         1730   \n",
       "1       POINT (-122.38919 37.67528)         1729         1730   \n",
       "2       POINT (-122.38919 37.67528)         1729         1730   \n",
       "3       POINT (-122.38919 37.67528)         1729         1730   \n",
       "4       POINT (-122.38919 37.67528)         1729         1730   \n",
       "...                             ...          ...          ...   \n",
       "417634  POINT (-122.50713 37.73204)         1778         1779   \n",
       "417635  POINT (-122.41376 37.62248)         1456         1457   \n",
       "417636  POINT (-122.50721 37.73242)         1778         1779   \n",
       "417637  POINT (-122.50721 37.73242)         1778         1779   \n",
       "417638  POINT (-122.50710 37.73363)         1778         1779   \n",
       "\n",
       "                                         DISPLAY_NAME  \n",
       "0                               0 Park Lane, Brisbane  \n",
       "1                               0 Park Lane, Brisbane  \n",
       "2                               0 Park Lane, Brisbane  \n",
       "3                               0 Park Lane, Brisbane  \n",
       "4                               0 Park Lane, Brisbane  \n",
       "...                                               ...  \n",
       "417634  500 John Muir Drive, Lakeshore, San Francisco  \n",
       "417635                  1500 Donner Avenue, San Bruno  \n",
       "417636  500 John Muir Drive, Lakeshore, San Francisco  \n",
       "417637  500 John Muir Drive, Lakeshore, San Francisco  \n",
       "417638  500 John Muir Drive, Lakeshore, San Francisco  \n",
       "\n",
       "[418848 rows x 13 columns]"
      ]
     },
     "execution_count": 20,
     "metadata": {},
     "output_type": "execute_result"
    }
   ],
   "source": [
    "speeds_to_points = gpd.GeoDataFrame(speeds_to_gps,\n",
    "                                    geometry=gpd.points_from_xy(speeds_to_gps.Longitude, speeds_to_gps.Latitude)).set_crs('epsg:4326')\n",
    "speeds_to_tract = speeds_to_points.sjoin(tract_to_gps, how=\"left\")\n",
    "\n",
    "speeds_to_tract"
   ]
  },
  {
   "cell_type": "code",
   "execution_count": 21,
   "id": "cc8207f3",
   "metadata": {
    "deletable": false,
    "editable": false
   },
   "outputs": [
    {
     "data": {
      "text/html": [
       "<p><strong><pre style='display: inline;'>q1cii</pre></strong> passed!</p>"
      ],
      "text/plain": [
       "q1cii results: All test cases passed!"
      ]
     },
     "execution_count": 21,
     "metadata": {},
     "output_type": "execute_result"
    }
   ],
   "source": [
    "grader.check(\"q1cii\")"
   ]
  },
  {
   "cell_type": "markdown",
   "id": "c1746a1d",
   "metadata": {
    "deletable": false,
    "editable": false
   },
   "source": [
    "### 1.c.iii. Aggregate movement speeds by census tract.\n",
    "\n",
    "- Create a new dataframe `speeds_by_tract` to group movement speeds by census tract. See the outputted dataframe from 1.c.i. to check how census tracts are identified.\n",
    "- Always double-check your numbers. **Report the number of census tracts** in your dataset.\n",
    "\n",
    "<!--\n",
    "BEGIN QUESTION\n",
    "name: q1ciii\n",
    "points: 2\n",
    "-->"
   ]
  },
  {
   "cell_type": "code",
   "execution_count": 22,
   "id": "4b59dacd",
   "metadata": {},
   "outputs": [
    {
     "data": {
      "text/plain": [
       "295"
      ]
     },
     "execution_count": 22,
     "metadata": {},
     "output_type": "execute_result"
    }
   ],
   "source": [
    "speeds_by_tract = speeds_to_tract[['MOVEMENT_ID','speed_mph_mean']].groupby(\"MOVEMENT_ID\")\n",
    "num_census_tracts = len(speeds_by_tract)\n",
    "\n",
    "num_census_tracts"
   ]
  },
  {
   "cell_type": "code",
   "execution_count": 23,
   "id": "13ea4bd8",
   "metadata": {
    "deletable": false,
    "editable": false
   },
   "outputs": [
    {
     "data": {
      "text/html": [
       "<p><strong><pre style='display: inline;'>q1ciii</pre></strong> passed!</p>"
      ],
      "text/plain": [
       "q1ciii results: All test cases passed!"
      ]
     },
     "execution_count": 23,
     "metadata": {},
     "output_type": "execute_result"
    }
   ],
   "source": [
    "grader.check(\"q1ciii\")"
   ]
  },
  {
   "cell_type": "markdown",
   "id": "50d28ba4",
   "metadata": {
    "deletable": false,
    "editable": false
   },
   "source": [
    "<!-- BEGIN QUESTION -->\n",
    "\n",
    "### 1.c.iv. How well do census tracts summarize movement speeds?\n",
    "\n",
    "The following will give us an idea of how well the average represents traffic speed per plus code region. For these questions, we'll refer to a \"census tract\" as a \"cluster\":\n",
    "\n",
    "1. **Plot a histogram of the within-cluster standard deviation**.\n",
    "2. **Compute across-cluster average of within-cluster standard deviation**.\n",
    "3. **Compute across-cluster standard deviation of within-cluster average speeds**.\n",
    "4. **Is this average variance reasonable?** To assess what \"reasonable\" means, consider these questions and how to answer them: (1) Do plus codes capture meaningful subpopulations? (2) Do differences between subpopulations outweigh differences within a subpopulation? Use these ideas to assess whether the average standard deviation is high or not.\n",
    "\n",
    "Note: We are using the speed metric of miles per hour here.\n",
    "\n",
    "Just like before, please written answers in the first cell and coding answers in the second cell.\n",
    "<!--5. Using the above, how would you **compare census tracts to plus codes, in terms of its effectiveness** as a spatial clustering mechanism for analyzing traffic speeds? Compare the statistics you've computed. What does it mean for one to be higher than the other?-->\n",
    "\n",
    "<!--\n",
    "BEGIN QUESTION\n",
    "name: q1civ1\n",
    "points: 2\n",
    "manual: True\n",
    "-->\n",
    "\n"
   ]
  },
  {
   "cell_type": "markdown",
   "id": "a4e477c2",
   "metadata": {},
   "source": [
    "I think the average variance is not reasonable.\n",
    "\n",
    "Because census tracts don't capture meaningful subpopulations since the standard deviation of the average traffic speed within a cluster varys a lot (from 1 to 24). And there are tens of clusters that have within-cluster standard deviation greater than 15 and maximum can reach 24. It is hard to say subpopulations with large deviations are meaningful.\n",
    "\n",
    "Also, even though differences between subpopulations outweigh differences within a subpopulation, they are almost the same. An optimal clustering algorithm requires differences between subpopulations significantly larger than differences within subpopulations, and within-cluster standard deviations should be small. Only when spatial clustering results in meaningful subpopulations, clustering operation is meaningful for data analysis."
   ]
  },
  {
   "cell_type": "markdown",
   "id": "7541ea2c",
   "metadata": {
    "deletable": false,
    "editable": false
   },
   "source": [
    "<!-- END QUESTION -->\n",
    "\n",
    "<!-- BEGIN QUESTION -->\n",
    "\n",
    "<!--\n",
    "BEGIN QUESTION\n",
    "name: q1civ2\n",
    "points: 2\n",
    "manual: True\n",
    "-->"
   ]
  },
  {
   "cell_type": "code",
   "execution_count": 24,
   "id": "7b0659c1",
   "metadata": {},
   "outputs": [
    {
     "data": {
      "image/png": "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\n",
      "text/plain": [
       "<Figure size 432x288 with 1 Axes>"
      ]
     },
     "metadata": {
      "needs_background": "light"
     },
     "output_type": "display_data"
    }
   ],
   "source": [
    "speed_variance_by_tract = speeds_by_tract.std()\n",
    "\n",
    "# plot a histogram\n",
    "plt.hist(speed_variance_by_tract['speed_mph_mean'])\n",
    "plt.xlabel('within-cluster standard deviation')\n",
    "plt.ylabel('number of cluster')\n",
    "plt.title('Histogram of within-cluster standard deviation')\n",
    "\n",
    "average_variance_by_tract = speeds_by_tract.std()['speed_mph_mean'].mean()\n",
    "variance_average_by_tract = speeds_by_tract.mean()['speed_mph_mean'].std()"
   ]
  },
  {
   "cell_type": "markdown",
   "id": "e4152b14",
   "metadata": {
    "deletable": false,
    "editable": false
   },
   "source": [
    "<!-- END QUESTION -->\n",
    "\n",
    "<!--\n",
    "BEGIN QUESTION\n",
    "name: q1civ3\n",
    "points: 3\n",
    "-->"
   ]
  },
  {
   "cell_type": "code",
   "execution_count": 25,
   "id": "d67893fc",
   "metadata": {},
   "outputs": [
    {
     "data": {
      "text/html": [
       "<div>\n",
       "<style scoped>\n",
       "    .dataframe tbody tr th:only-of-type {\n",
       "        vertical-align: middle;\n",
       "    }\n",
       "\n",
       "    .dataframe tbody tr th {\n",
       "        vertical-align: top;\n",
       "    }\n",
       "\n",
       "    .dataframe thead th {\n",
       "        text-align: right;\n",
       "    }\n",
       "</style>\n",
       "<table border=\"1\" class=\"dataframe\">\n",
       "  <thead>\n",
       "    <tr style=\"text-align: right;\">\n",
       "      <th></th>\n",
       "      <th>speed_mph_mean</th>\n",
       "    </tr>\n",
       "    <tr>\n",
       "      <th>MOVEMENT_ID</th>\n",
       "      <th></th>\n",
       "    </tr>\n",
       "  </thead>\n",
       "  <tbody>\n",
       "    <tr>\n",
       "      <th>9</th>\n",
       "      <td>3.821144</td>\n",
       "    </tr>\n",
       "    <tr>\n",
       "      <th>20</th>\n",
       "      <td>5.522853</td>\n",
       "    </tr>\n",
       "    <tr>\n",
       "      <th>21</th>\n",
       "      <td>3.640453</td>\n",
       "    </tr>\n",
       "    <tr>\n",
       "      <th>44</th>\n",
       "      <td>6.634154</td>\n",
       "    </tr>\n",
       "    <tr>\n",
       "      <th>78</th>\n",
       "      <td>3.838873</td>\n",
       "    </tr>\n",
       "    <tr>\n",
       "      <th>...</th>\n",
       "      <td>...</td>\n",
       "    </tr>\n",
       "    <tr>\n",
       "      <th>2691</th>\n",
       "      <td>3.379664</td>\n",
       "    </tr>\n",
       "    <tr>\n",
       "      <th>2694</th>\n",
       "      <td>5.787065</td>\n",
       "    </tr>\n",
       "    <tr>\n",
       "      <th>2695</th>\n",
       "      <td>4.617596</td>\n",
       "    </tr>\n",
       "    <tr>\n",
       "      <th>2700</th>\n",
       "      <td>13.191079</td>\n",
       "    </tr>\n",
       "    <tr>\n",
       "      <th>2708</th>\n",
       "      <td>7.136608</td>\n",
       "    </tr>\n",
       "  </tbody>\n",
       "</table>\n",
       "<p>295 rows × 1 columns</p>\n",
       "</div>"
      ],
      "text/plain": [
       "             speed_mph_mean\n",
       "MOVEMENT_ID                \n",
       "9                  3.821144\n",
       "20                 5.522853\n",
       "21                 3.640453\n",
       "44                 6.634154\n",
       "78                 3.838873\n",
       "...                     ...\n",
       "2691               3.379664\n",
       "2694               5.787065\n",
       "2695               4.617596\n",
       "2700              13.191079\n",
       "2708               7.136608\n",
       "\n",
       "[295 rows x 1 columns]"
      ]
     },
     "execution_count": 25,
     "metadata": {},
     "output_type": "execute_result"
    }
   ],
   "source": [
    "speed_variance_by_tract"
   ]
  },
  {
   "cell_type": "code",
   "execution_count": 26,
   "id": "450781dc",
   "metadata": {
    "deletable": false,
    "editable": false
   },
   "outputs": [
    {
     "data": {
      "text/html": [
       "<p><strong><pre style='display: inline;'>q1civ3</pre></strong> passed!</p>"
      ],
      "text/plain": [
       "q1civ3 results: All test cases passed!"
      ]
     },
     "execution_count": 26,
     "metadata": {},
     "output_type": "execute_result"
    }
   ],
   "source": [
    "grader.check(\"q1civ3\")"
   ]
  },
  {
   "cell_type": "markdown",
   "id": "c8719bc4",
   "metadata": {
    "deletable": false,
    "editable": false
   },
   "source": [
    "<!-- BEGIN QUESTION -->\n",
    "\n",
    "## 1.d. What would be the ideal spatial clustering?\n",
    "\n",
    "This is an active research problem in many spatiotemporal modeling communities, and there is no single agreed-upon answer. Answer both of the following specifically knowing that you'll need to analyze traffic patterns according to this spatial clustering:\n",
    "\n",
    "1. **What is a good metric for a spatial structure?** How do we define good? Bad? What information do we expect a spatial structure to yield? Use the above parts and questions to help answer this.\n",
    "2. **What would you do to optimize your own metric for success in a spatial structure?**\n",
    "\n",
    "See related articles:\n",
    "\n",
    "- Uber's H3 [link](https://eng.uber.com/h3/), which divides the world into hexagons\n",
    "- Traffic Analysis Zones (TAZ) [link](https://en.wikipedia.org/wiki/Traffic_analysis_zone), which takes census data and additionally accounts for vehicles per household when dividing space\n",
    "\n",
    "<!--\n",
    "BEGIN QUESTION\n",
    "name: q1d\n",
    "points: 3\n",
    "manual: True\n",
    "-->"
   ]
  },
  {
   "cell_type": "markdown",
   "id": "4fb3deac",
   "metadata": {},
   "source": [
    "A good metric for a spatial structure will accurately capture the traffic speed within the area. The smaller the within-cluster standard deviation of the traffic speed is, the better the clustering method of spatial structure is. The bigger the across-cluster standard deviation of the average traffic speed is, the better the clustering method of spatial structure is.\n",
    "\n",
    "When differences between subpopulations far outweigh differences within a subpopulation, it means the clustering method can separate data points efficiently - similar data points are divided into the same group."
   ]
  },
  {
   "cell_type": "markdown",
   "id": "e227a7d7",
   "metadata": {},
   "source": [
    "<!-- END QUESTION -->\n",
    "\n",
    "\n",
    "\n",
    "# Step 2 - Guided EDA: Understanding COVID Lockdown Impact on Traffic\n",
    "\n",
    "In this step, we'll examine the impact of COVID on traffic. In particular, we'll study 3 different questions:\n",
    "\n",
    "- How did lockdown affect traffic speed? What factors dictate how much lockdown affected traffic speed?\n",
    "- What areas of traffic were most impacted by lockdown?"
   ]
  },
  {
   "cell_type": "markdown",
   "id": "6df6189c",
   "metadata": {},
   "source": [
    "## 2.a. How did lockdown affect traffic speed?"
   ]
  },
  {
   "cell_type": "markdown",
   "id": "1a1d34be",
   "metadata": {
    "deletable": false,
    "editable": false
   },
   "source": [
    "<!-- BEGIN QUESTION -->\n",
    "\n",
    "### 2.a.i. Sort census tracts by average speed, pre-lockdown.\n",
    "\n",
    "Consider the pre-lockdown period to be March 1 - 13, before the first COVID-related restrictions (travel bans) were announced on March 14, 2020.\n",
    "\n",
    "1. **Report a DataFrame which includes the *names* of the 10 census tracts with the lowest average speed**, along with the average speed for each tract.\n",
    "2. **Report a DataFrame which includes the *names* of the 10 census tracts with the highest average speed**, along with the average speed for each tract.\n",
    "2. Do these names match your expectations for low speed or high speed traffic pre-lockdown?  What relationships do you notice? (What do the low-speed areas have in common? The high-speed areas?) For this specific question, answer qualitatively. No need to quantify. **Hint**: Look up some of the names on a map, to understand where they are.\n",
    "3. **Plot a histogram for all average speeds, pre-lockdown**.\n",
    "4. You will notice a long tail distribution of high speed traffic. What do you think this corresponds to in San Francisco? Write down your hypothesis.\n",
    "\n",
    "Hint: To start off, think about what joins may be useful to get the desired DataFrame.\n",
    "\n",
    "<!--\n",
    "BEGIN QUESTION\n",
    "name: q2ai1\n",
    "points: 3\n",
    "manual: True\n",
    "-->"
   ]
  },
  {
   "cell_type": "markdown",
   "id": "8cd6ab04",
   "metadata": {},
   "source": [
    "The names match my expectations for low speed and high speed traffic pre-lockdown. The higher volume of traffic, the lower speeds would be. \n",
    "\n",
    "These names match our expectation for pre-lockdown. The 10 lowest speed areas are the main streets in San Francisco, these are major areas of businesses and offices in Financial districts, civic center, and mission district. The 10 highest speed areas are mostly outside of San Francisco in less populated areas. \n",
    "\n",
    "And the long tail means that high speeds are very rare, most cars have low speeds, so this means there is obvious congestion in San Francisco."
   ]
  },
  {
   "cell_type": "markdown",
   "id": "f3492fb9",
   "metadata": {
    "deletable": false,
    "editable": false
   },
   "source": [
    "<!-- END QUESTION -->\n",
    "\n",
    "Answer the following question:\n",
    "<!--\n",
    "BEGIN QUESTION\n",
    "name: q2ai2\n",
    "points: 3\n",
    "-->"
   ]
  },
  {
   "cell_type": "code",
   "execution_count": 27,
   "id": "3d1543e9",
   "metadata": {
    "tags": []
   },
   "outputs": [
    {
     "data": {
      "text/html": [
       "<div>\n",
       "<style scoped>\n",
       "    .dataframe tbody tr th:only-of-type {\n",
       "        vertical-align: middle;\n",
       "    }\n",
       "\n",
       "    .dataframe tbody tr th {\n",
       "        vertical-align: top;\n",
       "    }\n",
       "\n",
       "    .dataframe thead th {\n",
       "        text-align: right;\n",
       "    }\n",
       "</style>\n",
       "<table border=\"1\" class=\"dataframe\">\n",
       "  <thead>\n",
       "    <tr style=\"text-align: right;\">\n",
       "      <th></th>\n",
       "      <th>MOVEMENT_ID</th>\n",
       "      <th>DISPLAY_NAME</th>\n",
       "      <th>geometry</th>\n",
       "      <th>speed_mph_mean</th>\n",
       "    </tr>\n",
       "  </thead>\n",
       "  <tbody>\n",
       "    <tr>\n",
       "      <th>0</th>\n",
       "      <td>285</td>\n",
       "      <td>1600 Maritime Street, Oakland</td>\n",
       "      <td>MULTIPOLYGON (((-122.33037 37.82058, -122.3161...</td>\n",
       "      <td>59.498552</td>\n",
       "    </tr>\n",
       "    <tr>\n",
       "      <th>1</th>\n",
       "      <td>495</td>\n",
       "      <td>4200 Shelter Creek Lane, San Bruno</td>\n",
       "      <td>MULTIPOLYGON (((-122.43101 37.61999, -122.4300...</td>\n",
       "      <td>53.867847</td>\n",
       "    </tr>\n",
       "    <tr>\n",
       "      <th>2</th>\n",
       "      <td>1653</td>\n",
       "      <td>Petrolite Street, Richmond</td>\n",
       "      <td>MULTIPOLYGON (((-122.42976 37.96540, -122.4185...</td>\n",
       "      <td>47.318340</td>\n",
       "    </tr>\n",
       "    <tr>\n",
       "      <th>3</th>\n",
       "      <td>2339</td>\n",
       "      <td>Frenchmans Creek Road, Half Moon Bay</td>\n",
       "      <td>MULTIPOLYGON (((-122.46816 37.56079, -122.4605...</td>\n",
       "      <td>47.225137</td>\n",
       "    </tr>\n",
       "    <tr>\n",
       "      <th>4</th>\n",
       "      <td>1744</td>\n",
       "      <td>1200 Helen Drive, Millbrae</td>\n",
       "      <td>MULTIPOLYGON (((-122.42820 37.60497, -122.4263...</td>\n",
       "      <td>45.492292</td>\n",
       "    </tr>\n",
       "    <tr>\n",
       "      <th>...</th>\n",
       "      <td>...</td>\n",
       "      <td>...</td>\n",
       "      <td>...</td>\n",
       "      <td>...</td>\n",
       "    </tr>\n",
       "    <tr>\n",
       "      <th>290</th>\n",
       "      <td>643</td>\n",
       "      <td>200 Myrtle Street, Tenderloin, San Francisco</td>\n",
       "      <td>MULTIPOLYGON (((-122.42146 37.78663, -122.4182...</td>\n",
       "      <td>13.490311</td>\n",
       "    </tr>\n",
       "    <tr>\n",
       "      <th>291</th>\n",
       "      <td>651</td>\n",
       "      <td>2900 22nd Street, Mission District, San Francisco</td>\n",
       "      <td>MULTIPOLYGON (((-122.41672 37.75717, -122.4123...</td>\n",
       "      <td>13.195865</td>\n",
       "    </tr>\n",
       "    <tr>\n",
       "      <th>292</th>\n",
       "      <td>1688</td>\n",
       "      <td>1100 Taylor Street, Nob Hill, San Francisco</td>\n",
       "      <td>MULTIPOLYGON (((-122.41629 37.79389, -122.4152...</td>\n",
       "      <td>12.945291</td>\n",
       "    </tr>\n",
       "    <tr>\n",
       "      <th>293</th>\n",
       "      <td>2340</td>\n",
       "      <td>0 Mason Street, Tenderloin, San Francisco</td>\n",
       "      <td>MULTIPOLYGON (((-122.41405 37.78279, -122.4107...</td>\n",
       "      <td>12.595120</td>\n",
       "    </tr>\n",
       "    <tr>\n",
       "      <th>294</th>\n",
       "      <td>1691</td>\n",
       "      <td>200 O'Farrell Street, Tenderloin, San Francisco</td>\n",
       "      <td>MULTIPOLYGON (((-122.41462 37.78558, -122.4129...</td>\n",
       "      <td>12.417079</td>\n",
       "    </tr>\n",
       "  </tbody>\n",
       "</table>\n",
       "<p>295 rows × 4 columns</p>\n",
       "</div>"
      ],
      "text/plain": [
       "     MOVEMENT_ID                                       DISPLAY_NAME  \\\n",
       "0            285                      1600 Maritime Street, Oakland   \n",
       "1            495                 4200 Shelter Creek Lane, San Bruno   \n",
       "2           1653                         Petrolite Street, Richmond   \n",
       "3           2339               Frenchmans Creek Road, Half Moon Bay   \n",
       "4           1744                         1200 Helen Drive, Millbrae   \n",
       "..           ...                                                ...   \n",
       "290          643       200 Myrtle Street, Tenderloin, San Francisco   \n",
       "291          651  2900 22nd Street, Mission District, San Francisco   \n",
       "292         1688        1100 Taylor Street, Nob Hill, San Francisco   \n",
       "293         2340          0 Mason Street, Tenderloin, San Francisco   \n",
       "294         1691    200 O'Farrell Street, Tenderloin, San Francisco   \n",
       "\n",
       "                                              geometry  speed_mph_mean  \n",
       "0    MULTIPOLYGON (((-122.33037 37.82058, -122.3161...       59.498552  \n",
       "1    MULTIPOLYGON (((-122.43101 37.61999, -122.4300...       53.867847  \n",
       "2    MULTIPOLYGON (((-122.42976 37.96540, -122.4185...       47.318340  \n",
       "3    MULTIPOLYGON (((-122.46816 37.56079, -122.4605...       47.225137  \n",
       "4    MULTIPOLYGON (((-122.42820 37.60497, -122.4263...       45.492292  \n",
       "..                                                 ...             ...  \n",
       "290  MULTIPOLYGON (((-122.42146 37.78663, -122.4182...       13.490311  \n",
       "291  MULTIPOLYGON (((-122.41672 37.75717, -122.4123...       13.195865  \n",
       "292  MULTIPOLYGON (((-122.41629 37.79389, -122.4152...       12.945291  \n",
       "293  MULTIPOLYGON (((-122.41405 37.78279, -122.4107...       12.595120  \n",
       "294  MULTIPOLYGON (((-122.41462 37.78558, -122.4129...       12.417079  \n",
       "\n",
       "[295 rows x 4 columns]"
      ]
     },
     "execution_count": 27,
     "metadata": {},
     "output_type": "execute_result"
    }
   ],
   "source": [
    "# compute the average speed per census tract (will use this later),\n",
    "# BEFORE the shelter-in-place was announced on March 14, 2020.\n",
    "# Autograder expects this to be a series\n",
    "averages_pre = speeds_to_tract[speeds_to_tract['day']<14][['MOVEMENT_ID','speed_mph_mean']].groupby(\"MOVEMENT_ID\").mean()['speed_mph_mean'].sort_values(ascending=False)\n",
    "# Autograder expects this to be a dataframe with name of census tract,\n",
    "# polygon for census tract, and average speed per census tract\n",
    "averages_pre_named = tract_to_gps.merge(averages_pre,how=\"right\",left_on=\"MOVEMENT_ID\",right_on=\"MOVEMENT_ID\")[[\"MOVEMENT_ID\",\"DISPLAY_NAME\",\"geometry\",\"speed_mph_mean\"]]          \n",
    "averages_pre_named"
   ]
  },
  {
   "cell_type": "code",
   "execution_count": 28,
   "id": "98b36e40",
   "metadata": {
    "deletable": false,
    "editable": false
   },
   "outputs": [
    {
     "data": {
      "text/html": [
       "<p><strong><pre style='display: inline;'>q2ai2</pre></strong> passed!</p>"
      ],
      "text/plain": [
       "q2ai2 results: All test cases passed!"
      ]
     },
     "execution_count": 28,
     "metadata": {},
     "output_type": "execute_result"
    }
   ],
   "source": [
    "grader.check(\"q2ai2\")"
   ]
  },
  {
   "cell_type": "markdown",
   "id": "bac8a88f",
   "metadata": {
    "deletable": false,
    "editable": false,
    "tags": []
   },
   "source": [
    "Report the lowest 10 census tracts with the lowest average speed\n",
    "Remember we want the NAME of each census tract too. For the autograder, please keep the name of the speed field, `speed_mph_mean`.\n",
    "\n",
    "<!--\n",
    "BEGIN QUESTION\n",
    "name: q2ai3\n",
    "points: 1\n",
    "-->"
   ]
  },
  {
   "cell_type": "code",
   "execution_count": 29,
   "id": "17f0d961",
   "metadata": {
    "tags": []
   },
   "outputs": [
    {
     "data": {
      "text/html": [
       "<div>\n",
       "<style scoped>\n",
       "    .dataframe tbody tr th:only-of-type {\n",
       "        vertical-align: middle;\n",
       "    }\n",
       "\n",
       "    .dataframe tbody tr th {\n",
       "        vertical-align: top;\n",
       "    }\n",
       "\n",
       "    .dataframe thead th {\n",
       "        text-align: right;\n",
       "    }\n",
       "</style>\n",
       "<table border=\"1\" class=\"dataframe\">\n",
       "  <thead>\n",
       "    <tr style=\"text-align: right;\">\n",
       "      <th></th>\n",
       "      <th>MOVEMENT_ID</th>\n",
       "      <th>DISPLAY_NAME</th>\n",
       "      <th>geometry</th>\n",
       "      <th>speed_mph_mean</th>\n",
       "    </tr>\n",
       "  </thead>\n",
       "  <tbody>\n",
       "    <tr>\n",
       "      <th>285</th>\n",
       "      <td>1674</td>\n",
       "      <td>200 Hyde Street, Tenderloin, San Francisco</td>\n",
       "      <td>MULTIPOLYGON (((-122.41771 37.78424, -122.4160...</td>\n",
       "      <td>13.944773</td>\n",
       "    </tr>\n",
       "    <tr>\n",
       "      <th>286</th>\n",
       "      <td>644</td>\n",
       "      <td>200 Jones Street, Tenderloin, San Francisco</td>\n",
       "      <td>MULTIPOLYGON (((-122.41443 37.78466, -122.4127...</td>\n",
       "      <td>13.626251</td>\n",
       "    </tr>\n",
       "    <tr>\n",
       "      <th>287</th>\n",
       "      <td>1245</td>\n",
       "      <td>500 Geary Street, Tenderloin, San Francisco</td>\n",
       "      <td>MULTIPOLYGON (((-122.41500 37.78745, -122.4133...</td>\n",
       "      <td>13.570625</td>\n",
       "    </tr>\n",
       "    <tr>\n",
       "      <th>288</th>\n",
       "      <td>1244</td>\n",
       "      <td>800 Jackson Street, Chinatown, San Francisco</td>\n",
       "      <td>MULTIPOLYGON (((-122.41172 37.79629, -122.4084...</td>\n",
       "      <td>13.549474</td>\n",
       "    </tr>\n",
       "    <tr>\n",
       "      <th>289</th>\n",
       "      <td>1689</td>\n",
       "      <td>200 Sutter Street, Financial District, San Fra...</td>\n",
       "      <td>MULTIPOLYGON (((-122.40879 37.79016, -122.4071...</td>\n",
       "      <td>13.502505</td>\n",
       "    </tr>\n",
       "    <tr>\n",
       "      <th>290</th>\n",
       "      <td>643</td>\n",
       "      <td>200 Myrtle Street, Tenderloin, San Francisco</td>\n",
       "      <td>MULTIPOLYGON (((-122.42146 37.78663, -122.4182...</td>\n",
       "      <td>13.490311</td>\n",
       "    </tr>\n",
       "    <tr>\n",
       "      <th>291</th>\n",
       "      <td>651</td>\n",
       "      <td>2900 22nd Street, Mission District, San Francisco</td>\n",
       "      <td>MULTIPOLYGON (((-122.41672 37.75717, -122.4123...</td>\n",
       "      <td>13.195865</td>\n",
       "    </tr>\n",
       "    <tr>\n",
       "      <th>292</th>\n",
       "      <td>1688</td>\n",
       "      <td>1100 Taylor Street, Nob Hill, San Francisco</td>\n",
       "      <td>MULTIPOLYGON (((-122.41629 37.79389, -122.4152...</td>\n",
       "      <td>12.945291</td>\n",
       "    </tr>\n",
       "    <tr>\n",
       "      <th>293</th>\n",
       "      <td>2340</td>\n",
       "      <td>0 Mason Street, Tenderloin, San Francisco</td>\n",
       "      <td>MULTIPOLYGON (((-122.41405 37.78279, -122.4107...</td>\n",
       "      <td>12.595120</td>\n",
       "    </tr>\n",
       "    <tr>\n",
       "      <th>294</th>\n",
       "      <td>1691</td>\n",
       "      <td>200 O'Farrell Street, Tenderloin, San Francisco</td>\n",
       "      <td>MULTIPOLYGON (((-122.41462 37.78558, -122.4129...</td>\n",
       "      <td>12.417079</td>\n",
       "    </tr>\n",
       "  </tbody>\n",
       "</table>\n",
       "</div>"
      ],
      "text/plain": [
       "     MOVEMENT_ID                                       DISPLAY_NAME  \\\n",
       "285         1674         200 Hyde Street, Tenderloin, San Francisco   \n",
       "286          644        200 Jones Street, Tenderloin, San Francisco   \n",
       "287         1245        500 Geary Street, Tenderloin, San Francisco   \n",
       "288         1244       800 Jackson Street, Chinatown, San Francisco   \n",
       "289         1689  200 Sutter Street, Financial District, San Fra...   \n",
       "290          643       200 Myrtle Street, Tenderloin, San Francisco   \n",
       "291          651  2900 22nd Street, Mission District, San Francisco   \n",
       "292         1688        1100 Taylor Street, Nob Hill, San Francisco   \n",
       "293         2340          0 Mason Street, Tenderloin, San Francisco   \n",
       "294         1691    200 O'Farrell Street, Tenderloin, San Francisco   \n",
       "\n",
       "                                              geometry  speed_mph_mean  \n",
       "285  MULTIPOLYGON (((-122.41771 37.78424, -122.4160...       13.944773  \n",
       "286  MULTIPOLYGON (((-122.41443 37.78466, -122.4127...       13.626251  \n",
       "287  MULTIPOLYGON (((-122.41500 37.78745, -122.4133...       13.570625  \n",
       "288  MULTIPOLYGON (((-122.41172 37.79629, -122.4084...       13.549474  \n",
       "289  MULTIPOLYGON (((-122.40879 37.79016, -122.4071...       13.502505  \n",
       "290  MULTIPOLYGON (((-122.42146 37.78663, -122.4182...       13.490311  \n",
       "291  MULTIPOLYGON (((-122.41672 37.75717, -122.4123...       13.195865  \n",
       "292  MULTIPOLYGON (((-122.41629 37.79389, -122.4152...       12.945291  \n",
       "293  MULTIPOLYGON (((-122.41405 37.78279, -122.4107...       12.595120  \n",
       "294  MULTIPOLYGON (((-122.41462 37.78558, -122.4129...       12.417079  "
      ]
     },
     "execution_count": 29,
     "metadata": {},
     "output_type": "execute_result"
    }
   ],
   "source": [
    "bottom10_averages_pre = averages_pre_named.iloc[-10:]\n",
    "bottom10_averages_pre"
   ]
  },
  {
   "cell_type": "code",
   "execution_count": 30,
   "id": "2f31cb10",
   "metadata": {
    "deletable": false,
    "editable": false
   },
   "outputs": [
    {
     "data": {
      "text/html": [
       "<p><strong><pre style='display: inline;'>q2ai3</pre></strong> passed!</p>"
      ],
      "text/plain": [
       "q2ai3 results: All test cases passed!"
      ]
     },
     "execution_count": 30,
     "metadata": {},
     "output_type": "execute_result"
    }
   ],
   "source": [
    "grader.check(\"q2ai3\")"
   ]
  },
  {
   "cell_type": "markdown",
   "id": "4025b156",
   "metadata": {
    "deletable": false,
    "editable": false
   },
   "source": [
    "Report the highest 10 census tracts with the highest average speed.\n",
    "\n",
    "<!--\n",
    "BEGIN QUESTION\n",
    "name: q2ai4\n",
    "points: 1\n",
    "-->"
   ]
  },
  {
   "cell_type": "code",
   "execution_count": 31,
   "id": "99de81ce",
   "metadata": {},
   "outputs": [
    {
     "data": {
      "text/html": [
       "<div>\n",
       "<style scoped>\n",
       "    .dataframe tbody tr th:only-of-type {\n",
       "        vertical-align: middle;\n",
       "    }\n",
       "\n",
       "    .dataframe tbody tr th {\n",
       "        vertical-align: top;\n",
       "    }\n",
       "\n",
       "    .dataframe thead th {\n",
       "        text-align: right;\n",
       "    }\n",
       "</style>\n",
       "<table border=\"1\" class=\"dataframe\">\n",
       "  <thead>\n",
       "    <tr style=\"text-align: right;\">\n",
       "      <th></th>\n",
       "      <th>MOVEMENT_ID</th>\n",
       "      <th>DISPLAY_NAME</th>\n",
       "      <th>geometry</th>\n",
       "      <th>speed_mph_mean</th>\n",
       "    </tr>\n",
       "  </thead>\n",
       "  <tbody>\n",
       "    <tr>\n",
       "      <th>0</th>\n",
       "      <td>285</td>\n",
       "      <td>1600 Maritime Street, Oakland</td>\n",
       "      <td>MULTIPOLYGON (((-122.33037 37.82058, -122.3161...</td>\n",
       "      <td>59.498552</td>\n",
       "    </tr>\n",
       "    <tr>\n",
       "      <th>1</th>\n",
       "      <td>495</td>\n",
       "      <td>4200 Shelter Creek Lane, San Bruno</td>\n",
       "      <td>MULTIPOLYGON (((-122.43101 37.61999, -122.4300...</td>\n",
       "      <td>53.867847</td>\n",
       "    </tr>\n",
       "    <tr>\n",
       "      <th>2</th>\n",
       "      <td>1653</td>\n",
       "      <td>Petrolite Street, Richmond</td>\n",
       "      <td>MULTIPOLYGON (((-122.42976 37.96540, -122.4185...</td>\n",
       "      <td>47.318340</td>\n",
       "    </tr>\n",
       "    <tr>\n",
       "      <th>3</th>\n",
       "      <td>2339</td>\n",
       "      <td>Frenchmans Creek Road, Half Moon Bay</td>\n",
       "      <td>MULTIPOLYGON (((-122.46816 37.56079, -122.4605...</td>\n",
       "      <td>47.225137</td>\n",
       "    </tr>\n",
       "    <tr>\n",
       "      <th>4</th>\n",
       "      <td>1744</td>\n",
       "      <td>1200 Helen Drive, Millbrae</td>\n",
       "      <td>MULTIPOLYGON (((-122.42820 37.60497, -122.4263...</td>\n",
       "      <td>45.492292</td>\n",
       "    </tr>\n",
       "    <tr>\n",
       "      <th>5</th>\n",
       "      <td>2244</td>\n",
       "      <td>0 Crystal Springs Terrace, Hillsborough Park, ...</td>\n",
       "      <td>MULTIPOLYGON (((-122.37189 37.54776, -122.3710...</td>\n",
       "      <td>44.304919</td>\n",
       "    </tr>\n",
       "    <tr>\n",
       "      <th>6</th>\n",
       "      <td>2660</td>\n",
       "      <td>0 Burgess Court, Sausalito</td>\n",
       "      <td>MULTIPOLYGON (((-122.52032 37.87046, -122.5193...</td>\n",
       "      <td>43.848188</td>\n",
       "    </tr>\n",
       "    <tr>\n",
       "      <th>7</th>\n",
       "      <td>1955</td>\n",
       "      <td>Liccicitos Road, Moss Beach</td>\n",
       "      <td>MULTIPOLYGON (((-122.52036 37.57534, -122.5180...</td>\n",
       "      <td>42.784267</td>\n",
       "    </tr>\n",
       "    <tr>\n",
       "      <th>8</th>\n",
       "      <td>1732</td>\n",
       "      <td>0 Longview Drive, Westlake, Daly City</td>\n",
       "      <td>MULTIPOLYGON (((-122.50053 37.70083, -122.4961...</td>\n",
       "      <td>40.587037</td>\n",
       "    </tr>\n",
       "    <tr>\n",
       "      <th>9</th>\n",
       "      <td>1743</td>\n",
       "      <td>600 San Bruno Avenue East, San Bruno</td>\n",
       "      <td>MULTIPOLYGON (((-122.41676 37.63935, -122.4115...</td>\n",
       "      <td>38.944079</td>\n",
       "    </tr>\n",
       "  </tbody>\n",
       "</table>\n",
       "</div>"
      ],
      "text/plain": [
       "   MOVEMENT_ID                                       DISPLAY_NAME  \\\n",
       "0          285                      1600 Maritime Street, Oakland   \n",
       "1          495                 4200 Shelter Creek Lane, San Bruno   \n",
       "2         1653                         Petrolite Street, Richmond   \n",
       "3         2339               Frenchmans Creek Road, Half Moon Bay   \n",
       "4         1744                         1200 Helen Drive, Millbrae   \n",
       "5         2244  0 Crystal Springs Terrace, Hillsborough Park, ...   \n",
       "6         2660                         0 Burgess Court, Sausalito   \n",
       "7         1955                        Liccicitos Road, Moss Beach   \n",
       "8         1732              0 Longview Drive, Westlake, Daly City   \n",
       "9         1743               600 San Bruno Avenue East, San Bruno   \n",
       "\n",
       "                                            geometry  speed_mph_mean  \n",
       "0  MULTIPOLYGON (((-122.33037 37.82058, -122.3161...       59.498552  \n",
       "1  MULTIPOLYGON (((-122.43101 37.61999, -122.4300...       53.867847  \n",
       "2  MULTIPOLYGON (((-122.42976 37.96540, -122.4185...       47.318340  \n",
       "3  MULTIPOLYGON (((-122.46816 37.56079, -122.4605...       47.225137  \n",
       "4  MULTIPOLYGON (((-122.42820 37.60497, -122.4263...       45.492292  \n",
       "5  MULTIPOLYGON (((-122.37189 37.54776, -122.3710...       44.304919  \n",
       "6  MULTIPOLYGON (((-122.52032 37.87046, -122.5193...       43.848188  \n",
       "7  MULTIPOLYGON (((-122.52036 37.57534, -122.5180...       42.784267  \n",
       "8  MULTIPOLYGON (((-122.50053 37.70083, -122.4961...       40.587037  \n",
       "9  MULTIPOLYGON (((-122.41676 37.63935, -122.4115...       38.944079  "
      ]
     },
     "execution_count": 31,
     "metadata": {},
     "output_type": "execute_result"
    }
   ],
   "source": [
    "top10_averages_pre = averages_pre_named.iloc[0:10]\n",
    "top10_averages_pre"
   ]
  },
  {
   "cell_type": "code",
   "execution_count": 32,
   "id": "b7a0890d",
   "metadata": {
    "deletable": false,
    "editable": false
   },
   "outputs": [
    {
     "data": {
      "text/html": [
       "<p><strong><pre style='display: inline;'>q2ai4</pre></strong> passed!</p>"
      ],
      "text/plain": [
       "q2ai4 results: All test cases passed!"
      ]
     },
     "execution_count": 32,
     "metadata": {},
     "output_type": "execute_result"
    }
   ],
   "source": [
    "grader.check(\"q2ai4\")"
   ]
  },
  {
   "cell_type": "markdown",
   "id": "236db138",
   "metadata": {
    "deletable": false,
    "editable": false
   },
   "source": [
    "<!-- BEGIN QUESTION -->\n",
    "\n",
    "Plot the histogram\n",
    "<!--\n",
    "BEGIN QUESTION\n",
    "name: q2ai5\n",
    "points: 1\n",
    "manual: True\n",
    "-->"
   ]
  },
  {
   "cell_type": "code",
   "execution_count": 33,
   "id": "841c3925",
   "metadata": {
    "tags": []
   },
   "outputs": [
    {
     "data": {
      "image/png": "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\n",
      "text/plain": [
       "<Figure size 432x288 with 1 Axes>"
      ]
     },
     "metadata": {
      "needs_background": "light"
     },
     "output_type": "display_data"
    }
   ],
   "source": [
    "plt.hist(averages_pre)\n",
    "plt.xlabel('within-cluster average speeds, pre-lockdown')\n",
    "plt.ylabel('number of clusters')\n",
    "plt.title('Histogram of pre-lockdown average speeds');"
   ]
  },
  {
   "cell_type": "markdown",
   "id": "5fb7daae",
   "metadata": {
    "deletable": false,
    "editable": false
   },
   "source": [
    "<!-- END QUESTION -->\n",
    "\n",
    "<!-- BEGIN QUESTION -->\n",
    "\n",
    "### 2.a.ii. Sort census tracts by average speed, post-lockdown.\n",
    "\n",
    "I suggest checking the top 10 and bottom 10 tracts by average speed, post-lockdown. Consider the post-lockdown period to be March 14 - 31, after the first COVID restrictions were established on March 14, 2020. It's a healthy sanity check. For this question, you should report:\n",
    "\n",
    "- **Plot a histogram for all average speeds, post-lockdown.**\n",
    "- **What are the major differences between this post-lockdown histogram relative to the pre-lockdown histogram above**? Anything surprising? What did you expect, and what did you find?\n",
    "\n",
    "Write the written answers in the cell below, and the coding answers in the cells after that.\n",
    "\n",
    "<!--\n",
    "BEGIN QUESTION\n",
    "name: q2aii1\n",
    "points: 1\n",
    "manual: True\n",
    "-->"
   ]
  },
  {
   "cell_type": "markdown",
   "id": "21badcd1",
   "metadata": {},
   "source": [
    "The major differences between the post-lockdown histogram relative to the pre-lockdown histogram is that the number of clusters with high within-cluster average speeds increased and the number of clusters with low within-cluster average speeds decreased. The average speed of all clusters increased after lockdown. The maximum speed of post-lockdown is also higher than that of pre-lockdown. This is not surprising because there were less cars and congestion issues were relieved after the lockdown."
   ]
  },
  {
   "cell_type": "markdown",
   "id": "0267b65f",
   "metadata": {
    "deletable": false,
    "editable": false
   },
   "source": [
    "<!-- END QUESTION -->\n",
    "\n",
    "<!--\n",
    "BEGIN QUESTION\n",
    "name: q2aii2\n",
    "points: 2\n",
    "-->"
   ]
  },
  {
   "cell_type": "code",
   "execution_count": 34,
   "id": "db352a84",
   "metadata": {},
   "outputs": [
    {
     "data": {
      "text/html": [
       "<div>\n",
       "<style scoped>\n",
       "    .dataframe tbody tr th:only-of-type {\n",
       "        vertical-align: middle;\n",
       "    }\n",
       "\n",
       "    .dataframe tbody tr th {\n",
       "        vertical-align: top;\n",
       "    }\n",
       "\n",
       "    .dataframe thead th {\n",
       "        text-align: right;\n",
       "    }\n",
       "</style>\n",
       "<table border=\"1\" class=\"dataframe\">\n",
       "  <thead>\n",
       "    <tr style=\"text-align: right;\">\n",
       "      <th></th>\n",
       "      <th>MOVEMENT_ID</th>\n",
       "      <th>DISPLAY_NAME</th>\n",
       "      <th>geometry</th>\n",
       "      <th>speed_mph_mean</th>\n",
       "    </tr>\n",
       "  </thead>\n",
       "  <tbody>\n",
       "    <tr>\n",
       "      <th>0</th>\n",
       "      <td>1458</td>\n",
       "      <td>0 Colorados Drive, Millbrae</td>\n",
       "      <td>MULTIPOLYGON (((-122.41304 37.59217, -122.4139...</td>\n",
       "      <td>70.464594</td>\n",
       "    </tr>\n",
       "    <tr>\n",
       "      <th>1</th>\n",
       "      <td>2244</td>\n",
       "      <td>0 Crystal Springs Terrace, Hillsborough Park, ...</td>\n",
       "      <td>MULTIPOLYGON (((-122.37189 37.54776, -122.3710...</td>\n",
       "      <td>69.823830</td>\n",
       "    </tr>\n",
       "    <tr>\n",
       "      <th>2</th>\n",
       "      <td>1744</td>\n",
       "      <td>1200 Helen Drive, Millbrae</td>\n",
       "      <td>MULTIPOLYGON (((-122.42820 37.60497, -122.4263...</td>\n",
       "      <td>67.013959</td>\n",
       "    </tr>\n",
       "    <tr>\n",
       "      <th>3</th>\n",
       "      <td>2339</td>\n",
       "      <td>Frenchmans Creek Road, Half Moon Bay</td>\n",
       "      <td>MULTIPOLYGON (((-122.46816 37.56079, -122.4605...</td>\n",
       "      <td>66.958324</td>\n",
       "    </tr>\n",
       "    <tr>\n",
       "      <th>4</th>\n",
       "      <td>495</td>\n",
       "      <td>4200 Shelter Creek Lane, San Bruno</td>\n",
       "      <td>MULTIPOLYGON (((-122.43101 37.61999, -122.4300...</td>\n",
       "      <td>65.053061</td>\n",
       "    </tr>\n",
       "    <tr>\n",
       "      <th>...</th>\n",
       "      <td>...</td>\n",
       "      <td>...</td>\n",
       "      <td>...</td>\n",
       "      <td>...</td>\n",
       "    </tr>\n",
       "    <tr>\n",
       "      <th>280</th>\n",
       "      <td>1259</td>\n",
       "      <td>2100 Divisadero Street, Pacific Heights, San F...</td>\n",
       "      <td>MULTIPOLYGON (((-122.44612 37.79100, -122.4394...</td>\n",
       "      <td>15.219232</td>\n",
       "    </tr>\n",
       "    <tr>\n",
       "      <th>281</th>\n",
       "      <td>1258</td>\n",
       "      <td>2600 Broadway, Pacific Heights, San Francisco</td>\n",
       "      <td>MULTIPOLYGON (((-122.44673 37.79471, -122.4402...</td>\n",
       "      <td>14.960722</td>\n",
       "    </tr>\n",
       "    <tr>\n",
       "      <th>282</th>\n",
       "      <td>651</td>\n",
       "      <td>2900 22nd Street, Mission District, San Francisco</td>\n",
       "      <td>MULTIPOLYGON (((-122.41672 37.75717, -122.4123...</td>\n",
       "      <td>14.355647</td>\n",
       "    </tr>\n",
       "    <tr>\n",
       "      <th>283</th>\n",
       "      <td>1691</td>\n",
       "      <td>200 O'Farrell Street, Tenderloin, San Francisco</td>\n",
       "      <td>MULTIPOLYGON (((-122.41462 37.78558, -122.4129...</td>\n",
       "      <td>14.157774</td>\n",
       "    </tr>\n",
       "    <tr>\n",
       "      <th>284</th>\n",
       "      <td>1688</td>\n",
       "      <td>1100 Taylor Street, Nob Hill, San Francisco</td>\n",
       "      <td>MULTIPOLYGON (((-122.41629 37.79389, -122.4152...</td>\n",
       "      <td>13.947161</td>\n",
       "    </tr>\n",
       "  </tbody>\n",
       "</table>\n",
       "<p>285 rows × 4 columns</p>\n",
       "</div>"
      ],
      "text/plain": [
       "     MOVEMENT_ID                                       DISPLAY_NAME  \\\n",
       "0           1458                        0 Colorados Drive, Millbrae   \n",
       "1           2244  0 Crystal Springs Terrace, Hillsborough Park, ...   \n",
       "2           1744                         1200 Helen Drive, Millbrae   \n",
       "3           2339               Frenchmans Creek Road, Half Moon Bay   \n",
       "4            495                 4200 Shelter Creek Lane, San Bruno   \n",
       "..           ...                                                ...   \n",
       "280         1259  2100 Divisadero Street, Pacific Heights, San F...   \n",
       "281         1258      2600 Broadway, Pacific Heights, San Francisco   \n",
       "282          651  2900 22nd Street, Mission District, San Francisco   \n",
       "283         1691    200 O'Farrell Street, Tenderloin, San Francisco   \n",
       "284         1688        1100 Taylor Street, Nob Hill, San Francisco   \n",
       "\n",
       "                                              geometry  speed_mph_mean  \n",
       "0    MULTIPOLYGON (((-122.41304 37.59217, -122.4139...       70.464594  \n",
       "1    MULTIPOLYGON (((-122.37189 37.54776, -122.3710...       69.823830  \n",
       "2    MULTIPOLYGON (((-122.42820 37.60497, -122.4263...       67.013959  \n",
       "3    MULTIPOLYGON (((-122.46816 37.56079, -122.4605...       66.958324  \n",
       "4    MULTIPOLYGON (((-122.43101 37.61999, -122.4300...       65.053061  \n",
       "..                                                 ...             ...  \n",
       "280  MULTIPOLYGON (((-122.44612 37.79100, -122.4394...       15.219232  \n",
       "281  MULTIPOLYGON (((-122.44673 37.79471, -122.4402...       14.960722  \n",
       "282  MULTIPOLYGON (((-122.41672 37.75717, -122.4123...       14.355647  \n",
       "283  MULTIPOLYGON (((-122.41462 37.78558, -122.4129...       14.157774  \n",
       "284  MULTIPOLYGON (((-122.41629 37.79389, -122.4152...       13.947161  \n",
       "\n",
       "[285 rows x 4 columns]"
      ]
     },
     "execution_count": 34,
     "metadata": {},
     "output_type": "execute_result"
    }
   ],
   "source": [
    "# compute the average speed per census tract (will use this later),\n",
    "# AFTER (and including) the first COVID restrictions were put into effect.\n",
    "# Autograder expects this to be a series\n",
    "averages_post = speeds_to_tract[speeds_to_tract['day']>13][['MOVEMENT_ID','speed_mph_mean']].groupby(\"MOVEMENT_ID\").mean()['speed_mph_mean'].sort_values(ascending=False)\n",
    "# Autograder expects this to be a dataframe with name of census tract,\n",
    "# polygon for census tract, and average speed per census tract\n",
    "averages_post_named = tract_to_gps.merge(averages_post,how=\"right\",left_on=\"MOVEMENT_ID\",right_on=\"MOVEMENT_ID\")[[\"MOVEMENT_ID\",\"DISPLAY_NAME\",\"geometry\",\"speed_mph_mean\"]]\n",
    "averages_post_named"
   ]
  },
  {
   "cell_type": "code",
   "execution_count": 35,
   "id": "abae5025",
   "metadata": {
    "deletable": false,
    "editable": false
   },
   "outputs": [
    {
     "data": {
      "text/html": [
       "<p><strong><pre style='display: inline;'>q2aii2</pre></strong> passed!</p>"
      ],
      "text/plain": [
       "q2aii2 results: All test cases passed!"
      ]
     },
     "execution_count": 35,
     "metadata": {},
     "output_type": "execute_result"
    }
   ],
   "source": [
    "grader.check(\"q2aii2\")"
   ]
  },
  {
   "cell_type": "markdown",
   "id": "49d57ac7",
   "metadata": {
    "deletable": false,
    "editable": false
   },
   "source": [
    "<!-- BEGIN QUESTION -->\n",
    "\n",
    "Plot the histogram\n",
    "<!--\n",
    "BEGIN QUESTION\n",
    "name: q2aii3\n",
    "points: 1\n",
    "manual: True\n",
    "-->"
   ]
  },
  {
   "cell_type": "code",
   "execution_count": 36,
   "id": "a2ad73d9",
   "metadata": {},
   "outputs": [
    {
     "data": {
      "image/png": "iVBORw0KGgoAAAANSUhEUgAAAX4AAAEWCAYAAABhffzLAAAAOXRFWHRTb2Z0d2FyZQBNYXRwbG90bGliIHZlcnNpb24zLjQuMywgaHR0cHM6Ly9tYXRwbG90bGliLm9yZy/MnkTPAAAACXBIWXMAAAsTAAALEwEAmpwYAAAlyElEQVR4nO3debgcVZ3/8fcnYQ0EQiDBsIYloqASILIIYtgcULbfKAojGhDJKCrgBhEdDahjFIcRxwUzbBn2TSCCDxIjIeyQQNgEJgiBICEJaEgCwxa+vz/OaVK56Xtv35tUd+6tz+t5+ulauqq+p7r626dPVZ9SRGBmZtXRp9UBmJlZcznxm5lVjBO/mVnFOPGbmVWME7+ZWcU48ZuZVYwT/0om6VFJI1sdRytJ+n+SZktaLGmnVsdTI+lCST9cwXWMlXRxg68dKem5FdmerZokzZK0f6vj6C4n/i6o92ZLOkbS7bXxiNghIqZ0sp6hkkLSaiWF2mo/A74SEetGxAPN2KCkKZK+0IxtmfV0Tvy90CrwhbIl8GiLY7AmWQWON+siJ/6VrPirQNKukqZJWihprqSz8sum5ucFuTlkD0l9JH1X0jOS5kn6H0nrF9b7uTzvJUn/1mY7YyVdLeliSQuBY/K275K0QNIcSb+UtEZhfSHpBEkzJS2S9ANJ2+RlFkq6svj6NmWsG6ukNSUtBvoCD0r6azvLh6QTJT0l6UVJZ0rq09G687y1chlfyuW6T9LGkn4EfBj4Zd6fv2zwvTpe0pOS/i5poqRNCvN2kDQpz5sr6bQ6y68u6TJJ10haQ9LauTnpH5L+Anywzevfm3+ZLMhNgofm6VvlabV9cK6keYXlLpZ0ch6ekt+rO/L7drOkjdop3waSbpA0P8d0g6TN8rwjJU1r8/qvSZqYh9eU9DNJz+bynyNp7TxvpKTnJJ0q6QXggo62VSjj1BzznyT9SoUmM0m7S7oz74cH1UFzad7u3/K6npC0X55e+xxckefdL2nHwnKb5PdqvqSnJZ1YmNdH0hhJf83H15WSBhbmf1ZLP3/faRNPe5/zVVdE+NHgA5gF7N9m2jHA7fVeA9wFfDYPrwvsnoeHAgGsVlju88CTwNb5tb8DLsrztgcWA3sBa5CaUt4sbGdsHj+c9GW+NrALsDuwWt7eY8DJhe0FMBFYD9gBeB2YnLe/PvAXYFQ7+6HdWAvr3raD/RjALcBAYAvgf4EvNLAf/hX4PdCP9OWyC7Benjelto4Otnsh8MM8vC/wIrAzsCbwX8DUPK8/MAf4BrBWHt+tsK8vzvv4xrzOvnneOOC2XK7NgUeA5/K81XO5Tsvv4b7AImC7PP9ZYJc8/ATwFPDewrydCuX8K/DuHMMUYFw75d0Q+ETeX/2Bq4Dr8rx+efvDCq+/DzgyD/88Hx8D87K/B36c540E3gJ+kvfd2h1tq/BZ+Fku+17AQuDiPG9T4CXgY6Tj94A8PqhOmbYDZgObFD5L27T5HHwy7+9vAk/n4T7AdOB7OYat8z7+p7zsycDdwGa5TL8FLmvz+ds7zzsrl7/Dz/mq/Gh5AD3pQUrqi4EFhcertJ/4pwKnAxu1Wc9Qlk/8k4ETCuPb5YN4tXywXlaY1w94g2UT/9ROYj8ZuLYwHsCehfHpwKmF8f8Aft7OutqNtbDuzhL/gYXxE4DJDeyHzwN3Ah+os84pdC3xnwf8tDBv3bydocBRwAPtrGMsKSHeCvwCUGHeU23KNZqlif/DwAtAn8L8y4Cxefgi4OvAu0iJ/6fAF4Gt8nHWp1DO77bZdzc1ePwOB/5RGL8Y+F4eHkb6IugHCHiFnFDz/D2Ap/PwyHz8rdXItkhf7m8B/dpsu5b4T6VQccjT/kidigewLTAP2B9Yvc57c3dhvA/pC/zDwG7As21e/23ggjz8GLBfYd4Qlv38XV6Ytw7Lfv7qfs5X5Yeberru8IgYUHuQPnjtOY5UM3s8N0sc3MFrNwGeKYw/QzroNs7zZtdmRMSrpBpR0eziiKR355/bLyg1//w70LZJYG5h+P/qjK/bjVgbVYz3mbzOztZ9ESkhXC7peUk/lbR6vZVLOi03+yyWdE5nZYiIxaR9uimptl63mSrbHfgAqaZd7OVwmfepTTk2AWZHxNtt5m+ah28lJdS9SYlkCvCR/LitzXIvFIZfpZ33SVI/Sb/NTRQL83oHSOqbX3Ip6UsO4F9INfRXgUGkL4DpuellAXBTnl4zPyJea3BbmwB/z+uuKe6nLYEjatvK29uLlHyXERFPkioxY4F5ki5XoYmOZT8nbwPP5e1vCWzSZhunsfSY3RK4tjDvMWAJ9T9/r7Ds568rn/NVghN/iSJiZkQcBQwm/Sy+WtI6pBpvW8+TDr6aWi1pLqnWUmwvrf20XmZzbcZ/AzxO+im/HukgV/dL03Csjdq8zfLPd7buiHgzIk6PiO2BDwEHA5/Lr1um/BHx75GuKlo3Ir7YWRny+7Ih8DfSh3ybDmK/GfgxMFlS8ctuTp1yFbe3ea0dvzD/b3n4VlLNdGQevh3Yk5T4b+0glo58g/SLabd8DOydp9eOg5uBjSQNJ30BXJqnv0j64t+hUMlZPyKKXzBtj7eOtjUHGCipX+H1xf00m1TjH1B4rBMR4+oVKiIujYi9SO9fkD5by6037+vNSPt+NukXS3Eb/SPiY4UYDmozf62I+Btt3tdcjnc+fx18zldZTvwlknS0pEG55rEgT14CzAfeJrUz1lwGfC2fBFuXVEO/IiLeAq4GDpH0IaUTrqfTeRLvT2pHXSzpPcCXVla5Oom1Ud/KJwQ3B04Cruhs3ZL2kfT+XItcSPopviQvN5dl92dnLgWOlTRc0pp5O/dExCzgBuBdkk5WOsnZX9JuxYUj4qd5HZO19OTqlcC3c7k2A75aWOQeUvPJKUonhUcChwCX5/XNJCXbo0nNdgtzmT5B9xN//7zOBflE5ffblKF2bJ1JasuflKe/Dfw38J+SBgNI2lTSP3VnWxHxDDANGKt0EnyPXPaai0nH9z9J6qt0En+kCieHayRtJ2nf/J69lre5pPCSXST9s9KVRieTzl3dDdwLLFQ6Mbx23s77JNVOwJ8D/EjSlnk7gyQdluddDRwsaa/8+TuDQu7s4HO+ynLiL9eBwKNKV7qcTTpx9lr+yfsj4I7803J34HxSU8ZU0gmp18iJIyIezcOXk2ofi0jtnK93sO1vkn6+LyJ9iK/o4LVd1W6sXXA96bzCDNJJ0vMaWPe7SB/ChaSf4reSkgak/ftJpStKftHZxiNiMvBvwDWkfboNcGSet4h0gvEQUrPKTGCfOuv4AXAd8Kec7E4nNd88TapNX1R47RvAocBBpBr1r4HPRcTjhVXeCrwUEc8WxgU80Fl52vFz0onXF0nJ76Y6r7mU1F5+VZsv7lNJJ6Pvzk03fyLV6Lu7rc+QzhO8BPyQdDy+DhARs4HDSL9K55Nq39+ifn5ak3QS/UXSezM4L1dzPfBp4B/AZ4F/zr8Ul5Dez+Gk9+dF4FzShQyQjp+JwM2SFuUy7JbjexT4ct5Xc/K6i3/Mq/s572BftZyWbaK0niDXhBeQmnGebnE4XSYpSLE/2epYrDUkXQE8HhHf7/TFja9zLOmigqNX1jp7K9f4ewhJh+QTaOuQLot7mHQFkdkqT9IHlf4n0kfSgaQa/nUtDquynPh7jsNIJ6meJ116d2T455r1HO8iXam0mHQZ7JeiSd152PLc1GNmVjGu8ZuZVUyP6Fxpo402iqFDh7Y6DDOzHmX69OkvRsSgttN7ROIfOnQo06ZN6/yFZmb2DknP1Jvuph4zs4px4jczqxgnfjOzinHiNzOrGCd+M7OKceI3M6sYJ34zs4px4jczqxgnfjOziukR/9ztqYaOubEl25017uMt2a6Z9Qyu8ZuZVYwTv5lZxTjxm5lVjBO/mVnFOPGbmVWME7+ZWcU48ZuZVYwTv5lZxTjxm5lVTGmJX9J2kmYUHgslnSxpoKRJkmbm5w3KisHMzJZXWuKPiCciYnhEDAd2AV4FrgXGAJMjYhgwOY+bmVmTNKupZz/grxHxDHAYMCFPnwAc3qQYzMyM5iX+I4HL8vDGETEHID8PblIMZmZGExK/pDWAQ4GrurjcaEnTJE2bP39+OcGZmVVQM2r8BwH3R8TcPD5X0hCA/Dyv3kIRMT4iRkTEiEGDBjUhTDOzamhGf/xHsbSZB2AiMAoYl5+vb0IMleL7AJhZR0qt8UvqBxwA/K4weRxwgKSZed64MmMwM7NllVrjj4hXgQ3bTHuJdJWPmZm1gP+5a2ZWMU78ZmYV48RvZlYxTvxmZhXjxG9mVjFO/GZmFePEb2ZWMU78ZmYV48RvZlYxTvxmZhXjxG9mVjFO/GZmFePEb2ZWMU78ZmYV48RvZlYxTvxmZhXjxG9mVjFO/GZmFePEb2ZWMWXfbH2ApKslPS7pMUl7SBooaZKkmfl5gzJjMDOzZZVd4z8buCki3gPsCDwGjAEmR8QwYHIeNzOzJikt8UtaD9gbOA8gIt6IiAXAYcCE/LIJwOFlxWBmZssrs8a/NTAfuEDSA5LOlbQOsHFEzAHIz4PrLSxptKRpkqbNnz+/xDDNzKqlzMS/GrAz8JuI2Al4hS4060TE+IgYEREjBg0aVFaMZmaVU2bifw54LiLuyeNXk74I5koaApCf55UYg5mZtVFa4o+IF4DZkrbLk/YD/gJMBEblaaOA68uKwczMlrdayev/KnCJpDWAp4BjSV82V0o6DngWOKLkGMzMrKDUxB8RM4ARdWbtV+Z2zcysfWXX+Ftu6JgbWx2CmdkqxV02mJlVjBO/mVnFOPGbmVWME7+ZWcU48ZuZVUyniV/SnrmPHSQdLeksSVuWH5qZmZWhkRr/b4BXJe0InAI8A/xPqVGZmVlpGkn8b0VEkLpTPjsizgb6lxuWmZmVpZE/cC2S9G3gaGBvSX2B1csNy8zMytJIjf/TwOvAcbnjtU2BM0uNyszMStNhjT/X7i+OiP1r0yLiWdzGb2bWY3VY44+IJaQTu+s3KR4zMytZI238rwEPS5pEuosWABFxYmlRmZlZaRpJ/Dfmh5mZ9QKdJv6ImCBpbWCLiHiiCTGZmVmJGvnn7iHADOCmPD5c0sSS4zIzs5I0cjnnWGBXYAG8c1etrUqLyMzMStXoP3dfbjMtygjGzMzK18jJ3Uck/QvQV9Iw4ETgzkZWLmkWsAhYQvoCGSFpIHAFMBSYBXwqIv7R9dDNzKw7GqnxfxXYgfTv3UuBl4GTurCNfSJieETUbro+BpgcEcOAyXnczMyapJHE//GI+E5EfDA/vgscugLbPAyYkIcnAIevwLrMzKyLGkn8325wWj0B3CxpuqTRedrGETEHID8PrregpNGSpkmaNn/+/AY3Z2ZmnWm3jV/SQcDHgE0l/aIwaz3grQbXv2dEPC9pMDBJ0uONBhYR44HxACNGjPDJZDOzlaSjk7vPA9NIzTrTC9MXAV9rZOUR8Xx+nifpWtJloXMlDYmIOZKGAPO6FbmZmXVLu4k/Ih4EHpR0aUS8CSBpA2DzRq7Cybdr7BMRi/LwR4EzgInAKGBcfr5+xYthZmaNauRyzkmSDs2vnQHMl3RrRHy9k+U2Bq6VVNvOpRFxk6T7gCslHQc8CxzR7ejNzKzLGkn860fEQklfAC6IiO9LeqizhSLiKWDHOtNfAvbreqhmZrYyNHJVz2q5Lf5TwA0lx2NmZiVrJPGfAfwReDIi7pO0NTCz3LDMzKwsjXTLfBVwVWH8KeATZQZlZmbl6TTxS7qAOp2yRcTnS4nIzMxK1cjJ3WK7/lrA/yNd429mZj1QI0091xTHJV0G/Km0iMzMrFSNnNxtaxiwxcoOxMzMmqORNv5FpDZ+5ecXgFNLjsvMzErSSFNP/2YEYmZmzdFR75w7d7RgRNy/8sMxM7OydVTj/48O5gWw70qOxczMmqCj3jn3aWYgZmbWHJ1e1SPpy5IGFMY3kHRCqVGZmVlpGrmc8/iIWFAbyX3xH19aRGZmVqpGEn8f5U71AST1BdYoLyQzMytTI102/JF045RzSCd1vwjcVGpUZmZWmkYS/6nAaOBLpD9x3QycW2ZQZmZWnkb+wPU2cE5+mJlZD9edvnq6RFJfSQ9IuiGPD5Q0SdLM/LxB2TGYmdlSpSd+4CTgscL4GGByRAwDJudxMzNrknYTv6SL8vNJ3V25pM2Aj7PsOYHDgAl5eAJweHfXb2ZmXddRjX8XSVsCn89/2hpYfDS4/p8DpwBvF6ZtHBFzAPLz4HoLShotaZqkafPnz29wc2Zm1pmOTu6eQ7psc2tgOumKnprI09sl6WBgXkRMlzSyq4FFxHhgPMCIESOWu/WjmZl1T0d99fwC+IWk30TEl7qx7j2BQyV9jHTLxvUkXQzMlTQkIuZIGgLM61bkZmbWLZ2e3I2IL0naUdJX8uMDjaw4Ir4dEZtFxFDgSODPEXE0MBEYlV82Cri+m7GbmVk3NNJJ24nAJaS2+MHAJZK+ugLbHAccIGkmcEAeNzOzJmnkn7tfAHaLiFcAJP0EuAv4r0Y3EhFTgCl5+CVgv64GamZmK0cj1/ELWFIYX8KyJ3rNzKwHaaTGfwFwj6Rr8/jhwHmlRWRmZqVqpK+esyRNAfYi1fSPjYgHyg7MzMzK0UiNv3Zjdd9c3cysF2hGXz1mZrYKceI3M6uYDhN/7lL5T80KxszMytdh4o+IJcCrktZvUjxmZlayRk7uvgY8LGkS8EptYkScWFpUZmZWmkYS/435YWZmvUAj1/FPkLQ2sEVEPNGEmMzMrESNdNJ2CDCD1Dc/koZLmlhyXGZmVpJGLuccC+wKLACIiBnAVqVFZGZmpWok8b8VES+3meY7YpmZ9VCNnNx9RNK/AH0lDQNOBO4sNywzMytLIzX+rwI7AK8DlwELgZNLjMnMzErUyFU9rwLfyTdgiYhYVH5Y1hMNHdO6q35njft4y7Zt1tM0clXPByU9DDxE+iPXg5J2KT80MzMrQyNt/OcBJ0TEbQCS9iLdnKWhm66bmdmqpZE2/kW1pA8QEbcDnTb3SFpL0r35F8Kjkk7P0wdKmiRpZn7eoPvhm5lZV7Wb+CXtLGln4F5Jv5U0UtJHJP2afOP0TrwO7BsROwLDgQMl7Q6MASZHxDBgch43M7Mm6aip5z/ajH+/MNzpdfwREcDiPLp6fgRwGDAyT59A+hI5tfNQzcxsZWg38UfEPiu6ckl9genAtsCvIuIeSRtHxJy8jTmSBrez7GhgNMAWW2yxoqGYmVnW6cldSQOAzwFDi69vpFvm3J//8LyOayW9r9HAImI8MB5gxIgR/qewmdlK0shVPX8A7gYeBt7uzkYiYoGkKcCBwFxJQ3JtfwgwrzvrNDOz7mkk8a8VEV/v6oolDQLezEl/bWB/4CfARGAUMC4/X9/VdZuZWfc1kvgvknQ8cAPpSh0AIuLvnSw3BJiQ2/n7AFdGxA2S7gKulHQc8CxwRPdCNzOz7mgk8b8BnAl8h6VX8wSwdUcLRcRDwE51pr8E7Ne1MM3MbGVpJPF/Hdg2Il4sOxgzMytfI//cfRR4texAzMysORqp8S8BZki6hWXb+Du9nNPMzFY9jST+6/LDzMx6gUb645/QjEDMzKw5Gvnn7tPU6ZsnIjq8qsfMzFZNjTT1jCgMr0W67n5gOeGYmVnZOr2qJyJeKjz+FhE/B/YtPzQzMytDI009OxdG+5B+AfQvLSIzMytVI009xX753wJmAZ8qJRozMytdI1f1rHC//GZmtupopKlnTeATLN8f/xnlhWVmZmVppKnneuBl0p20Xu/ktWZmtoprJPFvFhEHlh6JmZk1RSOdtN0p6f2lR2JmZk3RSI1/L+CY/A/e1wEBEREfKDUyMzMrRSOJ/6DSozAzs6Zp5HLOZ5oRiJmZNUcjbfzdImlzSbdIekzSo5JOytMHSpokaWZ+3qCsGMzMbHmlJX7Sv3y/ERHvBXYHvixpe2AMMDkihgGT87iZmTVJaYk/IuZExP15eBHwGLApcBhQ6+N/AnB4WTGYmdnyyqzxv0PSUGAn4B5g44iYA+nLARjcjBjMzCxp5KqeFSJpXeAa4OSIWCip0eVGA6MBtthii/ICtF5h6JgbW7LdWeM+3pLtmq2IUmv8klYnJf1LIuJ3efJcSUPy/CHAvHrLRsT4iBgRESMGDRpUZphmZpVS5lU9As4DHouIswqzJgKj8vAoUl9AZmbWJGU29ewJfBZ4WNKMPO00YBxwpaTjgGdJt3I0M7MmKS3xR8TtpO4d6tmvrO2amVnHmnJVj5mZrTqc+M3MKsaJ38ysYpz4zcwqxonfzKxinPjNzCrGid/MrGKc+M3MKsaJ38ysYpz4zcwqxonfzKxinPjNzCrGid/MrGKc+M3MKqb0Wy+a9WatuuUj+LaP1n2u8ZuZVYwTv5lZxTjxm5lVjBO/mVnFlJb4JZ0vaZ6kRwrTBkqaJGlmft6grO2bmVl9Zdb4LwQObDNtDDA5IoYBk/O4mZk1UWmJPyKmAn9vM/kwYEIengAcXtb2zcysvma38W8cEXMA8vPg9l4oabSkaZKmzZ8/v2kBmpn1dqvsyd2IGB8RIyJixKBBg1odjplZr9HsxD9X0hCA/Dyvyds3M6u8Zif+icCoPDwKuL7J2zczq7wyL+e8DLgL2E7Sc5KOA8YBB0iaCRyQx83MrIlK66QtIo5qZ9Z+ZW3TzMw6t8qe3DUzs3I48ZuZVYwTv5lZxTjxm5lVjBO/mVnF+NaLZj1Uq2776Fs+9nyu8ZuZVYwTv5lZxbipx8ysE61qVoNymtZc4zczqxgnfjOzinFTj5n1GK1sculNXOM3M6sYJ34zs4pxU4+ZdYmbW3o+1/jNzCrGid/MrGKc+M3MKsaJ38ysYlqS+CUdKOkJSU9KGtOKGMzMqqrpiV9SX+BXwEHA9sBRkrZvdhxmZlXVihr/rsCTEfFURLwBXA4c1oI4zMwqqRXX8W8KzC6MPwfs1vZFkkYDo/PoYklPNCG2smwEvNjqIErQG8vVG8sELldP80659JMVWs+W9Sa2IvGrzrRYbkLEeGB8+eGUT9K0iBjR6jhWtt5Yrt5YJnC5epqyy9WKpp7ngM0L45sBz7cgDjOzSmpF4r8PGCZpK0lrAEcCE1sQh5lZJTW9qSci3pL0FeCPQF/g/Ih4tNlxNFmvaLKqozeWqzeWCVyunqbUciliueZ1MzPrxfzPXTOzinHiNzOrGCf+lUjS5pJukfSYpEclnZSnD5Q0SdLM/LxBq2PtCklrSbpX0oO5XKfn6T26XDWS+kp6QNINebzHl0vSLEkPS5ohaVqe1hvKNUDS1ZIez5+zPXpyuSRtl9+j2mOhpJPLLpMT/8r1FvCNiHgvsDvw5dwdxRhgckQMAybn8Z7kdWDfiNgRGA4cKGl3en65ak4CHiuM95Zy7RMRwwvXg/eGcp0N3BQR7wF2JL1vPbZcEfFEfo+GA7sArwLXUnaZIsKPkh7A9cABwBPAkDxtCPBEq2NbgTL1A+4n/du6x5eL9D+SycC+wA15Wm8o1yxgozbTenS5gPWAp8kXpfSWchXK8VHgjmaUyTX+kkgaCuwE3ANsHBFzAPLz4BaG1i25OWQGMA+YFBG9olzAz4FTgLcL03pDuQK4WdL03P0J9PxybQ3MBy7ITXPnSlqHnl+umiOBy/JwqWVy4i+BpHWBa4CTI2Jhq+NZGSJiSaSfo5sBu0p6X4tDWmGSDgbmRcT0VsdSgj0jYmdSL7hflrR3qwNaCVYDdgZ+ExE7Aa/Qg5p1OpL/zHoocFUztufEv5JJWp2U9C+JiN/lyXMlDcnzh5BqzT1SRCwApgAH0vPLtSdwqKRZpF5i95V0MT2/XETE8/l5HqnNeFd6frmeA57LvzYBriZ9EfT0ckH6gr4/Iubm8VLL5MS/EkkScB7wWEScVZg1ERiVh0eR2v57DEmDJA3Iw2sD+wOP08PLFRHfjojNImIo6Wf2nyPiaHp4uSStI6l/bZjUdvwIPbxcEfECMFvSdnnSfsBf6OHlyo5iaTMPlFwm/3N3JZK0F3Ab8DBL24xPI7XzXwlsATwLHBERf29JkN0g6QPABFIXG32AKyPiDEkb0oPLVSRpJPDNiDi4p5dL0takWj6k5pFLI+JHPb1cAJKGA+cCawBPAceSj0l6aLkk9SN1Vb91RLycp5X6Xjnxm5lVjJt6zMwqxonfzKxinPjNzCrGid/MrGKc+M3MKsaJfxUm6Q+5N8IBkk4oTB9Z60myzjLn5o7hVnTbx0j6ZTeXPW1Ft2/tW5H3ZiVt//COjjFJi7u53imSOrzBeKvL3ls48a/CIuJj+Z+yA4ATOn71O8t8ISL+UmZcDehy4pfUt4xA2myj6bca7aUOB1a4cmGt48TfIpJOkXRiHv5PSX/Ow/vlbgNqfapvBIwDtsn9dZ+ZV7FuoV/yS/K/hpepNUlaLOlHSv3o3y1p43ZiOVDS/fl1k+vMv1DSJwvji/PzEElTc1yPSPqwpHHA2nnaJfl1Ryv15z9D0m9rST7Hd4ake4A92mzzeEn35ZiukdRP0vp5n/TJr+knabak1SVtI+mm3CnZbZLeU4j9LEm3AD+RtKukO5U6+bqz9i/QvK4rJT0k6QpJ9xT240cl3ZX30VVKfTG13UcnSvpLXv7yPG2spIsk/VmpX/XjC6//Vi7fQ8r3N+hkXx0r6X8l3UrqaqL2+iPyvn9Q0tR672/htUPz8TIhb/dqpT8P1Y67B5T68D9f0pp5+rhCuX4m6UOkPmXOzDFu08H2JOnMHN/Dkj5dmHdKnvZgPmaKy/XJMf6wk7JvKWlyjm2ypC2UOhN8Km97gKS3lfspysfFtvl9OV/ps/KU8uewUlrdFWlVH6T++q/Kw7cB9wKrA98H/jVPnwVsBAwFHiksOxJ4mdRhWh/gLmCvPG8KMCIPB3BIHv4p8N06cQwi/Wtwqzw+MD8fA/wyD18IfLKwzOL8/A3gO3m4L9C/OD8Pvxf4PbB6Hv818LlCfJ9qZ/9sWBj+IfDVPHw9qZ95gE8D5+bhycCwPLwbqfuFWuw3AH3z+HrAanl4f+CaPPxN4Ld5+H2keyuMyPt/KrBOnncq8L068T4PrJmHB+TnscCDwNp5PbOBTUhdKIwHlN+/G4C929tXpG55n83v1RrAHYX35mFg0+J2OzjmhuZ9vmcePz+Xe60c27vz9P8BTgYGkroHVptyLXM81NlO7fj4BDApHxsb5zIMIfVLcyfQr80xN4X0ubiMpcdVR2X/PTAqD38euC4P3wTsABwM3Ad8B1gTeLrwvtyZp20EvFTb51V5+Kdv60wHdlHqU+V1Uh/3I4APA43UQO6NiOcAlLpLHgrc3uY1b5CSSm17B9RZz+7A1Ih4GiC69rfw+4DzlTqmuy4iZtR5zX6kG0zcp/SjZG2Wdji1hNShXT3vyzW+AcC6wB/z9CtICf8WUv86v8418A8BV+VtQPpQ11wVEUvy8PrABEnDSElw9Tx9L9JNPoiIRyQ9lKfvTmrWuCOvew3SF21bDwGXSLoOuK4w/fqI+D/g//Kvjl3ztj4KPJBfsy4wDPgA9ffVbsCUiJgPIOkK4N152TuACyVdCdQ6BezI7Ii4Iw9fTDrWJpGS4v/m6ROALwO/BF4DzpV0I0uPpUbtBVyW9/3cXGP/IPAR4IKIeBWWO+Z+S+oS5Ed5vKOy7wH8cx6+iFS5gVSR2hvYCvgxcDxwK+l4rbkxIl4HXpc0j/TF9FwXy9djuamnRSLiTVKN/lhS7eM2YB9gG5a9G1R7Xi8ML4G6X+JvRq7i1F6TfwrXbvN2BqnW2Vm/HW+RjxWljLRGLsNU0gfsb8BFkj5XZ1kBEyLfZSgitouIsXnea4WE3NaFwFci4v3A6aRaKaTOqw6SNJCUJP+cY1tQ2MbwSHdBq3mlMPwD4JaIeB9wSGG9oj6R7j9QW+/2EXFcndd9HPhVjmm6lp5PaLtvI6/zx4V1bhsR59Hxvqr7HkXEF4HvApsDM5T6eOlIe/HUW/dbpC+qa0jt+je1fY3S7UZrx9MX285uJ4aOjrk7gX0krVWY1mi/MrXX3UaqQO0K/IFUeRhJ+uVW08jnp9dy4m+tqaSf2lNJB+sXgRmFZF2zCOi/MjYYuV/9/Pgeqfb6EUlbQbova53FZpESGsBh5FqypC1J/dn/N6lX0p3za97MvwIgNcF8UtLg2vrzcp3pD8zJ6/lMIf7FpGaxs0l3zFoS6Z4HT0s6Im9DknZsZ73rk76oIDVn1dwOfCovvz3w/jz9bmBPSdvmef0kvbuwHErnHDaPiFtIN3UZQKrFAxymdM/iDUnJ5z7Sr5fP518qSNo075/29tU9wEhJG+b9cURh29tExD35vXwR2Dyvb7lzNdkWkmrnU47K5X4cGForI/BZ4NYc3/oR8QdS08/wPP+d4zEiZheOp3PabGsq8Olc2RhEqiTcC9ycy187v1A85s4jJeur8pdnu2UnfUkcmYc/w9JfvPeQfgG+HRGvATOAfyV9xgwn/la7jdSGeVekfrhfo87BGREvkZoaHtHSk7srRf4JPRr4naQHSU0pbf036cvhXtJP71oNeiSplvkAqT337Dx9PPCQpEsiXWH0XdLdoB4iNSsMaSC0fyN9gCeRElPRFcDRbWL9DHBcLsOjpC+oen4K/FjSHaS255pfA4NyjKeSmm5ezvvnGOCyPO9u4D1t1tkXuFjSw6Tmm/+MdDUWpER3Y17uBxHxfETcDFwK3JWXuZp0fqTuvop0B6axpC/pP5GaBWvOzCdJHyEl2gdJ+/etdsr/GDAqr38g6aYmr5F+eV6V43kbOIeU3G/Ir70V+Fpex+XAt5ROBrd7cpfUQ+hDOaY/A6dExAsRcRPpl9u03Ez5zeJCkbo0v5/UfDO3g7KfCByb4/ss6d7J5Cac2aR9Dukz1Z90PsRw75xmwDuXk64eEa/lZDaZdLLzjRVY51jSic6fraQwG93uV4BnI2Jim+lDSb+Sevzd02zFVKpdy6wD/YBbcnOCgC+tSNJvpYjwH5ysQ67xm5lVjNv4zcwqxonfzKxinPjNzCrGid/MrGKc+M3MKub/A2U9klZRGQ/JAAAAAElFTkSuQmCC\n",
      "text/plain": [
       "<Figure size 432x288 with 1 Axes>"
      ]
     },
     "metadata": {
      "needs_background": "light"
     },
     "output_type": "display_data"
    }
   ],
   "source": [
    "plt.hist(averages_post)\n",
    "plt.xlabel('within-cluster average speeds, post-lockdown')\n",
    "plt.ylabel('number of clusters')\n",
    "plt.title('Histogram of post-lockdown average speeds');"
   ]
  },
  {
   "cell_type": "markdown",
   "id": "4a8debfe",
   "metadata": {
    "deletable": false,
    "editable": false
   },
   "source": [
    "<!-- END QUESTION -->\n",
    "\n",
    "<!-- BEGIN QUESTION -->\n",
    "\n",
    "### 2.a.iii. Sort census tracts by change in traffic speed from pre to post lockdown.\n",
    "\n",
    "For each segment, compute the difference between the pre-lockdown average speed (March 1 - 13) and the post-lockdown average speed (March 14 - 31). **Plot a histogram of all differences.** Sanity check that the below histogram matches your observations of the histograms above, on your own.\n",
    "\n",
    "<!--\n",
    "BEGIN QUESTION\n",
    "name: q2aiii\n",
    "points: 2\n",
    "manual: True\n",
    "-->"
   ]
  },
  {
   "cell_type": "code",
   "execution_count": 37,
   "id": "3edb8136",
   "metadata": {},
   "outputs": [
    {
     "data": {
      "image/png": "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\n",
      "text/plain": [
       "<Figure size 432x288 with 1 Axes>"
      ]
     },
     "metadata": {
      "needs_background": "light"
     },
     "output_type": "display_data"
    }
   ],
   "source": [
    "# The autograder expects differences to be a series object with index\n",
    "# MOVEMENT_ID.\n",
    "differences = averages_post - averages_pre\n",
    "\n",
    "# plot the differences\n",
    "plt.hist(differences)\n",
    "plt.xlabel('differnece of average speeds')\n",
    "plt.ylabel('number of clusters')\n",
    "plt.title('The differnece of average speeds from pre to post lockdown');"
   ]
  },
  {
   "cell_type": "code",
   "execution_count": 38,
   "id": "33affd69",
   "metadata": {
    "deletable": false,
    "editable": false
   },
   "outputs": [
    {
     "data": {
      "text/html": [
       "<p><strong><pre style='display: inline;'>q2aiii</pre></strong> passed!</p>"
      ],
      "text/plain": [
       "q2aiii results: All test cases passed!"
      ]
     },
     "execution_count": 38,
     "metadata": {},
     "output_type": "execute_result"
    }
   ],
   "source": [
    "grader.check(\"q2aiii\")"
   ]
  },
  {
   "cell_type": "markdown",
   "id": "942f64a3",
   "metadata": {
    "deletable": false,
    "editable": false
   },
   "source": [
    "<!-- END QUESTION -->\n",
    "\n",
    "<!-- BEGIN QUESTION -->\n",
    "\n",
    "### 2.a.iv. Quantify the impact of lockdown on average speeds.\n",
    "\n",
    "1. **Plot the average speed by day, across all segments**. Be careful not to plot the average of census tract averages instead. Recall the definition of segments from Q1.\n",
    "2. Is the change in speed smooth and gradually increasing? Or increasing sharply? Why? Use your real-world knowledge of announcements and measures during that time, in your explanation. You can use this list of bay area COVID-related dataes: https://abc7news.com/timeline-of-coronavirus-us-covid-19-bay-area-sf/6047519/\n",
    "\n",
    "<!--\n",
    "BEGIN QUESTION\n",
    "name: q2aiv1\n",
    "points: 1\n",
    "manual: True\n",
    "-->"
   ]
  },
  {
   "cell_type": "code",
   "execution_count": 39,
   "id": "01e89ebf",
   "metadata": {},
   "outputs": [],
   "source": [
    "# Autograder expects this to be a series object containing the\n",
    "# data for your line plot -- average speeds per day.\n",
    "speeds_daily = speeds_to_tract[['day','speed_mph_mean']].groupby('day').agg(np.mean)['speed_mph_mean']"
   ]
  },
  {
   "cell_type": "markdown",
   "id": "69038b87",
   "metadata": {
    "deletable": false,
    "editable": false
   },
   "source": [
    "<!-- END QUESTION -->\n",
    "\n",
    "<!-- BEGIN QUESTION -->\n",
    "\n",
    "Write your written answer in the cell below\n",
    "\n",
    "<!--\n",
    "BEGIN QUESTION\n",
    "name: q2aiv2\n",
    "points: 1\n",
    "manual: True\n",
    "-->"
   ]
  },
  {
   "cell_type": "markdown",
   "id": "c605563b",
   "metadata": {},
   "source": [
    "The change in speed increased sharply around March 17th. In this day, shelter in place order takes effect in six counties including Alameda, Contra Costa, Marin, San Mateo, San Francisco, and Santa Clara. Nearly 7 million Bay Area residents are told to restrict activities. The number of people travelling around decreased sharply, so there was much lower volume of traffic and car speeds could increase. "
   ]
  },
  {
   "cell_type": "markdown",
   "id": "c2ad51b9",
   "metadata": {
    "deletable": false,
    "editable": false
   },
   "source": [
    "<!-- END QUESTION -->\n",
    "\n",
    "Ignore the empty cell below, just run the autograder to test the code above is correct.\n",
    "<!--\n",
    "BEGIN QUESTION\n",
    "name: q2aiv3\n",
    "points: 1\n",
    "-->"
   ]
  },
  {
   "cell_type": "code",
   "execution_count": null,
   "id": "1d2783df",
   "metadata": {},
   "outputs": [],
   "source": []
  },
  {
   "cell_type": "code",
   "execution_count": 40,
   "id": "845d8b3f",
   "metadata": {
    "deletable": false,
    "editable": false
   },
   "outputs": [
    {
     "data": {
      "text/html": [
       "<p><strong><pre style='display: inline;'>q2aiv3</pre></strong> passed!</p>"
      ],
      "text/plain": [
       "q2aiv3 results: All test cases passed!"
      ]
     },
     "execution_count": 40,
     "metadata": {},
     "output_type": "execute_result"
    }
   ],
   "source": [
    "grader.check(\"q2aiv3\")"
   ]
  },
  {
   "cell_type": "markdown",
   "id": "1e6ad0f5",
   "metadata": {
    "deletable": false,
    "editable": false
   },
   "source": [
    "<!-- BEGIN QUESTION -->\n",
    "\n",
    "### 2.a.v. Quantify the impact of pre-lockdown average speed on change in speed.\n",
    "\n",
    "1. Compute the correlation between change in speed and the *pre*-lockdown average speeds. Do we expect a positive or negative correlation, given our analysis above?\n",
    "2. Compute the correlation between change in speed and the post-lockdown average speeds.\n",
    "3. **How does the correlation in Q1 compare with the correlation in Q2?** You should expect a significant change in correlation value. What insight does this provide about traffic?\n",
    "\n",
    "Written answers in the first cell, coding answerts in the following cell.\n",
    "\n",
    "<!--\n",
    "BEGIN QUESTION\n",
    "name: q2av1\n",
    "points: 2\n",
    "manual: True\n",
    "-->"
   ]
  },
  {
   "cell_type": "markdown",
   "id": "dbf7933b",
   "metadata": {},
   "source": [
    "We expect a positive correlation.\n",
    "\n",
    "Given our analysis above, the clusters where the average speed in pre-locked is low will have limited increase of average speed after lockdown, while the clusters where the average speed in pre-locked is high will have more increase of average speed after lockdown. Therefore, the correlation between the pre-lockdown average speeds and the differences of speeds is positive.\n",
    "\n",
    "The correlation between change in speed and the pre-lockdown average speeds is lower than the correlation between change in speed and the post-lockdown average speeds. Because after lockdown, the average speeds of all within-clusters increased. In the meantime, if the average speed in pre-lockdown is low, there will also be high differences generated which will lead to high average speed in post-lockdown. Therefore, compared with correlation between change in speed and the pre-lockdown, there is a stronger correlation between change in speed and the post-lockdown average speeds."
   ]
  },
  {
   "cell_type": "markdown",
   "id": "a9ad929d",
   "metadata": {
    "deletable": false,
    "editable": false
   },
   "source": [
    "<!-- END QUESTION -->\n",
    "\n",
    "\n",
    "<!--\n",
    "BEGIN QUESTION\n",
    "name: q2av2\n",
    "points: 2\n",
    "-->"
   ]
  },
  {
   "cell_type": "code",
   "execution_count": 41,
   "id": "b6ef2246",
   "metadata": {},
   "outputs": [
    {
     "data": {
      "text/plain": [
       "(0.4633006380580185, 0.7926799984780655)"
      ]
     },
     "execution_count": 41,
     "metadata": {},
     "output_type": "execute_result"
    }
   ],
   "source": [
    "corr_pre_diff = averages_pre.corr(differences, method='pearson', min_periods=None)\n",
    "corr_post_diff = averages_post.corr(differences, method='pearson', min_periods=None)\n",
    "corr_pre_diff, corr_post_diff"
   ]
  },
  {
   "cell_type": "code",
   "execution_count": 42,
   "id": "1a894ce9",
   "metadata": {
    "deletable": false,
    "editable": false
   },
   "outputs": [
    {
     "data": {
      "text/html": [
       "<p><strong><pre style='display: inline;'>q2av2</pre></strong> passed!</p>"
      ],
      "text/plain": [
       "q2av2 results: All test cases passed!"
      ]
     },
     "execution_count": 42,
     "metadata": {},
     "output_type": "execute_result"
    }
   ],
   "source": [
    "grader.check(\"q2av2\")"
   ]
  },
  {
   "cell_type": "markdown",
   "id": "8f84bf0b",
   "metadata": {},
   "source": [
    "## 2.b. What traffic areas were impacted by lockdown?"
   ]
  },
  {
   "cell_type": "markdown",
   "id": "d3c20b6a",
   "metadata": {
    "deletable": false,
    "editable": false
   },
   "source": [
    "<!-- BEGIN QUESTION -->\n",
    "\n",
    "### 2.b.i. Visualize spatial heatmap of average traffic speed per census tract, pre-lockdown.\n",
    "\n",
    "Visualize a spatial heatmap of the grouped average daily speeds per census tract, which you computed in previous parts. Use the geopandas [chloropleth maps](https://geopandas.org/docs/user_guide/mapping.html#choropleth-maps). **Write your observations, using your visualization, noting down at least 2 areas or patterns of interest**. These may be a local extrema, or a region that is strangely all similar.\n",
    "\n",
    "**Hint**: Use [`to_crs`](https://geopandas.org/docs/reference/api/geopandas.GeoDataFrame.to_crs.html) and make sure the `epsg` is using the Pseudo-Mercator projection.\n",
    "\n",
    "**Hint**: You can use `contextily` to superimpose your chloropleth map on a real geographic map.\n",
    "\n",
    "**Hint** You can set a lower opacity for your chloropleth map, to see what's underneath, but be aware that if you plot with too low of an opacity, the map underneath will perturb your chloropleth and meddle with your conclusions.\n",
    "\n",
    "Written answers in the first cell, coding answers in the second cell.\n",
    "\n",
    "<!--\n",
    "BEGIN QUESTION\n",
    "name: q2bi1\n",
    "points: 1\n",
    "manual: True\n",
    "-->"
   ]
  },
  {
   "cell_type": "markdown",
   "id": "41bd3d7a",
   "metadata": {},
   "source": [
    "During pre-lockdown, clusters between San Francisco Financial district and Mission district have low average speed, which is between 0-20 mph. This is because these areas are in the center of SF downtown so there are many cars and traffic lights which causes a lot of congestion and makes the average speed low.\n",
    "\n",
    "On the other hand, the cluster on east bay right after getting on the bay bridge is a local extrema, which has an average speed of nearly 60 mph. This is because this area is part of the high speed way so the average speed of cars is high."
   ]
  },
  {
   "cell_type": "markdown",
   "id": "a0351d12",
   "metadata": {
    "deletable": false,
    "editable": false
   },
   "source": [
    "<!-- END QUESTION -->\n",
    "\n",
    "<!-- BEGIN QUESTION -->\n",
    "\n",
    "<!--\n",
    "BEGIN QUESTION\n",
    "name: q2bi2\n",
    "points: 4\n",
    "manual: True\n",
    "-->"
   ]
  },
  {
   "cell_type": "code",
   "execution_count": 43,
   "id": "7d680081",
   "metadata": {},
   "outputs": [
    {
     "data": {
      "image/png": "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\n",
      "text/plain": [
       "<Figure size 432x288 with 2 Axes>"
      ]
     },
     "metadata": {
      "needs_background": "light"
     },
     "output_type": "display_data"
    }
   ],
   "source": [
    "p = gpd.GeoDataFrame(averages_pre_named, crs=4326)#.to_crs(4326)\n",
    "\n",
    "fig, ax = plt.subplots(1, 1)\n",
    "p.plot(column='speed_mph_mean',\n",
    "       ax=ax,\n",
    "       legend=True,\n",
    "       legend_kwds={'label': \"speed_mph_mean by census tracts\",\n",
    "                    'orientation': \"vertical\"})\n",
    "plt.title(\"Average traffic speed per census tract, pre-lockdown\");"
   ]
  },
  {
   "cell_type": "markdown",
   "id": "600c6a78",
   "metadata": {
    "deletable": false,
    "editable": false
   },
   "source": [
    "<!-- END QUESTION -->\n",
    "\n",
    "<!-- BEGIN QUESTION -->\n",
    "\n",
    "### 2.b.ii. Visualize change in average daily speeds pre vs. post lockdown.\n",
    "\n",
    "Visualize a spatial heatmap of the census tract differences in average speeds, that we computed in a previous part. **Write your observations, using your visualization, noting down at least 2 areas or patterns of interest.** Some possible ideas for interesting notes: Which areas saw the most change in average speed? Which areas weren't affected? Why did some areas see *reduced* average speed?\n",
    "\n",
    "First cell is for the written answers, second cell is for the coding answers.\n",
    "\n",
    "<!--\n",
    "BEGIN QUESTION\n",
    "name: q2bii1\n",
    "points: 1\n",
    "manual: True\n",
    "-->"
   ]
  },
  {
   "cell_type": "markdown",
   "id": "8846910d",
   "metadata": {},
   "source": [
    "Areas like Palo Alto and Mountain view have the biggest change in average speed. There was less traffic for commuting after lockdown, so the increment was obvious.\n",
    "\n",
    "Besides, the lockdown didn’t affect the average traffic speed in areas like SF downtown, since there is no freeway in SF downtown, and many traffic lights also limited the change of average speed.\n",
    "\n",
    "Areas like County Jail Road saw slightly reduced average speeds.This may be due to there had been little traffic even before the lockdown, and each data point had a large amount of weight among average speeds. After the lockdown, fewer people traveled around there. Considering the reduction is moderate, we suppose the reason the average speed decreased is that only a few vehicles with low speed went through after the lockdown."
   ]
  },
  {
   "cell_type": "markdown",
   "id": "e3e13db6",
   "metadata": {
    "deletable": false,
    "editable": false
   },
   "source": [
    "<!-- END QUESTION -->\n",
    "\n",
    "<!-- BEGIN QUESTION -->\n",
    "\n",
    "<!--\n",
    "BEGIN QUESTION\n",
    "name: q2bii2\n",
    "points: 4\n",
    "manual: True\n",
    "-->"
   ]
  },
  {
   "cell_type": "code",
   "execution_count": 44,
   "id": "00384667",
   "metadata": {
    "tags": []
   },
   "outputs": [
    {
     "data": {
      "image/png": "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\n",
      "text/plain": [
       "<Figure size 432x288 with 2 Axes>"
      ]
     },
     "metadata": {
      "needs_background": "light"
     },
     "output_type": "display_data"
    }
   ],
   "source": [
    "d = tract_to_gps.merge(differences,\n",
    "                        how=\"right\",\n",
    "                        left_on=\"MOVEMENT_ID\",\n",
    "                        right_on=\"MOVEMENT_ID\")\n",
    "\n",
    "df = gpd.GeoDataFrame(d, crs=4326)#.to_crs(4326)\n",
    "\n",
    "fig, ax = plt.subplots(1, 1)\n",
    "df.plot(column='speed_mph_mean',\n",
    "       ax=ax,\n",
    "       legend=True,\n",
    "       legend_kwds={'label': \"speed_mph_mean by census tracts\",\n",
    "                    'orientation': \"vertical\"})\n",
    "plt.title(\"Average daily speeds pre vs. post lockdown\");"
   ]
  },
  {
   "cell_type": "markdown",
   "id": "5aa3ac2e",
   "metadata": {},
   "source": [
    "<!-- END QUESTION -->\n",
    "\n",
    "\n",
    "\n",
    "# Step 3 - Open-Ended EDA: Understanding lockdown impact on travel times\n",
    "\n",
    "Explore daily travel times from Hayes Valley to other destinations both before and throughout lockdown. Use the following questions as suggestions for what to explore, temporally and spatially:\n",
    "\n",
    "- How did lockdown affect travel times? Are there any meaningful factors that determined how travel time would be impacted? How was travel time affected over time?\n",
    "- Travel to which destinations were affected by lockdown? Are there surprisingly disproportionate amounts of impact in certain areas?"
   ]
  },
  {
   "cell_type": "markdown",
   "id": "2cbfca76",
   "metadata": {},
   "source": [
    "## 3.a. Load Datasets\n",
    "\n",
    "In this step, we will load two datasets:\n",
    "\n",
    "- Daily travel times from Hayes Valley to all other census tracts around San Francisco.\n",
    "- Daily travel times from 300 Hayes St to Golden Gate Park in San Francisco.\n",
    "\n",
    "For this specific set of data, we can ask several more questions; which questions you pursue are up to you, including any that you come up that are not on this list:\n",
    "\n",
    "- Which routes from Hayes Valley had similar impact on travel time? Did they share any factors in common? Traveling through the same place -- e.g., a freway? Traveling in similar areas e.g., residential areas?\n",
    "- Were clusters of routes impacted more severely than others over time? What determined the degree of impact?"
   ]
  },
  {
   "cell_type": "code",
   "execution_count": 45,
   "id": "0fb8c734",
   "metadata": {
    "tags": []
   },
   "outputs": [
    {
     "data": {
      "text/html": [
       "<div>\n",
       "<style scoped>\n",
       "    .dataframe tbody tr th:only-of-type {\n",
       "        vertical-align: middle;\n",
       "    }\n",
       "\n",
       "    .dataframe tbody tr th {\n",
       "        vertical-align: top;\n",
       "    }\n",
       "\n",
       "    .dataframe thead th {\n",
       "        text-align: right;\n",
       "    }\n",
       "</style>\n",
       "<table border=\"1\" class=\"dataframe\">\n",
       "  <thead>\n",
       "    <tr style=\"text-align: right;\">\n",
       "      <th></th>\n",
       "      <th>Origin Movement ID</th>\n",
       "      <th>Origin Display Name</th>\n",
       "      <th>Destination Movement ID</th>\n",
       "      <th>Destination Display Name</th>\n",
       "      <th>Date Range</th>\n",
       "      <th>Mean Travel Time (Seconds)</th>\n",
       "      <th>Range - Lower Bound Travel Time (Seconds)</th>\n",
       "      <th>Range - Upper Bound Travel Time (Seconds)</th>\n",
       "      <th>day</th>\n",
       "    </tr>\n",
       "  </thead>\n",
       "  <tbody>\n",
       "    <tr>\n",
       "      <th>0</th>\n",
       "      <td>1277</td>\n",
       "      <td>300 Hayes Street, Civic Center, San Francisco</td>\n",
       "      <td>9</td>\n",
       "      <td>500 Hyde Street, Tenderloin, San Francisco</td>\n",
       "      <td>3/1/2020 - 3/1/2020, Every day, Daily Average</td>\n",
       "      <td>322</td>\n",
       "      <td>211</td>\n",
       "      <td>489</td>\n",
       "      <td>1</td>\n",
       "    </tr>\n",
       "    <tr>\n",
       "      <th>1</th>\n",
       "      <td>1277</td>\n",
       "      <td>300 Hayes Street, Civic Center, San Francisco</td>\n",
       "      <td>20</td>\n",
       "      <td>900 Sutter Street, Lower Nob Hill, San Francisco</td>\n",
       "      <td>3/1/2020 - 3/1/2020, Every day, Daily Average</td>\n",
       "      <td>291</td>\n",
       "      <td>179</td>\n",
       "      <td>470</td>\n",
       "      <td>1</td>\n",
       "    </tr>\n",
       "    <tr>\n",
       "      <th>2</th>\n",
       "      <td>1277</td>\n",
       "      <td>300 Hayes Street, Civic Center, San Francisco</td>\n",
       "      <td>21</td>\n",
       "      <td>3400 Pierce Street, Marina District, San Franc...</td>\n",
       "      <td>3/1/2020 - 3/1/2020, Every day, Daily Average</td>\n",
       "      <td>635</td>\n",
       "      <td>438</td>\n",
       "      <td>920</td>\n",
       "      <td>1</td>\n",
       "    </tr>\n",
       "    <tr>\n",
       "      <th>3</th>\n",
       "      <td>1277</td>\n",
       "      <td>300 Hayes Street, Civic Center, San Francisco</td>\n",
       "      <td>44</td>\n",
       "      <td>1700 Egbert Avenue, Bayview, San Francisco</td>\n",
       "      <td>3/1/2020 - 3/1/2020, Every day, Daily Average</td>\n",
       "      <td>786</td>\n",
       "      <td>566</td>\n",
       "      <td>1090</td>\n",
       "      <td>1</td>\n",
       "    </tr>\n",
       "    <tr>\n",
       "      <th>4</th>\n",
       "      <td>1277</td>\n",
       "      <td>300 Hayes Street, Civic Center, San Francisco</td>\n",
       "      <td>46</td>\n",
       "      <td>500 Chester Street, West Oakland, Oakland</td>\n",
       "      <td>3/1/2020 - 3/1/2020, Every day, Daily Average</td>\n",
       "      <td>891</td>\n",
       "      <td>682</td>\n",
       "      <td>1162</td>\n",
       "      <td>1</td>\n",
       "    </tr>\n",
       "    <tr>\n",
       "      <th>...</th>\n",
       "      <td>...</td>\n",
       "      <td>...</td>\n",
       "      <td>...</td>\n",
       "      <td>...</td>\n",
       "      <td>...</td>\n",
       "      <td>...</td>\n",
       "      <td>...</td>\n",
       "      <td>...</td>\n",
       "      <td>...</td>\n",
       "    </tr>\n",
       "    <tr>\n",
       "      <th>10333</th>\n",
       "      <td>1277</td>\n",
       "      <td>300 Hayes Street, Civic Center, San Francisco</td>\n",
       "      <td>2624</td>\n",
       "      <td>1300 16th Avenue, Inner Sunset, San Francisco</td>\n",
       "      <td>3/31/2020 - 3/31/2020, Every day, Daily Average</td>\n",
       "      <td>502</td>\n",
       "      <td>411</td>\n",
       "      <td>611</td>\n",
       "      <td>31</td>\n",
       "    </tr>\n",
       "    <tr>\n",
       "      <th>10334</th>\n",
       "      <td>1277</td>\n",
       "      <td>300 Hayes Street, Civic Center, San Francisco</td>\n",
       "      <td>2643</td>\n",
       "      <td>1300 Egbert Avenue, Bayview, San Francisco</td>\n",
       "      <td>3/31/2020 - 3/31/2020, Every day, Daily Average</td>\n",
       "      <td>571</td>\n",
       "      <td>475</td>\n",
       "      <td>685</td>\n",
       "      <td>31</td>\n",
       "    </tr>\n",
       "    <tr>\n",
       "      <th>10335</th>\n",
       "      <td>1277</td>\n",
       "      <td>300 Hayes Street, Civic Center, San Francisco</td>\n",
       "      <td>2673</td>\n",
       "      <td>100 Rutledge Street, Bernal Heights, San Franc...</td>\n",
       "      <td>3/31/2020 - 3/31/2020, Every day, Daily Average</td>\n",
       "      <td>367</td>\n",
       "      <td>265</td>\n",
       "      <td>507</td>\n",
       "      <td>31</td>\n",
       "    </tr>\n",
       "    <tr>\n",
       "      <th>10336</th>\n",
       "      <td>1277</td>\n",
       "      <td>300 Hayes Street, Civic Center, San Francisco</td>\n",
       "      <td>2694</td>\n",
       "      <td>1900 Buchanan Street, Western Addition, San Fr...</td>\n",
       "      <td>3/31/2020 - 3/31/2020, Every day, Daily Average</td>\n",
       "      <td>222</td>\n",
       "      <td>167</td>\n",
       "      <td>294</td>\n",
       "      <td>31</td>\n",
       "    </tr>\n",
       "    <tr>\n",
       "      <th>10337</th>\n",
       "      <td>1277</td>\n",
       "      <td>300 Hayes Street, Civic Center, San Francisco</td>\n",
       "      <td>2695</td>\n",
       "      <td>2200 Rivera Street, Sunset District, San Franc...</td>\n",
       "      <td>3/31/2020 - 3/31/2020, Every day, Daily Average</td>\n",
       "      <td>917</td>\n",
       "      <td>778</td>\n",
       "      <td>1080</td>\n",
       "      <td>31</td>\n",
       "    </tr>\n",
       "  </tbody>\n",
       "</table>\n",
       "<p>10338 rows × 9 columns</p>\n",
       "</div>"
      ],
      "text/plain": [
       "       Origin Movement ID                            Origin Display Name  \\\n",
       "0                    1277  300 Hayes Street, Civic Center, San Francisco   \n",
       "1                    1277  300 Hayes Street, Civic Center, San Francisco   \n",
       "2                    1277  300 Hayes Street, Civic Center, San Francisco   \n",
       "3                    1277  300 Hayes Street, Civic Center, San Francisco   \n",
       "4                    1277  300 Hayes Street, Civic Center, San Francisco   \n",
       "...                   ...                                            ...   \n",
       "10333                1277  300 Hayes Street, Civic Center, San Francisco   \n",
       "10334                1277  300 Hayes Street, Civic Center, San Francisco   \n",
       "10335                1277  300 Hayes Street, Civic Center, San Francisco   \n",
       "10336                1277  300 Hayes Street, Civic Center, San Francisco   \n",
       "10337                1277  300 Hayes Street, Civic Center, San Francisco   \n",
       "\n",
       "       Destination Movement ID  \\\n",
       "0                            9   \n",
       "1                           20   \n",
       "2                           21   \n",
       "3                           44   \n",
       "4                           46   \n",
       "...                        ...   \n",
       "10333                     2624   \n",
       "10334                     2643   \n",
       "10335                     2673   \n",
       "10336                     2694   \n",
       "10337                     2695   \n",
       "\n",
       "                                Destination Display Name  \\\n",
       "0             500 Hyde Street, Tenderloin, San Francisco   \n",
       "1       900 Sutter Street, Lower Nob Hill, San Francisco   \n",
       "2      3400 Pierce Street, Marina District, San Franc...   \n",
       "3             1700 Egbert Avenue, Bayview, San Francisco   \n",
       "4              500 Chester Street, West Oakland, Oakland   \n",
       "...                                                  ...   \n",
       "10333      1300 16th Avenue, Inner Sunset, San Francisco   \n",
       "10334         1300 Egbert Avenue, Bayview, San Francisco   \n",
       "10335  100 Rutledge Street, Bernal Heights, San Franc...   \n",
       "10336  1900 Buchanan Street, Western Addition, San Fr...   \n",
       "10337  2200 Rivera Street, Sunset District, San Franc...   \n",
       "\n",
       "                                            Date Range  \\\n",
       "0        3/1/2020 - 3/1/2020, Every day, Daily Average   \n",
       "1        3/1/2020 - 3/1/2020, Every day, Daily Average   \n",
       "2        3/1/2020 - 3/1/2020, Every day, Daily Average   \n",
       "3        3/1/2020 - 3/1/2020, Every day, Daily Average   \n",
       "4        3/1/2020 - 3/1/2020, Every day, Daily Average   \n",
       "...                                                ...   \n",
       "10333  3/31/2020 - 3/31/2020, Every day, Daily Average   \n",
       "10334  3/31/2020 - 3/31/2020, Every day, Daily Average   \n",
       "10335  3/31/2020 - 3/31/2020, Every day, Daily Average   \n",
       "10336  3/31/2020 - 3/31/2020, Every day, Daily Average   \n",
       "10337  3/31/2020 - 3/31/2020, Every day, Daily Average   \n",
       "\n",
       "       Mean Travel Time (Seconds)  Range - Lower Bound Travel Time (Seconds)  \\\n",
       "0                             322                                        211   \n",
       "1                             291                                        179   \n",
       "2                             635                                        438   \n",
       "3                             786                                        566   \n",
       "4                             891                                        682   \n",
       "...                           ...                                        ...   \n",
       "10333                         502                                        411   \n",
       "10334                         571                                        475   \n",
       "10335                         367                                        265   \n",
       "10336                         222                                        167   \n",
       "10337                         917                                        778   \n",
       "\n",
       "       Range - Upper Bound Travel Time (Seconds)  day  \n",
       "0                                            489    1  \n",
       "1                                            470    1  \n",
       "2                                            920    1  \n",
       "3                                           1090    1  \n",
       "4                                           1162    1  \n",
       "...                                          ...  ...  \n",
       "10333                                        611   31  \n",
       "10334                                        685   31  \n",
       "10335                                        507   31  \n",
       "10336                                        294   31  \n",
       "10337                                       1080   31  \n",
       "\n",
       "[10338 rows x 9 columns]"
      ]
     },
     "execution_count": 45,
     "metadata": {},
     "output_type": "execute_result"
    }
   ],
   "source": [
    "PATH_TIMES = 'data/travel-times-daily-san-francisco-2020-3.csv'\n",
    "times_to_tract = pd.read_csv(PATH_TIMES)\n",
    "times_to_tract"
   ]
  },
  {
   "cell_type": "markdown",
   "id": "2324d4cc",
   "metadata": {},
   "source": [
    "# Step 4 - Guided Modeling: Predict traffic speed post-lockdown\n",
    "\n",
    "In this step, you'll train a model to predict traffic speed. In particular, you'll learn how to provide implicit supervision and correction to your model, when you know there's been a distribution shift in its data, leading to a large gap between train and test sets. You'll follow the following outline:\n",
    "\n",
    "- Build a model to predict daily traffic speed in San Francisco. Train and evaluate on *pre*-lockdown traffic speeds around the city.\n",
    "- Evaluate your model on post-lockdown traffic speeds. Where is your model most mistaken, and why?\n",
    "- Using this knowledge, how would you correct your model for a more accurate post-lockdown traffic predictor?\n",
    "\n",
    "\n",
    "The technical term for a phenomenon like the lockdown, which caused major distributional shifts in the data, is *change point*. A large body of work studies \"change point detection,\" but you'll be harder pressed to find a \"handling change point\" paper. "
   ]
  },
  {
   "cell_type": "markdown",
   "id": "d00c0fb2",
   "metadata": {},
   "source": [
    "## 4.a. Predict daily traffic speed on pre-lockdown data\n",
    "\n",
    "For your model, you will predict daily traffic speed per census tract, given the previous $k=5$ daily traffic speeds for that census tract. In particular, say a matrix $A$ is $n \\times d$, where $n$ is the number of census tracts and $d$ is the number of days. We define the following inputs and labels:\n",
    "\n",
    "$$X_{(i,t)} = [A_{(i,t-5)}, A_{(i,t-4)}, A_{(i,t-3)}, A_{(i,t-2)}, A_{(i,t-1)}]$$\n",
    "$$y_{(i,t)} = [A_{(i,t)}]$$\n",
    "\n",
    "This just means that each sample $X_i$ includes speed averages from the previous 5 days for the $i$th census track."
   ]
  },
  {
   "cell_type": "markdown",
   "id": "62f1a0de",
   "metadata": {
    "deletable": false,
    "editable": false,
    "tags": []
   },
   "source": [
    "### 4.a.i. Assemble dataset to predict daily traffic speed.\n",
    "\n",
    "Below, we've included skeletons for the helper functions we defined, to complete the problem. We highly recommend following this skeleton code, else we cannot guarantee staff support for debugging your work.\n",
    "\n",
    "\n",
    "**Hint**: What's wrong with collecting all samples, then randomly selecting some percentage to hold out? See the answer in the expandable below.\n",
    "\n",
    "<details>\n",
    "    <summary>[Click to expand] How to do train-validation split correctly, on time series</summary>\n",
    "    \n",
    "For a *time series* in particular, this random split would be cheating, because data within each day is highly correlated. Instead, you should hold out entire days from the dataset. In this case, you should hold out the last 2 days for your validation set.\n",
    "</details>\n",
    "\n",
    "<!--\n",
    "BEGIN QUESTION\n",
    "name: q4ai1\n",
    "points: 1\n",
    "-->"
   ]
  },
  {
   "cell_type": "code",
   "execution_count": 46,
   "id": "6a10ed6a",
   "metadata": {},
   "outputs": [],
   "source": [
    "def dataframe_to_time_series(df: pd.DataFrame):\n",
    "    \"\"\"Convert your dataframe into a 'time series'.\n",
    "    \n",
    "    :param df: the original dataframe, mapping speeds to census tracts.\n",
    "        This dataframe should contain the `MOVEMENT_ID` (census tract id),\n",
    "        `day`, and average speed for that day `speed_mph_mean`\n",
    "    :return: a new dataframe that is formatted as n x d, where\n",
    "        n is the number of samples (census tracts) and d is the number of\n",
    "        dimensions (days). The values are the speeds.\n",
    "    \"\"\"\n",
    "    return pd.pivot_table(df[[\"day\", \"speed_mph_mean\", \"MOVEMENT_ID\"]], values=\"speed_mph_mean\", index = \"MOVEMENT_ID\", columns='day', aggfunc=np.mean)\n",
    "time_series = dataframe_to_time_series(speeds_to_tract)\n",
    "time_series_pre = time_series.iloc[:, list(range(13))]"
   ]
  },
  {
   "cell_type": "code",
   "execution_count": 47,
   "id": "406c38a7",
   "metadata": {
    "deletable": false,
    "editable": false
   },
   "outputs": [
    {
     "data": {
      "text/html": [
       "<p><strong><pre style='display: inline;'>q4ai1</pre></strong> passed!</p>"
      ],
      "text/plain": [
       "q4ai1 results: All test cases passed!"
      ]
     },
     "execution_count": 47,
     "metadata": {},
     "output_type": "execute_result"
    }
   ],
   "source": [
    "grader.check(\"q4ai1\")"
   ]
  },
  {
   "cell_type": "code",
   "execution_count": 48,
   "id": "2e66942f",
   "metadata": {},
   "outputs": [],
   "source": [
    "def time_series_to_numpy(df: pd.DataFrame, T: int, n_val: int):\n",
    "    \"\"\"Convert your 'time series' into train-validate splits, in numpy\n",
    "    \n",
    "    You can assume your dataframe contains a `day` column where days\n",
    "    start from 1 and are consecutive.\n",
    "    \n",
    "    :param df: the dataframe formatted as n x d, where\n",
    "        n is the number of samples (census tracts) and d is the number of\n",
    "        dimensions (days). The values are the speeds.\n",
    "    :param T: number of days to include in each training sample\n",
    "    :param n_val: number of days to hold out for the validation set.\n",
    "        Say we have 5 total days in our dataset, T=2, n_val=2. This means\n",
    "        during training, we have samples that pull averages from days 1 and\n",
    "        2 to predict day 3: x=(1, 2), y=(3,) For validation, we have samples\n",
    "        like x=(2, 3), y=(4,) and x=(3, 4), y=(5,). This way, the model sees\n",
    "        data from days 4 and 5 only during validation.\n",
    "    :return: Set of 4 numpy arrays - X_train, y_train, X_val, y_val - where\n",
    "        X_* arrays are (n, T) and y_* arrays are (n,).\n",
    "    \"\"\"\n",
    "    X_train = []\n",
    "    y_train = []\n",
    "    X_val = []\n",
    "    y_val = []\n",
    "    \n",
    "    for i in range(0, df.shape[1] - n_val - T):\n",
    "        arr_x = np.array(df.iloc[:, i : i + T])\n",
    "        arr_y = np.array(df.iloc[:, i + T])\n",
    "        if i == 0:\n",
    "            X_train = arr_x\n",
    "            y_train = arr_y\n",
    "        else:\n",
    "            X_train = np.append(X_train, arr_x, 0)\n",
    "            y_train = np.append(y_train, arr_y, 0)\n",
    "    \n",
    "    for i in range(df.shape[1] - n_val, df.shape[1]):\n",
    "        if n_val == 0:\n",
    "            break\n",
    "        arr_x_val = np.array(df.iloc[:, i - T : i])\n",
    "        arr_y_val = np.array(df.iloc[:, i])\n",
    "        if len(X_val) == 0:\n",
    "            X_val = arr_x_val\n",
    "            y_val = arr_y_val\n",
    "        else:\n",
    "            X_val = np.append(X_val, arr_x_val, 0)\n",
    "            y_val = np.append(y_val, arr_y_val, 0)\n",
    "            \n",
    "    return np.array(X_train), np.array(y_train), np.array(X_val), np.array(y_val)\n",
    "\n",
    "\n",
    "def remove_nans(X: np.array, y: np.array):\n",
    "    \"\"\"Remove all nans from the provided (X, y) pair.\n",
    "    \n",
    "    Note: A nan in X means that sample must be removed from *both X and y.\n",
    "        Likewise, a nan in y means that sample must be removed from *both\n",
    "        X and y.\n",
    "    \n",
    "    :param X: (n, T) array of model inputs\n",
    "    :param y: (n,) array of labels\n",
    "    :return: (X, y)\n",
    "    \"\"\"\n",
    "    if not len(X):\n",
    "        return X, y\n",
    "    \n",
    "    cleanX = []\n",
    "    cleanY = []\n",
    "    for i in range(len(X)):\n",
    "        xHasNaN = np.isnan(np.sum(X[i]))\n",
    "        yHasNaN = np.isnan(np.sum(y[i]))\n",
    "        if (xHasNaN == False) and (yHasNaN == False):\n",
    "            cleanX.append(X[i])\n",
    "            cleanY.append(y[i])\n",
    "    return np.array(cleanX), np.array(cleanY)\n",
    "\n",
    "answer = time_series_to_numpy(time_series, 10, 2)\n",
    "answer2 = remove_nans(answer[0], answer[1])"
   ]
  },
  {
   "cell_type": "code",
   "execution_count": 49,
   "id": "f12e28e6",
   "metadata": {
    "deletable": false,
    "editable": false
   },
   "outputs": [
    {
     "data": {
      "text/html": [
       "<p><strong><pre style='display: inline;'>q4ai2</pre></strong> passed!</p>"
      ],
      "text/plain": [
       "q4ai2 results: All test cases passed!"
      ]
     },
     "execution_count": 49,
     "metadata": {},
     "output_type": "execute_result"
    }
   ],
   "source": [
    "grader.check(\"q4ai2\")"
   ]
  },
  {
   "cell_type": "code",
   "execution_count": 50,
   "id": "3fd28eb3",
   "metadata": {},
   "outputs": [],
   "source": [
    "def time_series_to_dataset(time_series: pd.DataFrame, T: int, n_val: int):\n",
    "    \"\"\"Convert 'time series' dataframe to a numpy dataset.\n",
    "    \n",
    "    Uses utilites above `time_series_to_numpy` and `remove_nans`\n",
    "    \n",
    "    For description of arguments, see `time_series_to_numpy` docstring.\n",
    "    \"\"\"\n",
    "    X_train, y_train, X_val, y_val = time_series_to_numpy(time_series, T, n_val)\n",
    "    X_train, y_train = remove_nans(X_train, y_train)\n",
    "    X_val, y_val = remove_nans(X_val, y_val)\n",
    "    return X_train, y_train, X_val, y_val\n",
    "\n",
    "X_train, y_train, X_val, y_val = time_series_to_dataset(time_series_pre, 5, 2)"
   ]
  },
  {
   "cell_type": "code",
   "execution_count": 51,
   "id": "635ff589",
   "metadata": {
    "deletable": false,
    "editable": false
   },
   "outputs": [
    {
     "data": {
      "text/html": [
       "<p><strong><pre style='display: inline;'>q4ai3</pre></strong> passed!</p>"
      ],
      "text/plain": [
       "q4ai3 results: All test cases passed!"
      ]
     },
     "execution_count": 51,
     "metadata": {},
     "output_type": "execute_result"
    }
   ],
   "source": [
    "grader.check(\"q4ai3\")"
   ]
  },
  {
   "cell_type": "code",
   "execution_count": 52,
   "id": "54ebb7d9",
   "metadata": {},
   "outputs": [
    {
     "data": {
      "text/html": [
       "<div>\n",
       "<style scoped>\n",
       "    .dataframe tbody tr th:only-of-type {\n",
       "        vertical-align: middle;\n",
       "    }\n",
       "\n",
       "    .dataframe tbody tr th {\n",
       "        vertical-align: top;\n",
       "    }\n",
       "\n",
       "    .dataframe thead th {\n",
       "        text-align: right;\n",
       "    }\n",
       "</style>\n",
       "<table border=\"1\" class=\"dataframe\">\n",
       "  <thead>\n",
       "    <tr style=\"text-align: right;\">\n",
       "      <th>day</th>\n",
       "      <th>1</th>\n",
       "      <th>2</th>\n",
       "      <th>3</th>\n",
       "      <th>4</th>\n",
       "      <th>5</th>\n",
       "      <th>6</th>\n",
       "      <th>7</th>\n",
       "      <th>8</th>\n",
       "      <th>9</th>\n",
       "      <th>10</th>\n",
       "      <th>...</th>\n",
       "      <th>22</th>\n",
       "      <th>23</th>\n",
       "      <th>24</th>\n",
       "      <th>25</th>\n",
       "      <th>26</th>\n",
       "      <th>27</th>\n",
       "      <th>28</th>\n",
       "      <th>29</th>\n",
       "      <th>30</th>\n",
       "      <th>31</th>\n",
       "    </tr>\n",
       "    <tr>\n",
       "      <th>MOVEMENT_ID</th>\n",
       "      <th></th>\n",
       "      <th></th>\n",
       "      <th></th>\n",
       "      <th></th>\n",
       "      <th></th>\n",
       "      <th></th>\n",
       "      <th></th>\n",
       "      <th></th>\n",
       "      <th></th>\n",
       "      <th></th>\n",
       "      <th></th>\n",
       "      <th></th>\n",
       "      <th></th>\n",
       "      <th></th>\n",
       "      <th></th>\n",
       "      <th></th>\n",
       "      <th></th>\n",
       "      <th></th>\n",
       "      <th></th>\n",
       "      <th></th>\n",
       "      <th></th>\n",
       "    </tr>\n",
       "  </thead>\n",
       "  <tbody>\n",
       "    <tr>\n",
       "      <th>9</th>\n",
       "      <td>16.196918</td>\n",
       "      <td>14.395121</td>\n",
       "      <td>13.868696</td>\n",
       "      <td>14.225414</td>\n",
       "      <td>14.312199</td>\n",
       "      <td>13.811991</td>\n",
       "      <td>15.508637</td>\n",
       "      <td>16.210738</td>\n",
       "      <td>14.845320</td>\n",
       "      <td>14.711534</td>\n",
       "      <td>...</td>\n",
       "      <td>15.880078</td>\n",
       "      <td>17.019573</td>\n",
       "      <td>15.527393</td>\n",
       "      <td>15.925605</td>\n",
       "      <td>15.959744</td>\n",
       "      <td>17.317841</td>\n",
       "      <td>17.845053</td>\n",
       "      <td>17.839214</td>\n",
       "      <td>15.743376</td>\n",
       "      <td>15.797248</td>\n",
       "    </tr>\n",
       "    <tr>\n",
       "      <th>20</th>\n",
       "      <td>17.418045</td>\n",
       "      <td>15.460956</td>\n",
       "      <td>15.463297</td>\n",
       "      <td>15.419764</td>\n",
       "      <td>15.291956</td>\n",
       "      <td>15.227310</td>\n",
       "      <td>17.088325</td>\n",
       "      <td>18.088862</td>\n",
       "      <td>16.178105</td>\n",
       "      <td>15.295494</td>\n",
       "      <td>...</td>\n",
       "      <td>18.843376</td>\n",
       "      <td>17.029943</td>\n",
       "      <td>16.286795</td>\n",
       "      <td>17.007889</td>\n",
       "      <td>15.205696</td>\n",
       "      <td>17.461643</td>\n",
       "      <td>16.997424</td>\n",
       "      <td>19.024721</td>\n",
       "      <td>14.134949</td>\n",
       "      <td>17.287814</td>\n",
       "    </tr>\n",
       "    <tr>\n",
       "      <th>21</th>\n",
       "      <td>15.141171</td>\n",
       "      <td>13.176998</td>\n",
       "      <td>13.781490</td>\n",
       "      <td>14.052113</td>\n",
       "      <td>14.078134</td>\n",
       "      <td>13.636357</td>\n",
       "      <td>13.958269</td>\n",
       "      <td>14.642295</td>\n",
       "      <td>15.616215</td>\n",
       "      <td>14.850471</td>\n",
       "      <td>...</td>\n",
       "      <td>NaN</td>\n",
       "      <td>NaN</td>\n",
       "      <td>NaN</td>\n",
       "      <td>NaN</td>\n",
       "      <td>NaN</td>\n",
       "      <td>NaN</td>\n",
       "      <td>NaN</td>\n",
       "      <td>NaN</td>\n",
       "      <td>NaN</td>\n",
       "      <td>NaN</td>\n",
       "    </tr>\n",
       "    <tr>\n",
       "      <th>44</th>\n",
       "      <td>25.079544</td>\n",
       "      <td>23.492586</td>\n",
       "      <td>22.727711</td>\n",
       "      <td>22.274143</td>\n",
       "      <td>21.874703</td>\n",
       "      <td>23.082414</td>\n",
       "      <td>22.875819</td>\n",
       "      <td>25.653848</td>\n",
       "      <td>23.501387</td>\n",
       "      <td>22.739869</td>\n",
       "      <td>...</td>\n",
       "      <td>24.381933</td>\n",
       "      <td>25.350188</td>\n",
       "      <td>31.126033</td>\n",
       "      <td>NaN</td>\n",
       "      <td>22.518500</td>\n",
       "      <td>27.697570</td>\n",
       "      <td>26.899667</td>\n",
       "      <td>19.777429</td>\n",
       "      <td>24.385409</td>\n",
       "      <td>24.683422</td>\n",
       "    </tr>\n",
       "    <tr>\n",
       "      <th>78</th>\n",
       "      <td>16.174464</td>\n",
       "      <td>16.755496</td>\n",
       "      <td>16.039120</td>\n",
       "      <td>16.118401</td>\n",
       "      <td>15.665069</td>\n",
       "      <td>15.797723</td>\n",
       "      <td>15.302616</td>\n",
       "      <td>19.284080</td>\n",
       "      <td>16.253357</td>\n",
       "      <td>16.131290</td>\n",
       "      <td>...</td>\n",
       "      <td>NaN</td>\n",
       "      <td>NaN</td>\n",
       "      <td>15.690000</td>\n",
       "      <td>NaN</td>\n",
       "      <td>NaN</td>\n",
       "      <td>16.849000</td>\n",
       "      <td>NaN</td>\n",
       "      <td>NaN</td>\n",
       "      <td>16.493000</td>\n",
       "      <td>16.767400</td>\n",
       "    </tr>\n",
       "    <tr>\n",
       "      <th>...</th>\n",
       "      <td>...</td>\n",
       "      <td>...</td>\n",
       "      <td>...</td>\n",
       "      <td>...</td>\n",
       "      <td>...</td>\n",
       "      <td>...</td>\n",
       "      <td>...</td>\n",
       "      <td>...</td>\n",
       "      <td>...</td>\n",
       "      <td>...</td>\n",
       "      <td>...</td>\n",
       "      <td>...</td>\n",
       "      <td>...</td>\n",
       "      <td>...</td>\n",
       "      <td>...</td>\n",
       "      <td>...</td>\n",
       "      <td>...</td>\n",
       "      <td>...</td>\n",
       "      <td>...</td>\n",
       "      <td>...</td>\n",
       "      <td>...</td>\n",
       "    </tr>\n",
       "    <tr>\n",
       "      <th>2691</th>\n",
       "      <td>NaN</td>\n",
       "      <td>NaN</td>\n",
       "      <td>NaN</td>\n",
       "      <td>NaN</td>\n",
       "      <td>18.600000</td>\n",
       "      <td>17.787000</td>\n",
       "      <td>23.473000</td>\n",
       "      <td>NaN</td>\n",
       "      <td>19.038000</td>\n",
       "      <td>NaN</td>\n",
       "      <td>...</td>\n",
       "      <td>NaN</td>\n",
       "      <td>NaN</td>\n",
       "      <td>NaN</td>\n",
       "      <td>NaN</td>\n",
       "      <td>NaN</td>\n",
       "      <td>NaN</td>\n",
       "      <td>NaN</td>\n",
       "      <td>NaN</td>\n",
       "      <td>NaN</td>\n",
       "      <td>NaN</td>\n",
       "    </tr>\n",
       "    <tr>\n",
       "      <th>2694</th>\n",
       "      <td>17.809761</td>\n",
       "      <td>16.725889</td>\n",
       "      <td>16.530783</td>\n",
       "      <td>16.446517</td>\n",
       "      <td>16.503053</td>\n",
       "      <td>16.652473</td>\n",
       "      <td>17.427329</td>\n",
       "      <td>18.057287</td>\n",
       "      <td>17.310272</td>\n",
       "      <td>16.998730</td>\n",
       "      <td>...</td>\n",
       "      <td>23.886576</td>\n",
       "      <td>23.410192</td>\n",
       "      <td>23.302396</td>\n",
       "      <td>23.031966</td>\n",
       "      <td>23.107702</td>\n",
       "      <td>23.581885</td>\n",
       "      <td>24.382866</td>\n",
       "      <td>23.278001</td>\n",
       "      <td>23.426889</td>\n",
       "      <td>24.056357</td>\n",
       "    </tr>\n",
       "    <tr>\n",
       "      <th>2695</th>\n",
       "      <td>20.106061</td>\n",
       "      <td>20.228850</td>\n",
       "      <td>19.849135</td>\n",
       "      <td>20.145877</td>\n",
       "      <td>22.357605</td>\n",
       "      <td>19.250479</td>\n",
       "      <td>19.223717</td>\n",
       "      <td>19.471282</td>\n",
       "      <td>20.497077</td>\n",
       "      <td>20.401085</td>\n",
       "      <td>...</td>\n",
       "      <td>29.218800</td>\n",
       "      <td>NaN</td>\n",
       "      <td>NaN</td>\n",
       "      <td>NaN</td>\n",
       "      <td>23.396500</td>\n",
       "      <td>NaN</td>\n",
       "      <td>19.708000</td>\n",
       "      <td>26.461900</td>\n",
       "      <td>NaN</td>\n",
       "      <td>19.959500</td>\n",
       "    </tr>\n",
       "    <tr>\n",
       "      <th>2700</th>\n",
       "      <td>34.586890</td>\n",
       "      <td>31.372308</td>\n",
       "      <td>30.866382</td>\n",
       "      <td>31.000998</td>\n",
       "      <td>31.636377</td>\n",
       "      <td>30.213992</td>\n",
       "      <td>33.581884</td>\n",
       "      <td>35.443617</td>\n",
       "      <td>32.179867</td>\n",
       "      <td>32.951855</td>\n",
       "      <td>...</td>\n",
       "      <td>47.265544</td>\n",
       "      <td>39.722920</td>\n",
       "      <td>42.812205</td>\n",
       "      <td>39.087122</td>\n",
       "      <td>54.935270</td>\n",
       "      <td>40.893501</td>\n",
       "      <td>45.208787</td>\n",
       "      <td>60.177978</td>\n",
       "      <td>38.714434</td>\n",
       "      <td>48.398038</td>\n",
       "    </tr>\n",
       "    <tr>\n",
       "      <th>2708</th>\n",
       "      <td>25.176235</td>\n",
       "      <td>24.725863</td>\n",
       "      <td>24.130040</td>\n",
       "      <td>24.287102</td>\n",
       "      <td>24.364056</td>\n",
       "      <td>25.090063</td>\n",
       "      <td>25.552157</td>\n",
       "      <td>26.296112</td>\n",
       "      <td>25.512403</td>\n",
       "      <td>24.886063</td>\n",
       "      <td>...</td>\n",
       "      <td>NaN</td>\n",
       "      <td>19.323625</td>\n",
       "      <td>27.792333</td>\n",
       "      <td>25.255979</td>\n",
       "      <td>25.388000</td>\n",
       "      <td>24.786000</td>\n",
       "      <td>27.643333</td>\n",
       "      <td>27.497250</td>\n",
       "      <td>29.508200</td>\n",
       "      <td>NaN</td>\n",
       "    </tr>\n",
       "  </tbody>\n",
       "</table>\n",
       "<p>295 rows × 31 columns</p>\n",
       "</div>"
      ],
      "text/plain": [
       "day                 1          2          3          4          5          6   \\\n",
       "MOVEMENT_ID                                                                     \n",
       "9            16.196918  14.395121  13.868696  14.225414  14.312199  13.811991   \n",
       "20           17.418045  15.460956  15.463297  15.419764  15.291956  15.227310   \n",
       "21           15.141171  13.176998  13.781490  14.052113  14.078134  13.636357   \n",
       "44           25.079544  23.492586  22.727711  22.274143  21.874703  23.082414   \n",
       "78           16.174464  16.755496  16.039120  16.118401  15.665069  15.797723   \n",
       "...                ...        ...        ...        ...        ...        ...   \n",
       "2691               NaN        NaN        NaN        NaN  18.600000  17.787000   \n",
       "2694         17.809761  16.725889  16.530783  16.446517  16.503053  16.652473   \n",
       "2695         20.106061  20.228850  19.849135  20.145877  22.357605  19.250479   \n",
       "2700         34.586890  31.372308  30.866382  31.000998  31.636377  30.213992   \n",
       "2708         25.176235  24.725863  24.130040  24.287102  24.364056  25.090063   \n",
       "\n",
       "day                 7          8          9          10  ...         22  \\\n",
       "MOVEMENT_ID                                              ...              \n",
       "9            15.508637  16.210738  14.845320  14.711534  ...  15.880078   \n",
       "20           17.088325  18.088862  16.178105  15.295494  ...  18.843376   \n",
       "21           13.958269  14.642295  15.616215  14.850471  ...        NaN   \n",
       "44           22.875819  25.653848  23.501387  22.739869  ...  24.381933   \n",
       "78           15.302616  19.284080  16.253357  16.131290  ...        NaN   \n",
       "...                ...        ...        ...        ...  ...        ...   \n",
       "2691         23.473000        NaN  19.038000        NaN  ...        NaN   \n",
       "2694         17.427329  18.057287  17.310272  16.998730  ...  23.886576   \n",
       "2695         19.223717  19.471282  20.497077  20.401085  ...  29.218800   \n",
       "2700         33.581884  35.443617  32.179867  32.951855  ...  47.265544   \n",
       "2708         25.552157  26.296112  25.512403  24.886063  ...        NaN   \n",
       "\n",
       "day                 23         24         25         26         27         28  \\\n",
       "MOVEMENT_ID                                                                     \n",
       "9            17.019573  15.527393  15.925605  15.959744  17.317841  17.845053   \n",
       "20           17.029943  16.286795  17.007889  15.205696  17.461643  16.997424   \n",
       "21                 NaN        NaN        NaN        NaN        NaN        NaN   \n",
       "44           25.350188  31.126033        NaN  22.518500  27.697570  26.899667   \n",
       "78                 NaN  15.690000        NaN        NaN  16.849000        NaN   \n",
       "...                ...        ...        ...        ...        ...        ...   \n",
       "2691               NaN        NaN        NaN        NaN        NaN        NaN   \n",
       "2694         23.410192  23.302396  23.031966  23.107702  23.581885  24.382866   \n",
       "2695               NaN        NaN        NaN  23.396500        NaN  19.708000   \n",
       "2700         39.722920  42.812205  39.087122  54.935270  40.893501  45.208787   \n",
       "2708         19.323625  27.792333  25.255979  25.388000  24.786000  27.643333   \n",
       "\n",
       "day                 29         30         31  \n",
       "MOVEMENT_ID                                   \n",
       "9            17.839214  15.743376  15.797248  \n",
       "20           19.024721  14.134949  17.287814  \n",
       "21                 NaN        NaN        NaN  \n",
       "44           19.777429  24.385409  24.683422  \n",
       "78                 NaN  16.493000  16.767400  \n",
       "...                ...        ...        ...  \n",
       "2691               NaN        NaN        NaN  \n",
       "2694         23.278001  23.426889  24.056357  \n",
       "2695         26.461900        NaN  19.959500  \n",
       "2700         60.177978  38.714434  48.398038  \n",
       "2708         27.497250  29.508200        NaN  \n",
       "\n",
       "[295 rows x 31 columns]"
      ]
     },
     "execution_count": 52,
     "metadata": {},
     "output_type": "execute_result"
    }
   ],
   "source": [
    "time_series"
   ]
  },
  {
   "cell_type": "code",
   "execution_count": 53,
   "id": "6f67b760",
   "metadata": {},
   "outputs": [
    {
     "data": {
      "text/html": [
       "<div>\n",
       "<style scoped>\n",
       "    .dataframe tbody tr th:only-of-type {\n",
       "        vertical-align: middle;\n",
       "    }\n",
       "\n",
       "    .dataframe tbody tr th {\n",
       "        vertical-align: top;\n",
       "    }\n",
       "\n",
       "    .dataframe thead th {\n",
       "        text-align: right;\n",
       "    }\n",
       "</style>\n",
       "<table border=\"1\" class=\"dataframe\">\n",
       "  <thead>\n",
       "    <tr style=\"text-align: right;\">\n",
       "      <th>day</th>\n",
       "      <th>1</th>\n",
       "      <th>2</th>\n",
       "      <th>3</th>\n",
       "      <th>4</th>\n",
       "      <th>5</th>\n",
       "      <th>6</th>\n",
       "      <th>7</th>\n",
       "      <th>8</th>\n",
       "      <th>9</th>\n",
       "      <th>10</th>\n",
       "      <th>11</th>\n",
       "      <th>12</th>\n",
       "      <th>13</th>\n",
       "    </tr>\n",
       "    <tr>\n",
       "      <th>MOVEMENT_ID</th>\n",
       "      <th></th>\n",
       "      <th></th>\n",
       "      <th></th>\n",
       "      <th></th>\n",
       "      <th></th>\n",
       "      <th></th>\n",
       "      <th></th>\n",
       "      <th></th>\n",
       "      <th></th>\n",
       "      <th></th>\n",
       "      <th></th>\n",
       "      <th></th>\n",
       "      <th></th>\n",
       "    </tr>\n",
       "  </thead>\n",
       "  <tbody>\n",
       "    <tr>\n",
       "      <th>9</th>\n",
       "      <td>16.196918</td>\n",
       "      <td>14.395121</td>\n",
       "      <td>13.868696</td>\n",
       "      <td>14.225414</td>\n",
       "      <td>14.312199</td>\n",
       "      <td>13.811991</td>\n",
       "      <td>15.508637</td>\n",
       "      <td>16.210738</td>\n",
       "      <td>14.845320</td>\n",
       "      <td>14.711534</td>\n",
       "      <td>13.739901</td>\n",
       "      <td>14.391436</td>\n",
       "      <td>13.955833</td>\n",
       "    </tr>\n",
       "    <tr>\n",
       "      <th>20</th>\n",
       "      <td>17.418045</td>\n",
       "      <td>15.460956</td>\n",
       "      <td>15.463297</td>\n",
       "      <td>15.419764</td>\n",
       "      <td>15.291956</td>\n",
       "      <td>15.227310</td>\n",
       "      <td>17.088325</td>\n",
       "      <td>18.088862</td>\n",
       "      <td>16.178105</td>\n",
       "      <td>15.295494</td>\n",
       "      <td>14.637109</td>\n",
       "      <td>14.282602</td>\n",
       "      <td>14.437358</td>\n",
       "    </tr>\n",
       "    <tr>\n",
       "      <th>21</th>\n",
       "      <td>15.141171</td>\n",
       "      <td>13.176998</td>\n",
       "      <td>13.781490</td>\n",
       "      <td>14.052113</td>\n",
       "      <td>14.078134</td>\n",
       "      <td>13.636357</td>\n",
       "      <td>13.958269</td>\n",
       "      <td>14.642295</td>\n",
       "      <td>15.616215</td>\n",
       "      <td>14.850471</td>\n",
       "      <td>13.790100</td>\n",
       "      <td>14.573349</td>\n",
       "      <td>15.177251</td>\n",
       "    </tr>\n",
       "    <tr>\n",
       "      <th>44</th>\n",
       "      <td>25.079544</td>\n",
       "      <td>23.492586</td>\n",
       "      <td>22.727711</td>\n",
       "      <td>22.274143</td>\n",
       "      <td>21.874703</td>\n",
       "      <td>23.082414</td>\n",
       "      <td>22.875819</td>\n",
       "      <td>25.653848</td>\n",
       "      <td>23.501387</td>\n",
       "      <td>22.739869</td>\n",
       "      <td>23.756560</td>\n",
       "      <td>24.989269</td>\n",
       "      <td>23.176275</td>\n",
       "    </tr>\n",
       "    <tr>\n",
       "      <th>78</th>\n",
       "      <td>16.174464</td>\n",
       "      <td>16.755496</td>\n",
       "      <td>16.039120</td>\n",
       "      <td>16.118401</td>\n",
       "      <td>15.665069</td>\n",
       "      <td>15.797723</td>\n",
       "      <td>15.302616</td>\n",
       "      <td>19.284080</td>\n",
       "      <td>16.253357</td>\n",
       "      <td>16.131290</td>\n",
       "      <td>15.773117</td>\n",
       "      <td>16.091415</td>\n",
       "      <td>16.208158</td>\n",
       "    </tr>\n",
       "    <tr>\n",
       "      <th>...</th>\n",
       "      <td>...</td>\n",
       "      <td>...</td>\n",
       "      <td>...</td>\n",
       "      <td>...</td>\n",
       "      <td>...</td>\n",
       "      <td>...</td>\n",
       "      <td>...</td>\n",
       "      <td>...</td>\n",
       "      <td>...</td>\n",
       "      <td>...</td>\n",
       "      <td>...</td>\n",
       "      <td>...</td>\n",
       "      <td>...</td>\n",
       "    </tr>\n",
       "    <tr>\n",
       "      <th>2691</th>\n",
       "      <td>NaN</td>\n",
       "      <td>NaN</td>\n",
       "      <td>NaN</td>\n",
       "      <td>NaN</td>\n",
       "      <td>18.600000</td>\n",
       "      <td>17.787000</td>\n",
       "      <td>23.473000</td>\n",
       "      <td>NaN</td>\n",
       "      <td>19.038000</td>\n",
       "      <td>NaN</td>\n",
       "      <td>NaN</td>\n",
       "      <td>22.107000</td>\n",
       "      <td>NaN</td>\n",
       "    </tr>\n",
       "    <tr>\n",
       "      <th>2694</th>\n",
       "      <td>17.809761</td>\n",
       "      <td>16.725889</td>\n",
       "      <td>16.530783</td>\n",
       "      <td>16.446517</td>\n",
       "      <td>16.503053</td>\n",
       "      <td>16.652473</td>\n",
       "      <td>17.427329</td>\n",
       "      <td>18.057287</td>\n",
       "      <td>17.310272</td>\n",
       "      <td>16.998730</td>\n",
       "      <td>16.891788</td>\n",
       "      <td>17.008323</td>\n",
       "      <td>17.559142</td>\n",
       "    </tr>\n",
       "    <tr>\n",
       "      <th>2695</th>\n",
       "      <td>20.106061</td>\n",
       "      <td>20.228850</td>\n",
       "      <td>19.849135</td>\n",
       "      <td>20.145877</td>\n",
       "      <td>22.357605</td>\n",
       "      <td>19.250479</td>\n",
       "      <td>19.223717</td>\n",
       "      <td>19.471282</td>\n",
       "      <td>20.497077</td>\n",
       "      <td>20.401085</td>\n",
       "      <td>23.870537</td>\n",
       "      <td>20.215396</td>\n",
       "      <td>20.343131</td>\n",
       "    </tr>\n",
       "    <tr>\n",
       "      <th>2700</th>\n",
       "      <td>34.586890</td>\n",
       "      <td>31.372308</td>\n",
       "      <td>30.866382</td>\n",
       "      <td>31.000998</td>\n",
       "      <td>31.636377</td>\n",
       "      <td>30.213992</td>\n",
       "      <td>33.581884</td>\n",
       "      <td>35.443617</td>\n",
       "      <td>32.179867</td>\n",
       "      <td>32.951855</td>\n",
       "      <td>31.574525</td>\n",
       "      <td>32.172958</td>\n",
       "      <td>31.334364</td>\n",
       "    </tr>\n",
       "    <tr>\n",
       "      <th>2708</th>\n",
       "      <td>25.176235</td>\n",
       "      <td>24.725863</td>\n",
       "      <td>24.130040</td>\n",
       "      <td>24.287102</td>\n",
       "      <td>24.364056</td>\n",
       "      <td>25.090063</td>\n",
       "      <td>25.552157</td>\n",
       "      <td>26.296112</td>\n",
       "      <td>25.512403</td>\n",
       "      <td>24.886063</td>\n",
       "      <td>23.902599</td>\n",
       "      <td>25.262721</td>\n",
       "      <td>24.450025</td>\n",
       "    </tr>\n",
       "  </tbody>\n",
       "</table>\n",
       "<p>295 rows × 13 columns</p>\n",
       "</div>"
      ],
      "text/plain": [
       "day                 1          2          3          4          5          6   \\\n",
       "MOVEMENT_ID                                                                     \n",
       "9            16.196918  14.395121  13.868696  14.225414  14.312199  13.811991   \n",
       "20           17.418045  15.460956  15.463297  15.419764  15.291956  15.227310   \n",
       "21           15.141171  13.176998  13.781490  14.052113  14.078134  13.636357   \n",
       "44           25.079544  23.492586  22.727711  22.274143  21.874703  23.082414   \n",
       "78           16.174464  16.755496  16.039120  16.118401  15.665069  15.797723   \n",
       "...                ...        ...        ...        ...        ...        ...   \n",
       "2691               NaN        NaN        NaN        NaN  18.600000  17.787000   \n",
       "2694         17.809761  16.725889  16.530783  16.446517  16.503053  16.652473   \n",
       "2695         20.106061  20.228850  19.849135  20.145877  22.357605  19.250479   \n",
       "2700         34.586890  31.372308  30.866382  31.000998  31.636377  30.213992   \n",
       "2708         25.176235  24.725863  24.130040  24.287102  24.364056  25.090063   \n",
       "\n",
       "day                 7          8          9          10         11         12  \\\n",
       "MOVEMENT_ID                                                                     \n",
       "9            15.508637  16.210738  14.845320  14.711534  13.739901  14.391436   \n",
       "20           17.088325  18.088862  16.178105  15.295494  14.637109  14.282602   \n",
       "21           13.958269  14.642295  15.616215  14.850471  13.790100  14.573349   \n",
       "44           22.875819  25.653848  23.501387  22.739869  23.756560  24.989269   \n",
       "78           15.302616  19.284080  16.253357  16.131290  15.773117  16.091415   \n",
       "...                ...        ...        ...        ...        ...        ...   \n",
       "2691         23.473000        NaN  19.038000        NaN        NaN  22.107000   \n",
       "2694         17.427329  18.057287  17.310272  16.998730  16.891788  17.008323   \n",
       "2695         19.223717  19.471282  20.497077  20.401085  23.870537  20.215396   \n",
       "2700         33.581884  35.443617  32.179867  32.951855  31.574525  32.172958   \n",
       "2708         25.552157  26.296112  25.512403  24.886063  23.902599  25.262721   \n",
       "\n",
       "day                 13  \n",
       "MOVEMENT_ID             \n",
       "9            13.955833  \n",
       "20           14.437358  \n",
       "21           15.177251  \n",
       "44           23.176275  \n",
       "78           16.208158  \n",
       "...                ...  \n",
       "2691               NaN  \n",
       "2694         17.559142  \n",
       "2695         20.343131  \n",
       "2700         31.334364  \n",
       "2708         24.450025  \n",
       "\n",
       "[295 rows x 13 columns]"
      ]
     },
     "execution_count": 53,
     "metadata": {},
     "output_type": "execute_result"
    }
   ],
   "source": [
    "time_series_pre"
   ]
  },
  {
   "cell_type": "code",
   "execution_count": 54,
   "id": "3c1a0b33",
   "metadata": {},
   "outputs": [
    {
     "data": {
      "text/plain": [
       "((1705, 5), (1705,), (562, 5), (562,))"
      ]
     },
     "execution_count": 54,
     "metadata": {},
     "output_type": "execute_result"
    }
   ],
   "source": [
    "(X_train.shape, y_train.shape, X_val.shape, y_val.shape)"
   ]
  },
  {
   "cell_type": "markdown",
   "id": "e9183455",
   "metadata": {
    "deletable": false,
    "editable": false
   },
   "source": [
    "<!-- BEGIN QUESTION -->\n",
    "\n",
    "### 4.a.ii. Train and evaluate linear model on pre-lockdown data.\n",
    "\n",
    "1. **Train a linear model that forecasts the next day's speed average** using your training dataset `X_train`, `y_train`. Specifically, predict $y_{(i,t)}$ from $X_{(i,t)}$, where\n",
    "- $y_{(i,t)}$ is the daily speed average for day $t$ and census tract $i$\n",
    "- $X_{(i,t)}$ is a vector of daily speed averages for days $t-5,t-4,t-3,t-2,t-1$ for census tract $i$\n",
    "2. **Evaluate your model** on your validation dataset `X_val`, `y_val`.\n",
    "3. **Make a scatter plot**, plotting predicted averages against ground truth averages. Note the perfect model would line up all points along the line $y=x$.\n",
    "\n",
    "Our model is quantitatively and qualitatively pretty accurate at this point, training and evaluating on pre-lockdown data.\n",
    "\n",
    "<!--\n",
    "BEGIN QUESTION\n",
    "name: q4aii1\n",
    "points: 1\n",
    "manual: True\n",
    "-->"
   ]
  },
  {
   "cell_type": "code",
   "execution_count": 55,
   "id": "5be823d2",
   "metadata": {},
   "outputs": [
    {
     "data": {
      "image/png": "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\n",
      "text/plain": [
       "<Figure size 432x288 with 1 Axes>"
      ]
     },
     "metadata": {
      "needs_background": "light"
     },
     "output_type": "display_data"
    }
   ],
   "source": [
    "reg = LinearRegression().fit(X_train, y_train) # set to trained linear model\n",
    "score = reg.score(X_val, y_val) # report r^2 score\n",
    "# create the scatter plot below\n",
    "plt.scatter(reg.predict(X_val), y_val)\n",
    "x = np.linspace(0,70,1000)\n",
    "plt.plot(x, x, linewidth=1.0,linestyle='-',label=\"y=x\",color='r')\n",
    "plt.xlabel(\"Predicted Averages\")\n",
    "plt.ylabel(\"Ground Truth Averages\")\n",
    "plt.title(\"Predicted Averages vs. Ground Truth Averages\")\n",
    "plt.legend();"
   ]
  },
  {
   "cell_type": "markdown",
   "id": "5904db8f",
   "metadata": {
    "deletable": false,
    "editable": false
   },
   "source": [
    "<!-- END QUESTION -->\n",
    "\n",
    "<!--\n",
    "BEGIN QUESTION\n",
    "name: q4aii2\n",
    "points: 1\n",
    "-->"
   ]
  },
  {
   "cell_type": "code",
   "execution_count": 56,
   "id": "e74913fb",
   "metadata": {},
   "outputs": [
    {
     "data": {
      "text/plain": [
       "0.9639232922122069"
      ]
     },
     "execution_count": 56,
     "metadata": {},
     "output_type": "execute_result"
    }
   ],
   "source": [
    "score"
   ]
  },
  {
   "cell_type": "code",
   "execution_count": 57,
   "id": "65cc1e54",
   "metadata": {
    "deletable": false,
    "editable": false
   },
   "outputs": [
    {
     "data": {
      "text/html": [
       "<p><strong><pre style='display: inline;'>q4aii2</pre></strong> passed!</p>"
      ],
      "text/plain": [
       "q4aii2 results: All test cases passed!"
      ]
     },
     "execution_count": 57,
     "metadata": {},
     "output_type": "execute_result"
    }
   ],
   "source": [
    "grader.check(\"q4aii2\")"
   ]
  },
  {
   "cell_type": "markdown",
   "id": "53bfd2af",
   "metadata": {},
   "source": [
    "## 4.b. Understand failures on post-lockdown data\n",
    "\n",
    "Your dataset is distributed spatially and temporally. As a result, the most intuitive spaces to visualize your model error or performance along is both spatially and temporally. In this step, we focus on understanding *where* your model fails."
   ]
  },
  {
   "cell_type": "markdown",
   "id": "6a43fe82",
   "metadata": {
    "deletable": false,
    "editable": false
   },
   "source": [
    "### 4.b.i. Evaluate on post-lockdown data\n",
    "\n",
    "1. Using your previously trained linear regression model `reg`, **evaluate on post-lockdown data**, meaning daily speed averages on March 14, 2020. Evaluate on all census tracts.\n",
    "2. **Make a scatter plot**, plotting predicted averages against ground truth averages. Note the perfect model would line up all points along the line $y=x$.\n",
    "\n",
    "<!--\n",
    "BEGIN QUESTION\n",
    "name: q4bi1\n",
    "points: 1\n",
    "-->"
   ]
  },
  {
   "cell_type": "code",
   "execution_count": 58,
   "id": "dc8edff4",
   "metadata": {},
   "outputs": [
    {
     "data": {
      "text/plain": [
       "0.9337122097376677"
      ]
     },
     "execution_count": 58,
     "metadata": {},
     "output_type": "execute_result"
    }
   ],
   "source": [
    "time_series_x_pre = time_series_to_dataset(time_series.iloc[:, list(range(8, 14))], 5, 0)[0] # get 'time series' dataframe for days 9, 10, 11, 12, 13\n",
    "time_series_y_post = time_series_to_dataset(time_series.iloc[:, list(range(8, 14))], 5, 0)[1] # get 'time series' dataframe for 14th\n",
    "score_pre_14th = reg.score(time_series_x_pre, time_series_y_post)\n",
    "score_pre_14th"
   ]
  },
  {
   "cell_type": "code",
   "execution_count": 59,
   "id": "46315050",
   "metadata": {
    "deletable": false,
    "editable": false
   },
   "outputs": [
    {
     "data": {
      "text/html": [
       "<p><strong><pre style='display: inline;'>q4bi1</pre></strong> passed!</p>"
      ],
      "text/plain": [
       "q4bi1 results: All test cases passed!"
      ]
     },
     "execution_count": 59,
     "metadata": {},
     "output_type": "execute_result"
    }
   ],
   "source": [
    "grader.check(\"q4bi1\")"
   ]
  },
  {
   "cell_type": "code",
   "execution_count": 60,
   "id": "c33b5a73",
   "metadata": {},
   "outputs": [
    {
     "data": {
      "text/plain": [
       "array([[14.84532001, 14.71153361, 13.73990125, 14.3914358 , 13.95583259],\n",
       "       [16.17810543, 15.29549397, 14.63710904, 14.28260209, 14.43735825],\n",
       "       [15.61621536, 14.85047114, 13.79010039, 14.57334878, 15.17725078],\n",
       "       ...,\n",
       "       [20.4970768 , 20.40108451, 23.8705369 , 20.2153963 , 20.34313065],\n",
       "       [32.17986695, 32.9518555 , 31.57452517, 32.17295775, 31.33436375],\n",
       "       [25.51240295, 24.88606305, 23.90259874, 25.26272056, 24.45002487]])"
      ]
     },
     "execution_count": 60,
     "metadata": {},
     "output_type": "execute_result"
    }
   ],
   "source": [
    "time_series_x_pre"
   ]
  },
  {
   "cell_type": "code",
   "execution_count": 61,
   "id": "d278129b",
   "metadata": {
    "scrolled": true
   },
   "outputs": [
    {
     "data": {
      "text/plain": [
       "array([15.87805614, 16.09538544, 15.17225238, 25.00645192, 15.1288    ,\n",
       "       16.7048158 , 18.77729159, 23.98522813, 25.03852101, 30.76832456,\n",
       "       17.77197562, 18.11368942, 28.02313988, 20.82763148, 17.42694207,\n",
       "       18.22003466, 28.26654435, 29.32978935, 20.73002755, 17.33082953,\n",
       "       25.213125  , 35.62818654, 60.35547222, 15.25889038, 18.61711905,\n",
       "       30.73814813, 31.88187256, 31.3947788 , 31.81918147, 25.88585606,\n",
       "       18.56674462, 18.16756015, 17.15433443, 16.00452038, 60.76129862,\n",
       "       30.60442575, 18.3730735 , 18.81192524, 17.6888209 , 23.05320108,\n",
       "       17.52912136, 16.30571395, 26.5748976 , 35.29862818, 38.50747421,\n",
       "       19.46483041, 15.82690418, 17.80623106, 15.38788273, 14.12497315,\n",
       "       16.23102798, 15.26397466, 16.07743469, 16.74570089, 22.65961155,\n",
       "       28.44381007, 13.91921591, 30.9269172 , 20.37785778, 21.22272118,\n",
       "       20.00507443, 23.90197941, 23.69164573, 19.11505735, 29.0305431 ,\n",
       "       27.62038497, 31.07392876, 25.43576819, 35.83537867, 35.4035995 ,\n",
       "       31.64741285, 28.93780142, 20.76923342, 17.98091361, 24.11926818,\n",
       "       15.00940674, 20.83168599, 16.61251149, 17.58350158, 14.99661282,\n",
       "       21.96234806, 20.40775212, 24.10797135, 25.60904101, 29.41826173,\n",
       "       39.83399717, 17.53635226, 16.55251252, 20.52805882, 26.50376503,\n",
       "       21.84318931, 31.7942124 , 28.86889954, 29.26868714, 15.49345566,\n",
       "       15.75539257, 17.58101275, 16.80713743, 15.02138955, 15.32007439,\n",
       "       15.87504334, 19.1761971 , 20.47487901, 23.45619287, 35.67405377,\n",
       "       15.8484375 , 25.73021294, 19.97074703, 19.55891089, 18.71378678,\n",
       "       17.39657395, 21.30488275, 18.7329462 , 17.89155283, 19.13476917,\n",
       "       24.29933944, 28.44848257, 18.68946894, 25.9632698 , 20.99803458,\n",
       "       21.50751768, 23.40248113, 19.66359876, 22.37056646, 24.31496995,\n",
       "       23.84666053, 26.24559585, 34.53025751, 32.47699078, 21.94771624,\n",
       "       32.57359352, 25.85769527, 42.51083953, 40.37629592, 38.27340152,\n",
       "       33.87325   , 30.54413687, 67.66575   , 33.064625  , 28.7831133 ,\n",
       "       19.79905556, 17.40416604, 25.99411477, 22.96999441, 28.07797758,\n",
       "       22.12083696, 24.52217433, 17.99051905, 24.6675308 , 62.64061623,\n",
       "       42.86341523, 34.12777804, 15.97064281, 19.6272527 , 16.452229  ,\n",
       "       20.18218987, 16.16079216, 13.8158375 , 15.56698407, 18.21402246,\n",
       "       12.94858557, 19.26711683, 19.71553747, 40.46699569, 20.83519901,\n",
       "       23.92669168, 17.17241506, 17.27647394, 15.47602009, 18.43196773,\n",
       "       19.83762623, 22.94709073, 17.54187106, 28.97332868, 18.26311907,\n",
       "       18.8532538 , 29.65691498, 20.37955942, 21.22871429, 19.93208647,\n",
       "       43.49783562, 28.16263399, 30.12725377, 40.10782653, 19.58404892,\n",
       "       43.61856697, 33.53393376, 28.20682131, 25.58635972, 29.88786359,\n",
       "       27.52548396, 29.45826788, 42.60508978, 47.74284952, 37.27590246,\n",
       "       24.707697  , 32.94259104, 29.8323498 , 26.893     , 21.20204648,\n",
       "       22.07714443, 23.72469318, 21.91568126, 24.26561502, 24.26861782,\n",
       "       19.36084319, 26.4550552 , 19.23378255, 28.80977594, 22.8902902 ,\n",
       "       34.30214114, 18.2812103 , 23.11418758, 26.88382628, 33.02345538,\n",
       "       35.40605692, 33.73217596, 27.19824889, 31.01583283, 32.26074406,\n",
       "       32.14072054, 30.34995328, 66.80449539, 37.09219261, 20.81817293,\n",
       "       15.84484272, 15.28418018, 21.29391884, 16.34639092, 19.92468019,\n",
       "       15.39847417, 20.75067131, 25.75046956, 16.7227    , 19.92969579,\n",
       "       21.95584908, 26.50475177, 16.6435    , 55.09474384, 15.28578585,\n",
       "       23.18176566, 21.23727037, 26.51559824, 36.817217  , 16.65308542,\n",
       "       16.77654915, 24.54459554, 27.97590412, 34.51848875, 45.14591341,\n",
       "       17.76492843, 23.75937869, 15.71704   , 35.86374495, 26.11860601,\n",
       "       19.29482968, 16.29245369, 19.45377507, 24.79054806, 17.99567283,\n",
       "       39.9204    , 29.38660334, 33.61247985, 35.7876973 , 28.96535898,\n",
       "       52.73298333, 16.72688464, 24.61988506, 18.80900751, 21.6962251 ,\n",
       "       23.22866934, 19.46236995, 22.77182862, 19.40889583, 47.79622632,\n",
       "       29.84888878, 17.71492964, 20.32141767, 33.94169651, 29.02354856])"
      ]
     },
     "execution_count": 61,
     "metadata": {},
     "output_type": "execute_result"
    }
   ],
   "source": [
    "time_series_y_post"
   ]
  },
  {
   "cell_type": "markdown",
   "id": "c91da701",
   "metadata": {
    "deletable": false,
    "editable": false
   },
   "source": [
    "<!-- BEGIN QUESTION -->\n",
    "\n",
    "Make scatter plot below.\n",
    "<!--\n",
    "BEGIN QUESTION\n",
    "name: q4bi2\n",
    "points: 1\n",
    "manual: True\n",
    "-->"
   ]
  },
  {
   "cell_type": "code",
   "execution_count": 62,
   "id": "385011bf",
   "metadata": {},
   "outputs": [
    {
     "data": {
      "image/png": "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\n",
      "text/plain": [
       "<Figure size 432x288 with 1 Axes>"
      ]
     },
     "metadata": {
      "needs_background": "light"
     },
     "output_type": "display_data"
    }
   ],
   "source": [
    "plt.scatter(reg.predict(time_series_x_pre), time_series_y_post)\n",
    "x = np.linspace(0,70,1000)\n",
    "plt.plot(x, x, linewidth=1.0,linestyle='-',label=\"y=x\",color='r')\n",
    "plt.xlabel(\"Predicted Averages\")\n",
    "plt.ylabel(\"Ground Truth Averages\")\n",
    "plt.title(\"Predicted Averages vs. Ground Truth Averages\")\n",
    "plt.legend();"
   ]
  },
  {
   "cell_type": "markdown",
   "id": "15e05436",
   "metadata": {
    "deletable": false,
    "editable": false
   },
   "source": [
    "<!-- END QUESTION -->\n",
    "\n",
    "<!-- BEGIN QUESTION -->\n",
    "\n",
    "### 4.b.ii. Report model performance temporally\n",
    "\n",
    "1. **Make a line plot** showing performance of the original model throughout all of March 2020.\n",
    "2. **Report the lowest point on the line plot**, reflecting the lowest model performance.\n",
    "2. **Why is model performance the worst on the 17th?** Why does it begin to worsen on march 15th? And continue to worsen? Use what you know about covid measures on those dates. You may find this webpage useful: https://abc7news.com/timeline-of-coronavirus-us-covid-19-bay-area-sf/6047519/\n",
    "3. **Is the dip in performance on the 9th foreshadowed** by any of our EDA?\n",
    "4. **How does the model miraculously recover on its own?**\n",
    "5. **Make a scatter plot**, plotting predicted averages against ground truth averages *for model predictions on March 17th*. Note the perfect model would line up all points along the line $y=x$. When compared against previous plots of this nature, this plot looks substantially worse, with points straying far from $y=x$.\n",
    "\n",
    "**Note:** Answer questions 2-5 in the Markdown cell below. Q1 and Q6 are answered in the two code cells below.\n",
    "\n",
    "<!--\n",
    "BEGIN QUESTION\n",
    "name: q4bii1\n",
    "points: 3\n",
    "manual: True\n",
    "-->\n",
    "\n"
   ]
  },
  {
   "cell_type": "markdown",
   "id": "fae80544",
   "metadata": {},
   "source": [
    "1.Shown as the figure below.\n",
    "\n",
    "2.The lowest point is March 17th.\n",
    "\n",
    "3.Model performance gets the worst on the 17th, since at that time shelter in place order took effect in six counties including San Francisco. About 7 million Bay Area residents were told to restrict activities and travel to only essential tasks. The traffic pattern changes dramatically and speeds in previous days turn to unhelpful for prediction. \n",
    "\n",
    "It began to worsen on March 15th because Governor Gavin Newsom ordered all bars, nightclubs, wineries, and brewpubs to close. It continues to worsen because more counties issued shelter in place. The dip in performance on the 9th was not foreshadowed by any of our EDA. The model recovers on its own by getting trained by all data.\n",
    "\n",
    "4.On March 8th, the Grand Princess cruise ship with 21 coronavirus patients, plans to be docked at the Port of Oakland. Oakland is very close to San Francisco, so this announcement might make people afraid to travel around. Also, along with the government paying more and more attention to Coronovius, like publishing health recommendations two days ago, residents might be influenced by the government's attitude and reduce the time staying outside. \n",
    "\n",
    "5.Because after some sharp decrease in mean travel speed, the change of mean travel speed becomes more stable in the following days. Since the time series model predicts the mean travel speed of the following days by the mean travel speed of the previous days, the model gets more accurate results with stable data.\n",
    "\n",
    "6.Shown as the plot figure below."
   ]
  },
  {
   "cell_type": "markdown",
   "id": "a8f2cda7",
   "metadata": {
    "deletable": false,
    "editable": false
   },
   "source": [
    "<!-- END QUESTION -->\n",
    "\n",
    "<!-- BEGIN QUESTION -->\n",
    "\n",
    "Generate line plot.\n",
    "<!--\n",
    "BEGIN QUESTION\n",
    "name: q4bii2\n",
    "points: 1\n",
    "manual: True\n",
    "-->"
   ]
  },
  {
   "cell_type": "code",
   "execution_count": 63,
   "id": "4e19a9db",
   "metadata": {
    "tags": []
   },
   "outputs": [
    {
     "data": {
      "image/png": "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\n",
      "text/plain": [
       "<Figure size 432x288 with 1 Axes>"
      ]
     },
     "metadata": {
      "needs_background": "light"
     },
     "output_type": "display_data"
    }
   ],
   "source": [
    "def all_scores(time_series):\n",
    "    day = []\n",
    "    score = []\n",
    "    for i in range(6, 32):\n",
    "        x_y = time_series_to_dataset(time_series.iloc[:, list(range(i - 6, i))], 5, 0)\n",
    "        score_ = reg.score(x_y[0], x_y[1])\n",
    "        day.append(i)\n",
    "        score.append(score_)\n",
    "    return np.array(day), np.array(score)\n",
    "\n",
    "day_4bii, score_4bii = all_scores(time_series)\n",
    "plt.plot(day_4bii, score_4bii);"
   ]
  },
  {
   "cell_type": "code",
   "execution_count": 64,
   "id": "a6eec107-f1ba-414c-9867-e11280a115cf",
   "metadata": {},
   "outputs": [
    {
     "data": {
      "text/plain": [
       "0.7248438392437919"
      ]
     },
     "execution_count": 64,
     "metadata": {},
     "output_type": "execute_result"
    }
   ],
   "source": [
    "score_4bii.min()"
   ]
  },
  {
   "cell_type": "markdown",
   "id": "f0fd8a4c",
   "metadata": {
    "deletable": false,
    "editable": false
   },
   "source": [
    "<!-- END QUESTION -->\n",
    "\n",
    "<!-- BEGIN QUESTION -->\n",
    "\n",
    "Generate a scatter plot.\n",
    "<!--\n",
    "BEGIN QUESTION\n",
    "name: q4bii3\n",
    "points: 1\n",
    "manual: True\n",
    "-->"
   ]
  },
  {
   "cell_type": "code",
   "execution_count": 65,
   "id": "c2cd380a",
   "metadata": {},
   "outputs": [
    {
     "data": {
      "image/png": "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\n",
      "text/plain": [
       "<Figure size 432x288 with 1 Axes>"
      ]
     },
     "metadata": {
      "needs_background": "light"
     },
     "output_type": "display_data"
    }
   ],
   "source": [
    "seventeen = time_series_to_dataset(time_series.iloc[:, list(range(10, 17))], 5, 1)\n",
    "plt.scatter(reg.predict(seventeen[0]), seventeen[1]);\n",
    "x = np.linspace(0,70,1000)\n",
    "plt.plot(x, x, linewidth=1.0,linestyle='-',label=\"y=x\",color='r')\n",
    "plt.xlabel(\"Predicted Averages\")\n",
    "plt.ylabel(\"Ground Truth Averages\")\n",
    "plt.title(\"Predicted Averages vs. Ground Truth Averages\")\n",
    "plt.legend();"
   ]
  },
  {
   "cell_type": "markdown",
   "id": "22ad11a5",
   "metadata": {},
   "source": [
    "<!-- END QUESTION -->\n",
    "\n",
    "\n",
    "\n",
    "## 4.c. \"Fix\" model on post-lockdown data\n",
    "\n",
    "Per this survey https://pure.tue.nl/ws/files/3488790/740215.pdf, there are 4 categories of fixes for change points:\n",
    "- Forgetting mechanisms\n",
    "- Explicit change detection\n",
    "- Ensemble techniques\n",
    "- Context-aware approaches\n",
    "\n",
    "In this part, we'll combine insights in model errors with previous EDA insights to produce a fix."
   ]
  },
  {
   "cell_type": "markdown",
   "id": "219adccd",
   "metadata": {
    "deletable": false,
    "editable": false
   },
   "source": [
    "<!-- BEGIN QUESTION -->\n",
    "\n",
    "### 4.c.i. Learn delta off of a moving bias\n",
    "\n",
    "According to our previous work in EDA, the average speed shoots upwards sharply. As a result, our trick to learn delta the around the average and to naively assume that the average of day $t$ is the average for day $t+1$. We will do this in 4 steps:\n",
    "\n",
    "1. **Create a dataset for your delta model**.\n",
    "2. **Train your delta model** on pre-lockdown data.\n",
    "3. **Evaluate your model on pre-lockdown data**, to ensure that the model has learned to a satisfactory degree, in the nominal case. Remember the naive model achieved 0.97 r^2 on pre-lockdown data.\n",
    "4. **Evaluate your model on the 17th**, to compare against the naive model also evaluated on that day. Notice that your r^2 score has improved by 10%+. Why is your delta model so effective for the 17th?\n",
    "5. **Evaluate your model on the 14th**, to compare against the naive model also evaluated on that day. Notice that your r^2 score is now complete garbage. Why is your delta so ineffective for the 14th?\n",
    "\n",
    "**Hint**: As you build your datasets, always check to make sure you're using the right days! It's easy to have a one-off error that throws off your results.\n",
    "\n",
    "Write your written questions in the next cell, then write the code in the following cells.\n",
    "\n",
    "<!--\n",
    "BEGIN QUESTION\n",
    "name: q4ci1\n",
    "points: 2\n",
    "manual: True\n",
    "-->"
   ]
  },
  {
   "cell_type": "markdown",
   "id": "a5dafac4",
   "metadata": {},
   "source": [
    "1.2.3. Shown as codes below.\n",
    "\n",
    "4.Compared with the naive model, the delta model focuses on the difference between average speed in each movement id and the average speed among all movement id, while the naive model only focuses on the average speed in each movement id. Since on March 17th, 2020, about 7 million Bay Area residents were told to restrict activities and travel to only essential tasks, the majority of people around the bay area were restricted to go out. Therefore, the change of average speed in all movement id will be similar due to the widespread impact of the restriction policy. Thus, the change in average speed among all movement id will have more similarity in delta model than in naive model. The delta model will be more accurate in predicting the average speed in each movement id than the naive model does."
   ]
  },
  {
   "cell_type": "markdown",
   "id": "524d3d68",
   "metadata": {
    "deletable": false,
    "editable": false
   },
   "source": [
    "<!-- END QUESTION -->\n",
    "\n",
    "<!--\n",
    "BEGIN QUESTION\n",
    "name: q4ci2\n",
    "points: 1\n",
    "-->"
   ]
  },
  {
   "cell_type": "code",
   "execution_count": 66,
   "id": "83c0171d",
   "metadata": {
    "tags": []
   },
   "outputs": [
    {
     "data": {
      "text/html": [
       "<div>\n",
       "<style scoped>\n",
       "    .dataframe tbody tr th:only-of-type {\n",
       "        vertical-align: middle;\n",
       "    }\n",
       "\n",
       "    .dataframe tbody tr th {\n",
       "        vertical-align: top;\n",
       "    }\n",
       "\n",
       "    .dataframe thead th {\n",
       "        text-align: right;\n",
       "    }\n",
       "</style>\n",
       "<table border=\"1\" class=\"dataframe\">\n",
       "  <thead>\n",
       "    <tr style=\"text-align: right;\">\n",
       "      <th>day</th>\n",
       "      <th>1</th>\n",
       "      <th>2</th>\n",
       "      <th>3</th>\n",
       "      <th>4</th>\n",
       "      <th>5</th>\n",
       "      <th>6</th>\n",
       "      <th>7</th>\n",
       "      <th>8</th>\n",
       "      <th>9</th>\n",
       "      <th>10</th>\n",
       "      <th>11</th>\n",
       "      <th>12</th>\n",
       "      <th>13</th>\n",
       "    </tr>\n",
       "    <tr>\n",
       "      <th>MOVEMENT_ID</th>\n",
       "      <th></th>\n",
       "      <th></th>\n",
       "      <th></th>\n",
       "      <th></th>\n",
       "      <th></th>\n",
       "      <th></th>\n",
       "      <th></th>\n",
       "      <th></th>\n",
       "      <th></th>\n",
       "      <th></th>\n",
       "      <th></th>\n",
       "      <th></th>\n",
       "      <th></th>\n",
       "    </tr>\n",
       "  </thead>\n",
       "  <tbody>\n",
       "    <tr>\n",
       "      <th>9</th>\n",
       "      <td>-7.436210</td>\n",
       "      <td>-7.929735</td>\n",
       "      <td>-7.957726</td>\n",
       "      <td>-7.706332</td>\n",
       "      <td>-7.673488</td>\n",
       "      <td>-8.288859</td>\n",
       "      <td>-7.342673</td>\n",
       "      <td>-7.838718</td>\n",
       "      <td>-8.163539</td>\n",
       "      <td>-7.950124</td>\n",
       "      <td>-9.037052</td>\n",
       "      <td>-8.687048</td>\n",
       "      <td>-9.364599</td>\n",
       "    </tr>\n",
       "    <tr>\n",
       "      <th>20</th>\n",
       "      <td>-6.215082</td>\n",
       "      <td>-6.863900</td>\n",
       "      <td>-6.363125</td>\n",
       "      <td>-6.511982</td>\n",
       "      <td>-6.693731</td>\n",
       "      <td>-6.873540</td>\n",
       "      <td>-5.762984</td>\n",
       "      <td>-5.960594</td>\n",
       "      <td>-6.830754</td>\n",
       "      <td>-7.366163</td>\n",
       "      <td>-8.139844</td>\n",
       "      <td>-8.795882</td>\n",
       "      <td>-8.883074</td>\n",
       "    </tr>\n",
       "    <tr>\n",
       "      <th>21</th>\n",
       "      <td>-8.491956</td>\n",
       "      <td>-9.147858</td>\n",
       "      <td>-8.044932</td>\n",
       "      <td>-7.879632</td>\n",
       "      <td>-7.907553</td>\n",
       "      <td>-8.464493</td>\n",
       "      <td>-8.893040</td>\n",
       "      <td>-9.407162</td>\n",
       "      <td>-7.392644</td>\n",
       "      <td>-7.811186</td>\n",
       "      <td>-8.986853</td>\n",
       "      <td>-8.505135</td>\n",
       "      <td>-8.143181</td>\n",
       "    </tr>\n",
       "    <tr>\n",
       "      <th>44</th>\n",
       "      <td>1.446417</td>\n",
       "      <td>1.167730</td>\n",
       "      <td>0.901289</td>\n",
       "      <td>0.342397</td>\n",
       "      <td>-0.110985</td>\n",
       "      <td>0.981564</td>\n",
       "      <td>0.024509</td>\n",
       "      <td>1.604391</td>\n",
       "      <td>0.492527</td>\n",
       "      <td>0.078211</td>\n",
       "      <td>0.979607</td>\n",
       "      <td>1.910786</td>\n",
       "      <td>-0.144157</td>\n",
       "    </tr>\n",
       "    <tr>\n",
       "      <th>78</th>\n",
       "      <td>-7.458664</td>\n",
       "      <td>-5.569360</td>\n",
       "      <td>-5.787301</td>\n",
       "      <td>-5.813345</td>\n",
       "      <td>-6.320619</td>\n",
       "      <td>-6.303126</td>\n",
       "      <td>-7.548693</td>\n",
       "      <td>-4.765377</td>\n",
       "      <td>-6.755502</td>\n",
       "      <td>-6.530367</td>\n",
       "      <td>-7.003837</td>\n",
       "      <td>-6.987069</td>\n",
       "      <td>-7.112274</td>\n",
       "    </tr>\n",
       "    <tr>\n",
       "      <th>...</th>\n",
       "      <td>...</td>\n",
       "      <td>...</td>\n",
       "      <td>...</td>\n",
       "      <td>...</td>\n",
       "      <td>...</td>\n",
       "      <td>...</td>\n",
       "      <td>...</td>\n",
       "      <td>...</td>\n",
       "      <td>...</td>\n",
       "      <td>...</td>\n",
       "      <td>...</td>\n",
       "      <td>...</td>\n",
       "      <td>...</td>\n",
       "    </tr>\n",
       "    <tr>\n",
       "      <th>2691</th>\n",
       "      <td>NaN</td>\n",
       "      <td>NaN</td>\n",
       "      <td>NaN</td>\n",
       "      <td>NaN</td>\n",
       "      <td>-3.385687</td>\n",
       "      <td>-4.313850</td>\n",
       "      <td>0.621691</td>\n",
       "      <td>NaN</td>\n",
       "      <td>-3.970859</td>\n",
       "      <td>NaN</td>\n",
       "      <td>NaN</td>\n",
       "      <td>-0.971484</td>\n",
       "      <td>NaN</td>\n",
       "    </tr>\n",
       "    <tr>\n",
       "      <th>2694</th>\n",
       "      <td>-5.823366</td>\n",
       "      <td>-5.598968</td>\n",
       "      <td>-5.295639</td>\n",
       "      <td>-5.485229</td>\n",
       "      <td>-5.482634</td>\n",
       "      <td>-5.448377</td>\n",
       "      <td>-5.423980</td>\n",
       "      <td>-5.992169</td>\n",
       "      <td>-5.698587</td>\n",
       "      <td>-5.662927</td>\n",
       "      <td>-5.885166</td>\n",
       "      <td>-6.070161</td>\n",
       "      <td>-5.761289</td>\n",
       "    </tr>\n",
       "    <tr>\n",
       "      <th>2695</th>\n",
       "      <td>-3.527067</td>\n",
       "      <td>-2.096006</td>\n",
       "      <td>-1.977287</td>\n",
       "      <td>-1.785869</td>\n",
       "      <td>0.371917</td>\n",
       "      <td>-2.850371</td>\n",
       "      <td>-3.627592</td>\n",
       "      <td>-4.578175</td>\n",
       "      <td>-2.511783</td>\n",
       "      <td>-2.260573</td>\n",
       "      <td>1.093583</td>\n",
       "      <td>-2.863087</td>\n",
       "      <td>-2.977301</td>\n",
       "    </tr>\n",
       "    <tr>\n",
       "      <th>2700</th>\n",
       "      <td>10.953762</td>\n",
       "      <td>9.047451</td>\n",
       "      <td>9.039961</td>\n",
       "      <td>9.069252</td>\n",
       "      <td>9.650690</td>\n",
       "      <td>8.113142</td>\n",
       "      <td>10.730575</td>\n",
       "      <td>11.394160</td>\n",
       "      <td>9.171008</td>\n",
       "      <td>10.290198</td>\n",
       "      <td>8.797572</td>\n",
       "      <td>9.094474</td>\n",
       "      <td>8.013932</td>\n",
       "    </tr>\n",
       "    <tr>\n",
       "      <th>2708</th>\n",
       "      <td>1.543108</td>\n",
       "      <td>2.401007</td>\n",
       "      <td>2.303618</td>\n",
       "      <td>2.355356</td>\n",
       "      <td>2.378369</td>\n",
       "      <td>2.989213</td>\n",
       "      <td>2.700848</td>\n",
       "      <td>2.246655</td>\n",
       "      <td>2.503544</td>\n",
       "      <td>2.224406</td>\n",
       "      <td>1.125645</td>\n",
       "      <td>2.184237</td>\n",
       "      <td>1.129593</td>\n",
       "    </tr>\n",
       "  </tbody>\n",
       "</table>\n",
       "<p>295 rows × 13 columns</p>\n",
       "</div>"
      ],
      "text/plain": [
       "day                 1         2         3         4         5         6   \\\n",
       "MOVEMENT_ID                                                                \n",
       "9            -7.436210 -7.929735 -7.957726 -7.706332 -7.673488 -8.288859   \n",
       "20           -6.215082 -6.863900 -6.363125 -6.511982 -6.693731 -6.873540   \n",
       "21           -8.491956 -9.147858 -8.044932 -7.879632 -7.907553 -8.464493   \n",
       "44            1.446417  1.167730  0.901289  0.342397 -0.110985  0.981564   \n",
       "78           -7.458664 -5.569360 -5.787301 -5.813345 -6.320619 -6.303126   \n",
       "...                ...       ...       ...       ...       ...       ...   \n",
       "2691               NaN       NaN       NaN       NaN -3.385687 -4.313850   \n",
       "2694         -5.823366 -5.598968 -5.295639 -5.485229 -5.482634 -5.448377   \n",
       "2695         -3.527067 -2.096006 -1.977287 -1.785869  0.371917 -2.850371   \n",
       "2700         10.953762  9.047451  9.039961  9.069252  9.650690  8.113142   \n",
       "2708          1.543108  2.401007  2.303618  2.355356  2.378369  2.989213   \n",
       "\n",
       "day                 7          8         9          10        11        12  \\\n",
       "MOVEMENT_ID                                                                  \n",
       "9            -7.342673  -7.838718 -8.163539  -7.950124 -9.037052 -8.687048   \n",
       "20           -5.762984  -5.960594 -6.830754  -7.366163 -8.139844 -8.795882   \n",
       "21           -8.893040  -9.407162 -7.392644  -7.811186 -8.986853 -8.505135   \n",
       "44            0.024509   1.604391  0.492527   0.078211  0.979607  1.910786   \n",
       "78           -7.548693  -4.765377 -6.755502  -6.530367 -7.003837 -6.987069   \n",
       "...                ...        ...       ...        ...       ...       ...   \n",
       "2691          0.621691        NaN -3.970859        NaN       NaN -0.971484   \n",
       "2694         -5.423980  -5.992169 -5.698587  -5.662927 -5.885166 -6.070161   \n",
       "2695         -3.627592  -4.578175 -2.511783  -2.260573  1.093583 -2.863087   \n",
       "2700         10.730575  11.394160  9.171008  10.290198  8.797572  9.094474   \n",
       "2708          2.700848   2.246655  2.503544   2.224406  1.125645  2.184237   \n",
       "\n",
       "day                13  \n",
       "MOVEMENT_ID            \n",
       "9           -9.364599  \n",
       "20          -8.883074  \n",
       "21          -8.143181  \n",
       "44          -0.144157  \n",
       "78          -7.112274  \n",
       "...               ...  \n",
       "2691              NaN  \n",
       "2694        -5.761289  \n",
       "2695        -2.977301  \n",
       "2700         8.013932  \n",
       "2708         1.129593  \n",
       "\n",
       "[295 rows x 13 columns]"
      ]
     },
     "execution_count": 66,
     "metadata": {},
     "output_type": "execute_result"
    }
   ],
   "source": [
    "time_series_delta = time_series_pre - speeds_daily.iloc[:13].T # subtract daily average from pre-lockdown 'time series' dataframe `time_series_pre`\n",
    "time_series_delta"
   ]
  },
  {
   "cell_type": "code",
   "execution_count": 67,
   "id": "89d5cf3b",
   "metadata": {
    "deletable": false,
    "editable": false
   },
   "outputs": [
    {
     "data": {
      "text/html": [
       "<p><strong><pre style='display: inline;'>q4ci2</pre></strong> passed!</p>"
      ],
      "text/plain": [
       "q4ci2 results: All test cases passed!"
      ]
     },
     "execution_count": 67,
     "metadata": {},
     "output_type": "execute_result"
    }
   ],
   "source": [
    "grader.check(\"q4ci2\")"
   ]
  },
  {
   "cell_type": "code",
   "execution_count": 68,
   "id": "eda7cf5a",
   "metadata": {},
   "outputs": [
    {
     "data": {
      "text/plain": [
       "0.9645254590172871"
      ]
     },
     "execution_count": 68,
     "metadata": {},
     "output_type": "execute_result"
    }
   ],
   "source": [
    "X_delta_train, y_delta_train, X_delta_val, y_delta_val = time_series_to_dataset(time_series_delta, 5, 2)\n",
    "reg_delta = LinearRegression().fit(X_delta_train, y_delta_train)\n",
    "res_4ci3 = reg_delta.score(X_delta_val, y_delta_val) # learning delta as easy as learning original dataset!\n",
    "res_4ci3"
   ]
  },
  {
   "cell_type": "code",
   "execution_count": 69,
   "id": "57b32414",
   "metadata": {
    "deletable": false,
    "editable": false
   },
   "outputs": [
    {
     "data": {
      "text/html": [
       "<p><strong><pre style='display: inline;'>q4ci3</pre></strong> passed!</p>"
      ],
      "text/plain": [
       "q4ci3 results: All test cases passed!"
      ]
     },
     "execution_count": 69,
     "metadata": {},
     "output_type": "execute_result"
    }
   ],
   "source": [
    "grader.check(\"q4ci3\")"
   ]
  },
  {
   "cell_type": "code",
   "execution_count": 70,
   "id": "d00733a4",
   "metadata": {},
   "outputs": [
    {
     "data": {
      "text/plain": [
       "0.8346539614612526"
      ]
     },
     "execution_count": 70,
     "metadata": {},
     "output_type": "execute_result"
    }
   ],
   "source": [
    "time_series_delta_17th = (time_series - speeds_daily.T).iloc[:, 11:17]\n",
    "x_y_4ci4 = time_series_to_dataset(time_series_delta_17th, 5, 0)\n",
    "res_4ci4 = reg_delta.score(x_y_4ci4[0], x_y_4ci4[1])\n",
    "res_4ci4"
   ]
  },
  {
   "cell_type": "code",
   "execution_count": 71,
   "id": "97e617a2",
   "metadata": {
    "deletable": false,
    "editable": false,
    "tags": []
   },
   "outputs": [
    {
     "data": {
      "text/html": [
       "<p><strong style='color: red;'><pre style='display: inline;'>q4ci4</pre> results:</strong></p><p><strong><pre style='display: inline;'>q4ci4 - 1</pre> result:</strong></p><pre>    Trying:\n",
       "        np.isclose(res_4ci4, 0.8616633417528182, rtol=1e-4, atol=1e-4)\n",
       "    Expecting:\n",
       "        True\n",
       "    **********************************************************************\n",
       "    Line 1, in q4ci4 0\n",
       "    Failed example:\n",
       "        np.isclose(res_4ci4, 0.8616633417528182, rtol=1e-4, atol=1e-4)\n",
       "    Expected:\n",
       "        True\n",
       "    Got:\n",
       "        False\n",
       "</pre>"
      ],
      "text/plain": [
       "q4ci4 results:\n",
       "    q4ci4 - 1 result:\n",
       "        Trying:\n",
       "            np.isclose(res_4ci4, 0.8616633417528182, rtol=1e-4, atol=1e-4)\n",
       "        Expecting:\n",
       "            True\n",
       "        **********************************************************************\n",
       "        Line 1, in q4ci4 0\n",
       "        Failed example:\n",
       "            np.isclose(res_4ci4, 0.8616633417528182, rtol=1e-4, atol=1e-4)\n",
       "        Expected:\n",
       "            True\n",
       "        Got:\n",
       "            False"
      ]
     },
     "execution_count": 71,
     "metadata": {},
     "output_type": "execute_result"
    }
   ],
   "source": [
    "grader.check(\"q4ci4\")"
   ]
  },
  {
   "cell_type": "code",
   "execution_count": 72,
   "id": "046257ab",
   "metadata": {},
   "outputs": [
    {
     "data": {
      "text/plain": [
       "0.9444984631185283"
      ]
     },
     "execution_count": 72,
     "metadata": {},
     "output_type": "execute_result"
    }
   ],
   "source": [
    "time_series_delta_14th = (time_series - speeds_daily.T).iloc[:, 8:14]\n",
    "x_y_4ci5 = time_series_to_dataset(time_series_delta_14th, 5, 0)\n",
    "res_4ci5 = reg_delta.score(x_y_4ci5[0], x_y_4ci5[1])\n",
    "res_4ci5"
   ]
  },
  {
   "cell_type": "code",
   "execution_count": 73,
   "id": "00819d08",
   "metadata": {
    "deletable": false,
    "editable": false
   },
   "outputs": [
    {
     "data": {
      "text/html": [
       "<p><strong style='color: red;'><pre style='display: inline;'>q4ci5</pre> results:</strong></p><p><strong><pre style='display: inline;'>q4ci5 - 1</pre> result:</strong></p><pre>    Trying:\n",
       "        np.isclose(res_4ci5, 0.11611253470677951, rtol=1e-4, atol=1e-4)\n",
       "    Expecting:\n",
       "        True\n",
       "    **********************************************************************\n",
       "    Line 1, in q4ci5 0\n",
       "    Failed example:\n",
       "        np.isclose(res_4ci5, 0.11611253470677951, rtol=1e-4, atol=1e-4)\n",
       "    Expected:\n",
       "        True\n",
       "    Got:\n",
       "        False\n",
       "</pre>"
      ],
      "text/plain": [
       "q4ci5 results:\n",
       "    q4ci5 - 1 result:\n",
       "        Trying:\n",
       "            np.isclose(res_4ci5, 0.11611253470677951, rtol=1e-4, atol=1e-4)\n",
       "        Expecting:\n",
       "            True\n",
       "        **********************************************************************\n",
       "        Line 1, in q4ci5 0\n",
       "        Failed example:\n",
       "            np.isclose(res_4ci5, 0.11611253470677951, rtol=1e-4, atol=1e-4)\n",
       "        Expected:\n",
       "            True\n",
       "        Got:\n",
       "            False"
      ]
     },
     "execution_count": 73,
     "metadata": {},
     "output_type": "execute_result"
    }
   ],
   "source": [
    "grader.check(\"q4ci5\")"
   ]
  },
  {
   "cell_type": "markdown",
   "id": "d7cce1ba",
   "metadata": {
    "deletable": false,
    "editable": false,
    "tags": []
   },
   "source": [
    "### 4.c.ii. Does it \"solve itself\"? Does the pre-lockdown model predict, after the change point?\n",
    "\n",
    "Had we ignored the problem, would we have been okay? The temporal plot above showing performance over time suggests a partial recovery. **Evaluate the original, naive model on all post-lockdown data** to see. If your final r^2 score does not match the autograder's:\n",
    "- Double check you have selected daily average speeds for the right days, by printing your dataframe.\n",
    "- Double check you're using the right model (a brand new trained model)\n",
    "- Check you're using `T=5, n_val=2`\n",
    "\n",
    "<!--\n",
    "BEGIN QUESTION\n",
    "name: q4cii\n",
    "points: 1\n",
    "-->"
   ]
  },
  {
   "cell_type": "code",
   "execution_count": 74,
   "id": "f8f33751",
   "metadata": {},
   "outputs": [
    {
     "data": {
      "text/plain": [
       "0.9014738674628208"
      ]
     },
     "execution_count": 74,
     "metadata": {},
     "output_type": "execute_result"
    }
   ],
   "source": [
    "time_series_post = time_series.iloc[:, 13:]\n",
    "X_train_post, y_train_post, X_val_post, y_val_post = time_series_to_dataset(time_series_post, 5, 0)\n",
    "score_og_post = reg.score(X_train_post, y_train_post)\n",
    "score_og_post"
   ]
  },
  {
   "cell_type": "code",
   "execution_count": 75,
   "id": "7f17be53",
   "metadata": {
    "deletable": false,
    "editable": false
   },
   "outputs": [
    {
     "data": {
      "text/html": [
       "<p><strong><pre style='display: inline;'>q4cii</pre></strong> passed!</p>"
      ],
      "text/plain": [
       "q4cii results: All test cases passed!"
      ]
     },
     "execution_count": 75,
     "metadata": {},
     "output_type": "execute_result"
    }
   ],
   "source": [
    "grader.check(\"q4cii\")"
   ]
  },
  {
   "cell_type": "markdown",
   "id": "2d64c781",
   "metadata": {
    "deletable": false,
    "editable": false
   },
   "source": [
    "### 4.c.iii. Naively retrain model with post-lockdown data\n",
    "\n",
    "Can we use the same tactics--that we used to train the original model on pre-lockdown data--to train on the post-lockdown data? **Retrain a linear model and evaluate on post-lockdown data only**. You should construct a new dataset using `time_series_to_dataset` using only time series from March 14 to March 31. If your final r^2 score does not match the autograder's:\n",
    "- Double check you have selected daily average speeds for the right days, by printing your dataframe.\n",
    "- Double check you're using the right model (a brand new trained model)\n",
    "- Check you're using `T=5, n_val=2`\n",
    "\n",
    "<!--\n",
    "BEGIN QUESTION\n",
    "name: q4ciii\n",
    "points: 1\n",
    "-->"
   ]
  },
  {
   "cell_type": "code",
   "execution_count": 76,
   "id": "be00ebaf",
   "metadata": {
    "tags": []
   },
   "outputs": [
    {
     "data": {
      "text/plain": [
       "0.8993687576351703"
      ]
     },
     "execution_count": 76,
     "metadata": {},
     "output_type": "execute_result"
    }
   ],
   "source": [
    "time_series_post = time_series.iloc[:, 13:]\n",
    "X_train_post, y_train_post, X_val_post, y_val_post = time_series_to_dataset(time_series_post, 5, 2)\n",
    "reg_post = LinearRegression().fit(X_train_post, y_train_post)\n",
    "score_post = reg_post.score(X_val_post, y_val_post)\n",
    "score_post"
   ]
  },
  {
   "cell_type": "code",
   "execution_count": 77,
   "id": "fb292c1d",
   "metadata": {
    "deletable": false,
    "editable": false
   },
   "outputs": [
    {
     "data": {
      "text/html": [
       "<p><strong><pre style='display: inline;'>q4ciii</pre></strong> passed!</p>"
      ],
      "text/plain": [
       "q4ciii results: All test cases passed!"
      ]
     },
     "execution_count": 77,
     "metadata": {},
     "output_type": "execute_result"
    }
   ],
   "source": [
    "grader.check(\"q4ciii\")"
   ]
  },
  {
   "cell_type": "markdown",
   "id": "17325151",
   "metadata": {
    "deletable": false,
    "editable": false
   },
   "source": [
    "### 4.c.iv. What if you just ignore the change point?\n",
    "\n",
    "Turns out, this is no good. Even acknowledging the change point and training *either* before *or* after is better. Being ignorant and training on *both* is the worst option, producing a lower r^2.\n",
    "\n",
    "<!--\n",
    "BEGIN QUESTION\n",
    "name: q4civ\n",
    "points: 1\n",
    "-->"
   ]
  },
  {
   "cell_type": "code",
   "execution_count": 78,
   "id": "42833f28",
   "metadata": {},
   "outputs": [
    {
     "data": {
      "text/plain": [
       "0.8843433608623491"
      ]
     },
     "execution_count": 78,
     "metadata": {},
     "output_type": "execute_result"
    }
   ],
   "source": [
    "X_train_ignore, y_train_ignore, X_val_ignore, y_val_ignore = time_series_to_dataset(time_series, 5, 5)\n",
    "reg_ignore = LinearRegression().fit(X_train_ignore, y_train_ignore)\n",
    "res_4civ = reg_ignore.score(X_val_ignore, y_val_ignore)\n",
    "res_4civ"
   ]
  },
  {
   "cell_type": "code",
   "execution_count": 79,
   "id": "0c012320",
   "metadata": {
    "deletable": false,
    "editable": false
   },
   "outputs": [
    {
     "data": {
      "text/html": [
       "<p><strong><pre style='display: inline;'>q4civ</pre></strong> passed!</p>"
      ],
      "text/plain": [
       "q4civ results: All test cases passed!"
      ]
     },
     "execution_count": 79,
     "metadata": {},
     "output_type": "execute_result"
    }
   ],
   "source": [
    "grader.check(\"q4civ\")"
   ]
  },
  {
   "cell_type": "markdown",
   "id": "d9fc358d",
   "metadata": {},
   "source": [
    "# Step 5 - Open-Ended Modeling: Predicting travel time post-lockdown\n",
    "\n",
    "*This* is the real deal and ultimately what Uber cares about. Traffic speeds is a proxy task, but the bottom line and moneymaking machine relies on this travel time estimation. Focus on designing experiments instead of focusing on experimental, quantitative results. Your experiments are successful if they inform a decision, even despite a lower-performing model."
   ]
  },
  {
   "cell_type": "markdown",
   "id": "88a75132",
   "metadata": {},
   "source": [
    "## Question 5a\n",
    "\n",
    "Train a baseline model of your choice using any supervised learning approach we have studied; you are not limited to a linear model.\n",
    "\n",
    "\n",
    "**Example**\n",
    "\n",
    "Given the data for this question, you could build a model to predict travel time from Cheesecake Factory to UC Berkeley."
   ]
  },
  {
   "cell_type": "code",
   "execution_count": 80,
   "id": "130df711",
   "metadata": {},
   "outputs": [
    {
     "data": {
      "text/html": [
       "<div>\n",
       "<style scoped>\n",
       "    .dataframe tbody tr th:only-of-type {\n",
       "        vertical-align: middle;\n",
       "    }\n",
       "\n",
       "    .dataframe tbody tr th {\n",
       "        vertical-align: top;\n",
       "    }\n",
       "\n",
       "    .dataframe thead th {\n",
       "        text-align: right;\n",
       "    }\n",
       "</style>\n",
       "<table border=\"1\" class=\"dataframe\">\n",
       "  <thead>\n",
       "    <tr style=\"text-align: right;\">\n",
       "      <th></th>\n",
       "      <th>Origin Movement ID</th>\n",
       "      <th>Origin Display Name</th>\n",
       "      <th>Destination Movement ID</th>\n",
       "      <th>Destination Display Name</th>\n",
       "      <th>Date Range</th>\n",
       "      <th>Mean Travel Time (Seconds)</th>\n",
       "      <th>Range - Lower Bound Travel Time (Seconds)</th>\n",
       "      <th>Range - Upper Bound Travel Time (Seconds)</th>\n",
       "      <th>day</th>\n",
       "    </tr>\n",
       "  </thead>\n",
       "  <tbody>\n",
       "    <tr>\n",
       "      <th>0</th>\n",
       "      <td>1277</td>\n",
       "      <td>300 Hayes Street, Civic Center, San Francisco</td>\n",
       "      <td>9</td>\n",
       "      <td>500 Hyde Street, Tenderloin, San Francisco</td>\n",
       "      <td>3/1/2020 - 3/1/2020, Every day, Daily Average</td>\n",
       "      <td>322</td>\n",
       "      <td>211</td>\n",
       "      <td>489</td>\n",
       "      <td>1</td>\n",
       "    </tr>\n",
       "    <tr>\n",
       "      <th>1</th>\n",
       "      <td>1277</td>\n",
       "      <td>300 Hayes Street, Civic Center, San Francisco</td>\n",
       "      <td>20</td>\n",
       "      <td>900 Sutter Street, Lower Nob Hill, San Francisco</td>\n",
       "      <td>3/1/2020 - 3/1/2020, Every day, Daily Average</td>\n",
       "      <td>291</td>\n",
       "      <td>179</td>\n",
       "      <td>470</td>\n",
       "      <td>1</td>\n",
       "    </tr>\n",
       "    <tr>\n",
       "      <th>2</th>\n",
       "      <td>1277</td>\n",
       "      <td>300 Hayes Street, Civic Center, San Francisco</td>\n",
       "      <td>21</td>\n",
       "      <td>3400 Pierce Street, Marina District, San Franc...</td>\n",
       "      <td>3/1/2020 - 3/1/2020, Every day, Daily Average</td>\n",
       "      <td>635</td>\n",
       "      <td>438</td>\n",
       "      <td>920</td>\n",
       "      <td>1</td>\n",
       "    </tr>\n",
       "    <tr>\n",
       "      <th>3</th>\n",
       "      <td>1277</td>\n",
       "      <td>300 Hayes Street, Civic Center, San Francisco</td>\n",
       "      <td>44</td>\n",
       "      <td>1700 Egbert Avenue, Bayview, San Francisco</td>\n",
       "      <td>3/1/2020 - 3/1/2020, Every day, Daily Average</td>\n",
       "      <td>786</td>\n",
       "      <td>566</td>\n",
       "      <td>1090</td>\n",
       "      <td>1</td>\n",
       "    </tr>\n",
       "    <tr>\n",
       "      <th>4</th>\n",
       "      <td>1277</td>\n",
       "      <td>300 Hayes Street, Civic Center, San Francisco</td>\n",
       "      <td>46</td>\n",
       "      <td>500 Chester Street, West Oakland, Oakland</td>\n",
       "      <td>3/1/2020 - 3/1/2020, Every day, Daily Average</td>\n",
       "      <td>891</td>\n",
       "      <td>682</td>\n",
       "      <td>1162</td>\n",
       "      <td>1</td>\n",
       "    </tr>\n",
       "    <tr>\n",
       "      <th>...</th>\n",
       "      <td>...</td>\n",
       "      <td>...</td>\n",
       "      <td>...</td>\n",
       "      <td>...</td>\n",
       "      <td>...</td>\n",
       "      <td>...</td>\n",
       "      <td>...</td>\n",
       "      <td>...</td>\n",
       "      <td>...</td>\n",
       "    </tr>\n",
       "    <tr>\n",
       "      <th>10333</th>\n",
       "      <td>1277</td>\n",
       "      <td>300 Hayes Street, Civic Center, San Francisco</td>\n",
       "      <td>2624</td>\n",
       "      <td>1300 16th Avenue, Inner Sunset, San Francisco</td>\n",
       "      <td>3/31/2020 - 3/31/2020, Every day, Daily Average</td>\n",
       "      <td>502</td>\n",
       "      <td>411</td>\n",
       "      <td>611</td>\n",
       "      <td>31</td>\n",
       "    </tr>\n",
       "    <tr>\n",
       "      <th>10334</th>\n",
       "      <td>1277</td>\n",
       "      <td>300 Hayes Street, Civic Center, San Francisco</td>\n",
       "      <td>2643</td>\n",
       "      <td>1300 Egbert Avenue, Bayview, San Francisco</td>\n",
       "      <td>3/31/2020 - 3/31/2020, Every day, Daily Average</td>\n",
       "      <td>571</td>\n",
       "      <td>475</td>\n",
       "      <td>685</td>\n",
       "      <td>31</td>\n",
       "    </tr>\n",
       "    <tr>\n",
       "      <th>10335</th>\n",
       "      <td>1277</td>\n",
       "      <td>300 Hayes Street, Civic Center, San Francisco</td>\n",
       "      <td>2673</td>\n",
       "      <td>100 Rutledge Street, Bernal Heights, San Franc...</td>\n",
       "      <td>3/31/2020 - 3/31/2020, Every day, Daily Average</td>\n",
       "      <td>367</td>\n",
       "      <td>265</td>\n",
       "      <td>507</td>\n",
       "      <td>31</td>\n",
       "    </tr>\n",
       "    <tr>\n",
       "      <th>10336</th>\n",
       "      <td>1277</td>\n",
       "      <td>300 Hayes Street, Civic Center, San Francisco</td>\n",
       "      <td>2694</td>\n",
       "      <td>1900 Buchanan Street, Western Addition, San Fr...</td>\n",
       "      <td>3/31/2020 - 3/31/2020, Every day, Daily Average</td>\n",
       "      <td>222</td>\n",
       "      <td>167</td>\n",
       "      <td>294</td>\n",
       "      <td>31</td>\n",
       "    </tr>\n",
       "    <tr>\n",
       "      <th>10337</th>\n",
       "      <td>1277</td>\n",
       "      <td>300 Hayes Street, Civic Center, San Francisco</td>\n",
       "      <td>2695</td>\n",
       "      <td>2200 Rivera Street, Sunset District, San Franc...</td>\n",
       "      <td>3/31/2020 - 3/31/2020, Every day, Daily Average</td>\n",
       "      <td>917</td>\n",
       "      <td>778</td>\n",
       "      <td>1080</td>\n",
       "      <td>31</td>\n",
       "    </tr>\n",
       "  </tbody>\n",
       "</table>\n",
       "<p>10338 rows × 9 columns</p>\n",
       "</div>"
      ],
      "text/plain": [
       "       Origin Movement ID                            Origin Display Name  \\\n",
       "0                    1277  300 Hayes Street, Civic Center, San Francisco   \n",
       "1                    1277  300 Hayes Street, Civic Center, San Francisco   \n",
       "2                    1277  300 Hayes Street, Civic Center, San Francisco   \n",
       "3                    1277  300 Hayes Street, Civic Center, San Francisco   \n",
       "4                    1277  300 Hayes Street, Civic Center, San Francisco   \n",
       "...                   ...                                            ...   \n",
       "10333                1277  300 Hayes Street, Civic Center, San Francisco   \n",
       "10334                1277  300 Hayes Street, Civic Center, San Francisco   \n",
       "10335                1277  300 Hayes Street, Civic Center, San Francisco   \n",
       "10336                1277  300 Hayes Street, Civic Center, San Francisco   \n",
       "10337                1277  300 Hayes Street, Civic Center, San Francisco   \n",
       "\n",
       "       Destination Movement ID  \\\n",
       "0                            9   \n",
       "1                           20   \n",
       "2                           21   \n",
       "3                           44   \n",
       "4                           46   \n",
       "...                        ...   \n",
       "10333                     2624   \n",
       "10334                     2643   \n",
       "10335                     2673   \n",
       "10336                     2694   \n",
       "10337                     2695   \n",
       "\n",
       "                                Destination Display Name  \\\n",
       "0             500 Hyde Street, Tenderloin, San Francisco   \n",
       "1       900 Sutter Street, Lower Nob Hill, San Francisco   \n",
       "2      3400 Pierce Street, Marina District, San Franc...   \n",
       "3             1700 Egbert Avenue, Bayview, San Francisco   \n",
       "4              500 Chester Street, West Oakland, Oakland   \n",
       "...                                                  ...   \n",
       "10333      1300 16th Avenue, Inner Sunset, San Francisco   \n",
       "10334         1300 Egbert Avenue, Bayview, San Francisco   \n",
       "10335  100 Rutledge Street, Bernal Heights, San Franc...   \n",
       "10336  1900 Buchanan Street, Western Addition, San Fr...   \n",
       "10337  2200 Rivera Street, Sunset District, San Franc...   \n",
       "\n",
       "                                            Date Range  \\\n",
       "0        3/1/2020 - 3/1/2020, Every day, Daily Average   \n",
       "1        3/1/2020 - 3/1/2020, Every day, Daily Average   \n",
       "2        3/1/2020 - 3/1/2020, Every day, Daily Average   \n",
       "3        3/1/2020 - 3/1/2020, Every day, Daily Average   \n",
       "4        3/1/2020 - 3/1/2020, Every day, Daily Average   \n",
       "...                                                ...   \n",
       "10333  3/31/2020 - 3/31/2020, Every day, Daily Average   \n",
       "10334  3/31/2020 - 3/31/2020, Every day, Daily Average   \n",
       "10335  3/31/2020 - 3/31/2020, Every day, Daily Average   \n",
       "10336  3/31/2020 - 3/31/2020, Every day, Daily Average   \n",
       "10337  3/31/2020 - 3/31/2020, Every day, Daily Average   \n",
       "\n",
       "       Mean Travel Time (Seconds)  Range - Lower Bound Travel Time (Seconds)  \\\n",
       "0                             322                                        211   \n",
       "1                             291                                        179   \n",
       "2                             635                                        438   \n",
       "3                             786                                        566   \n",
       "4                             891                                        682   \n",
       "...                           ...                                        ...   \n",
       "10333                         502                                        411   \n",
       "10334                         571                                        475   \n",
       "10335                         367                                        265   \n",
       "10336                         222                                        167   \n",
       "10337                         917                                        778   \n",
       "\n",
       "       Range - Upper Bound Travel Time (Seconds)  day  \n",
       "0                                            489    1  \n",
       "1                                            470    1  \n",
       "2                                            920    1  \n",
       "3                                           1090    1  \n",
       "4                                           1162    1  \n",
       "...                                          ...  ...  \n",
       "10333                                        611   31  \n",
       "10334                                        685   31  \n",
       "10335                                        507   31  \n",
       "10336                                        294   31  \n",
       "10337                                       1080   31  \n",
       "\n",
       "[10338 rows x 9 columns]"
      ]
     },
     "execution_count": 80,
     "metadata": {},
     "output_type": "execute_result"
    }
   ],
   "source": [
    "times_to_tract"
   ]
  },
  {
   "cell_type": "code",
   "execution_count": 81,
   "id": "3988f1b5-f2c3-46e1-950e-8bf1d2c62cb3",
   "metadata": {},
   "outputs": [
    {
     "data": {
      "text/html": [
       "<div>\n",
       "<style scoped>\n",
       "    .dataframe tbody tr th:only-of-type {\n",
       "        vertical-align: middle;\n",
       "    }\n",
       "\n",
       "    .dataframe tbody tr th {\n",
       "        vertical-align: top;\n",
       "    }\n",
       "\n",
       "    .dataframe thead th {\n",
       "        text-align: right;\n",
       "    }\n",
       "</style>\n",
       "<table border=\"1\" class=\"dataframe\">\n",
       "  <thead>\n",
       "    <tr style=\"text-align: right;\">\n",
       "      <th></th>\n",
       "      <th>MOVEMENT_ID</th>\n",
       "      <th>day</th>\n",
       "      <th>speed_mph_mean</th>\n",
       "    </tr>\n",
       "  </thead>\n",
       "  <tbody>\n",
       "    <tr>\n",
       "      <th>0</th>\n",
       "      <td>9</td>\n",
       "      <td>1</td>\n",
       "      <td>16.196918</td>\n",
       "    </tr>\n",
       "    <tr>\n",
       "      <th>1</th>\n",
       "      <td>9</td>\n",
       "      <td>2</td>\n",
       "      <td>14.395121</td>\n",
       "    </tr>\n",
       "    <tr>\n",
       "      <th>2</th>\n",
       "      <td>9</td>\n",
       "      <td>3</td>\n",
       "      <td>13.868696</td>\n",
       "    </tr>\n",
       "    <tr>\n",
       "      <th>3</th>\n",
       "      <td>9</td>\n",
       "      <td>4</td>\n",
       "      <td>14.225414</td>\n",
       "    </tr>\n",
       "    <tr>\n",
       "      <th>4</th>\n",
       "      <td>9</td>\n",
       "      <td>5</td>\n",
       "      <td>14.312199</td>\n",
       "    </tr>\n",
       "    <tr>\n",
       "      <th>...</th>\n",
       "      <td>...</td>\n",
       "      <td>...</td>\n",
       "      <td>...</td>\n",
       "    </tr>\n",
       "    <tr>\n",
       "      <th>8036</th>\n",
       "      <td>2708</td>\n",
       "      <td>26</td>\n",
       "      <td>25.388000</td>\n",
       "    </tr>\n",
       "    <tr>\n",
       "      <th>8037</th>\n",
       "      <td>2708</td>\n",
       "      <td>27</td>\n",
       "      <td>24.786000</td>\n",
       "    </tr>\n",
       "    <tr>\n",
       "      <th>8038</th>\n",
       "      <td>2708</td>\n",
       "      <td>28</td>\n",
       "      <td>27.643333</td>\n",
       "    </tr>\n",
       "    <tr>\n",
       "      <th>8039</th>\n",
       "      <td>2708</td>\n",
       "      <td>29</td>\n",
       "      <td>27.497250</td>\n",
       "    </tr>\n",
       "    <tr>\n",
       "      <th>8040</th>\n",
       "      <td>2708</td>\n",
       "      <td>30</td>\n",
       "      <td>29.508200</td>\n",
       "    </tr>\n",
       "  </tbody>\n",
       "</table>\n",
       "<p>8041 rows × 3 columns</p>\n",
       "</div>"
      ],
      "text/plain": [
       "      MOVEMENT_ID  day  speed_mph_mean\n",
       "0               9    1       16.196918\n",
       "1               9    2       14.395121\n",
       "2               9    3       13.868696\n",
       "3               9    4       14.225414\n",
       "4               9    5       14.312199\n",
       "...           ...  ...             ...\n",
       "8036         2708   26       25.388000\n",
       "8037         2708   27       24.786000\n",
       "8038         2708   28       27.643333\n",
       "8039         2708   29       27.497250\n",
       "8040         2708   30       29.508200\n",
       "\n",
       "[8041 rows x 3 columns]"
      ]
     },
     "execution_count": 81,
     "metadata": {},
     "output_type": "execute_result"
    }
   ],
   "source": [
    "speed = pd.pivot_table(speeds_to_tract[[\"day\", \"speed_mph_mean\", \"MOVEMENT_ID\"]], values=[\"speed_mph_mean\"], index = [\"MOVEMENT_ID\",\"day\"], aggfunc=np.mean).reset_index()\n",
    "speed"
   ]
  },
  {
   "cell_type": "code",
   "execution_count": 82,
   "id": "a0223ad4-b08d-44a2-940c-382ad8936180",
   "metadata": {},
   "outputs": [
    {
     "data": {
      "text/html": [
       "<div>\n",
       "<style scoped>\n",
       "    .dataframe tbody tr th:only-of-type {\n",
       "        vertical-align: middle;\n",
       "    }\n",
       "\n",
       "    .dataframe tbody tr th {\n",
       "        vertical-align: top;\n",
       "    }\n",
       "\n",
       "    .dataframe thead th {\n",
       "        text-align: right;\n",
       "    }\n",
       "</style>\n",
       "<table border=\"1\" class=\"dataframe\">\n",
       "  <thead>\n",
       "    <tr style=\"text-align: right;\">\n",
       "      <th></th>\n",
       "      <th>Origin Movement ID</th>\n",
       "      <th>Origin Display Name</th>\n",
       "      <th>Destination Movement ID</th>\n",
       "      <th>Destination Display Name</th>\n",
       "      <th>Date Range</th>\n",
       "      <th>Mean Travel Time (Seconds)</th>\n",
       "      <th>Range - Lower Bound Travel Time (Seconds)</th>\n",
       "      <th>Range - Upper Bound Travel Time (Seconds)</th>\n",
       "      <th>day</th>\n",
       "      <th>MOVEMENT_ID</th>\n",
       "      <th>speed_mph_mean</th>\n",
       "    </tr>\n",
       "  </thead>\n",
       "  <tbody>\n",
       "    <tr>\n",
       "      <th>0</th>\n",
       "      <td>1277</td>\n",
       "      <td>300 Hayes Street, Civic Center, San Francisco</td>\n",
       "      <td>9</td>\n",
       "      <td>500 Hyde Street, Tenderloin, San Francisco</td>\n",
       "      <td>3/1/2020 - 3/1/2020, Every day, Daily Average</td>\n",
       "      <td>322</td>\n",
       "      <td>211</td>\n",
       "      <td>489</td>\n",
       "      <td>1</td>\n",
       "      <td>9</td>\n",
       "      <td>16.196918</td>\n",
       "    </tr>\n",
       "    <tr>\n",
       "      <th>1</th>\n",
       "      <td>1277</td>\n",
       "      <td>300 Hayes Street, Civic Center, San Francisco</td>\n",
       "      <td>20</td>\n",
       "      <td>900 Sutter Street, Lower Nob Hill, San Francisco</td>\n",
       "      <td>3/1/2020 - 3/1/2020, Every day, Daily Average</td>\n",
       "      <td>291</td>\n",
       "      <td>179</td>\n",
       "      <td>470</td>\n",
       "      <td>1</td>\n",
       "      <td>20</td>\n",
       "      <td>17.418045</td>\n",
       "    </tr>\n",
       "    <tr>\n",
       "      <th>2</th>\n",
       "      <td>1277</td>\n",
       "      <td>300 Hayes Street, Civic Center, San Francisco</td>\n",
       "      <td>21</td>\n",
       "      <td>3400 Pierce Street, Marina District, San Franc...</td>\n",
       "      <td>3/1/2020 - 3/1/2020, Every day, Daily Average</td>\n",
       "      <td>635</td>\n",
       "      <td>438</td>\n",
       "      <td>920</td>\n",
       "      <td>1</td>\n",
       "      <td>21</td>\n",
       "      <td>15.141171</td>\n",
       "    </tr>\n",
       "    <tr>\n",
       "      <th>3</th>\n",
       "      <td>1277</td>\n",
       "      <td>300 Hayes Street, Civic Center, San Francisco</td>\n",
       "      <td>44</td>\n",
       "      <td>1700 Egbert Avenue, Bayview, San Francisco</td>\n",
       "      <td>3/1/2020 - 3/1/2020, Every day, Daily Average</td>\n",
       "      <td>786</td>\n",
       "      <td>566</td>\n",
       "      <td>1090</td>\n",
       "      <td>1</td>\n",
       "      <td>44</td>\n",
       "      <td>25.079544</td>\n",
       "    </tr>\n",
       "    <tr>\n",
       "      <th>4</th>\n",
       "      <td>1277</td>\n",
       "      <td>300 Hayes Street, Civic Center, San Francisco</td>\n",
       "      <td>78</td>\n",
       "      <td>1400 Thomas Avenue, Bayview, San Francisco</td>\n",
       "      <td>3/1/2020 - 3/1/2020, Every day, Daily Average</td>\n",
       "      <td>789</td>\n",
       "      <td>640</td>\n",
       "      <td>971</td>\n",
       "      <td>1</td>\n",
       "      <td>78</td>\n",
       "      <td>16.174464</td>\n",
       "    </tr>\n",
       "    <tr>\n",
       "      <th>...</th>\n",
       "      <td>...</td>\n",
       "      <td>...</td>\n",
       "      <td>...</td>\n",
       "      <td>...</td>\n",
       "      <td>...</td>\n",
       "      <td>...</td>\n",
       "      <td>...</td>\n",
       "      <td>...</td>\n",
       "      <td>...</td>\n",
       "      <td>...</td>\n",
       "      <td>...</td>\n",
       "    </tr>\n",
       "    <tr>\n",
       "      <th>6609</th>\n",
       "      <td>1277</td>\n",
       "      <td>300 Hayes Street, Civic Center, San Francisco</td>\n",
       "      <td>2624</td>\n",
       "      <td>1300 16th Avenue, Inner Sunset, San Francisco</td>\n",
       "      <td>3/31/2020 - 3/31/2020, Every day, Daily Average</td>\n",
       "      <td>502</td>\n",
       "      <td>411</td>\n",
       "      <td>611</td>\n",
       "      <td>31</td>\n",
       "      <td>2624</td>\n",
       "      <td>27.463973</td>\n",
       "    </tr>\n",
       "    <tr>\n",
       "      <th>6610</th>\n",
       "      <td>1277</td>\n",
       "      <td>300 Hayes Street, Civic Center, San Francisco</td>\n",
       "      <td>2643</td>\n",
       "      <td>1300 Egbert Avenue, Bayview, San Francisco</td>\n",
       "      <td>3/31/2020 - 3/31/2020, Every day, Daily Average</td>\n",
       "      <td>571</td>\n",
       "      <td>475</td>\n",
       "      <td>685</td>\n",
       "      <td>31</td>\n",
       "      <td>2643</td>\n",
       "      <td>16.825286</td>\n",
       "    </tr>\n",
       "    <tr>\n",
       "      <th>6611</th>\n",
       "      <td>1277</td>\n",
       "      <td>300 Hayes Street, Civic Center, San Francisco</td>\n",
       "      <td>2673</td>\n",
       "      <td>100 Rutledge Street, Bernal Heights, San Franc...</td>\n",
       "      <td>3/31/2020 - 3/31/2020, Every day, Daily Average</td>\n",
       "      <td>367</td>\n",
       "      <td>265</td>\n",
       "      <td>507</td>\n",
       "      <td>31</td>\n",
       "      <td>2673</td>\n",
       "      <td>36.297986</td>\n",
       "    </tr>\n",
       "    <tr>\n",
       "      <th>6612</th>\n",
       "      <td>1277</td>\n",
       "      <td>300 Hayes Street, Civic Center, San Francisco</td>\n",
       "      <td>2694</td>\n",
       "      <td>1900 Buchanan Street, Western Addition, San Fr...</td>\n",
       "      <td>3/31/2020 - 3/31/2020, Every day, Daily Average</td>\n",
       "      <td>222</td>\n",
       "      <td>167</td>\n",
       "      <td>294</td>\n",
       "      <td>31</td>\n",
       "      <td>2694</td>\n",
       "      <td>24.056357</td>\n",
       "    </tr>\n",
       "    <tr>\n",
       "      <th>6613</th>\n",
       "      <td>1277</td>\n",
       "      <td>300 Hayes Street, Civic Center, San Francisco</td>\n",
       "      <td>2695</td>\n",
       "      <td>2200 Rivera Street, Sunset District, San Franc...</td>\n",
       "      <td>3/31/2020 - 3/31/2020, Every day, Daily Average</td>\n",
       "      <td>917</td>\n",
       "      <td>778</td>\n",
       "      <td>1080</td>\n",
       "      <td>31</td>\n",
       "      <td>2695</td>\n",
       "      <td>19.959500</td>\n",
       "    </tr>\n",
       "  </tbody>\n",
       "</table>\n",
       "<p>6614 rows × 11 columns</p>\n",
       "</div>"
      ],
      "text/plain": [
       "      Origin Movement ID                            Origin Display Name  \\\n",
       "0                   1277  300 Hayes Street, Civic Center, San Francisco   \n",
       "1                   1277  300 Hayes Street, Civic Center, San Francisco   \n",
       "2                   1277  300 Hayes Street, Civic Center, San Francisco   \n",
       "3                   1277  300 Hayes Street, Civic Center, San Francisco   \n",
       "4                   1277  300 Hayes Street, Civic Center, San Francisco   \n",
       "...                  ...                                            ...   \n",
       "6609                1277  300 Hayes Street, Civic Center, San Francisco   \n",
       "6610                1277  300 Hayes Street, Civic Center, San Francisco   \n",
       "6611                1277  300 Hayes Street, Civic Center, San Francisco   \n",
       "6612                1277  300 Hayes Street, Civic Center, San Francisco   \n",
       "6613                1277  300 Hayes Street, Civic Center, San Francisco   \n",
       "\n",
       "      Destination Movement ID  \\\n",
       "0                           9   \n",
       "1                          20   \n",
       "2                          21   \n",
       "3                          44   \n",
       "4                          78   \n",
       "...                       ...   \n",
       "6609                     2624   \n",
       "6610                     2643   \n",
       "6611                     2673   \n",
       "6612                     2694   \n",
       "6613                     2695   \n",
       "\n",
       "                               Destination Display Name  \\\n",
       "0            500 Hyde Street, Tenderloin, San Francisco   \n",
       "1      900 Sutter Street, Lower Nob Hill, San Francisco   \n",
       "2     3400 Pierce Street, Marina District, San Franc...   \n",
       "3            1700 Egbert Avenue, Bayview, San Francisco   \n",
       "4            1400 Thomas Avenue, Bayview, San Francisco   \n",
       "...                                                 ...   \n",
       "6609      1300 16th Avenue, Inner Sunset, San Francisco   \n",
       "6610         1300 Egbert Avenue, Bayview, San Francisco   \n",
       "6611  100 Rutledge Street, Bernal Heights, San Franc...   \n",
       "6612  1900 Buchanan Street, Western Addition, San Fr...   \n",
       "6613  2200 Rivera Street, Sunset District, San Franc...   \n",
       "\n",
       "                                           Date Range  \\\n",
       "0       3/1/2020 - 3/1/2020, Every day, Daily Average   \n",
       "1       3/1/2020 - 3/1/2020, Every day, Daily Average   \n",
       "2       3/1/2020 - 3/1/2020, Every day, Daily Average   \n",
       "3       3/1/2020 - 3/1/2020, Every day, Daily Average   \n",
       "4       3/1/2020 - 3/1/2020, Every day, Daily Average   \n",
       "...                                               ...   \n",
       "6609  3/31/2020 - 3/31/2020, Every day, Daily Average   \n",
       "6610  3/31/2020 - 3/31/2020, Every day, Daily Average   \n",
       "6611  3/31/2020 - 3/31/2020, Every day, Daily Average   \n",
       "6612  3/31/2020 - 3/31/2020, Every day, Daily Average   \n",
       "6613  3/31/2020 - 3/31/2020, Every day, Daily Average   \n",
       "\n",
       "      Mean Travel Time (Seconds)  Range - Lower Bound Travel Time (Seconds)  \\\n",
       "0                            322                                        211   \n",
       "1                            291                                        179   \n",
       "2                            635                                        438   \n",
       "3                            786                                        566   \n",
       "4                            789                                        640   \n",
       "...                          ...                                        ...   \n",
       "6609                         502                                        411   \n",
       "6610                         571                                        475   \n",
       "6611                         367                                        265   \n",
       "6612                         222                                        167   \n",
       "6613                         917                                        778   \n",
       "\n",
       "      Range - Upper Bound Travel Time (Seconds)  day  MOVEMENT_ID  \\\n",
       "0                                           489    1            9   \n",
       "1                                           470    1           20   \n",
       "2                                           920    1           21   \n",
       "3                                          1090    1           44   \n",
       "4                                           971    1           78   \n",
       "...                                         ...  ...          ...   \n",
       "6609                                        611   31         2624   \n",
       "6610                                        685   31         2643   \n",
       "6611                                        507   31         2673   \n",
       "6612                                        294   31         2694   \n",
       "6613                                       1080   31         2695   \n",
       "\n",
       "      speed_mph_mean  \n",
       "0          16.196918  \n",
       "1          17.418045  \n",
       "2          15.141171  \n",
       "3          25.079544  \n",
       "4          16.174464  \n",
       "...              ...  \n",
       "6609       27.463973  \n",
       "6610       16.825286  \n",
       "6611       36.297986  \n",
       "6612       24.056357  \n",
       "6613       19.959500  \n",
       "\n",
       "[6614 rows x 11 columns]"
      ]
     },
     "execution_count": 82,
     "metadata": {},
     "output_type": "execute_result"
    }
   ],
   "source": [
    "merge_data = times_to_tract.merge(speed, how=\"inner\", left_on=['Destination Movement ID','day'], right_on=['MOVEMENT_ID','day'])\n",
    "merge_data"
   ]
  },
  {
   "cell_type": "code",
   "execution_count": 83,
   "id": "87ff732b-9771-43a5-a388-2db425279e09",
   "metadata": {},
   "outputs": [
    {
     "data": {
      "text/plain": [
       "((5291, 11), (1323, 11))"
      ]
     },
     "execution_count": 83,
     "metadata": {},
     "output_type": "execute_result"
    }
   ],
   "source": [
    "# train test split\n",
    "split_point = int(merge_data.shape[0]*0.80)\n",
    "train = merge_data.iloc[:split_point]\n",
    "test = merge_data.iloc[split_point:]\n",
    "train.shape, test.shape"
   ]
  },
  {
   "cell_type": "markdown",
   "id": "17c763f4-4e2a-4c2e-a566-dfc54156df15",
   "metadata": {},
   "source": [
    "We want to generate features from Destination Movement ID, day, Range - Lower Bound Travel Time (Seconds), Range - Upper Bound Travel Time (Seconds), and speed_mph_mean.\n",
    "\n",
    "However, there is a significantly strong correlation among Mean Travel Time(Seconds), Range - Lower Bound Travel Time (Seconds), and Range - Upper Bound Travel Time (Seconds) shown as below figure. Introducing lower bound and upper bound travel time will make the task too easy and less challenging."
   ]
  },
  {
   "cell_type": "code",
   "execution_count": 84,
   "id": "9cac9ec2-8ac0-441f-927a-739eb7206d68",
   "metadata": {},
   "outputs": [
    {
     "data": {
      "image/png": "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\n",
      "text/plain": [
       "<Figure size 540x540 with 12 Axes>"
      ]
     },
     "metadata": {
      "needs_background": "light"
     },
     "output_type": "display_data"
    }
   ],
   "source": [
    "import seaborn as sns\n",
    "times = train[['Range - Lower Bound Travel Time (Seconds)',\n",
    "               'Range - Upper Bound Travel Time (Seconds)',\n",
    "                'Mean Travel Time (Seconds)',\n",
    "                ]].copy()\n",
    "times = times.rename(columns={'Range - Lower Bound Travel Time (Seconds)': 'Lower Bound Travel Time',\n",
    "               'Range - Upper Bound Travel Time (Seconds)': 'Upper Bound Travel Time',\n",
    "                'Mean Travel Time (Seconds)': 'Mean Travel Time',})\n",
    "sns.pairplot(times, kind=\"reg\", diag_kind=\"kde\", plot_kws=dict(scatter_kws=dict(s=2)));\n",
    "# plt.savefig(\"Times Correlation\", dpi=300)"
   ]
  },
  {
   "cell_type": "markdown",
   "id": "5af32fb2-fa37-4a49-a8bf-9c7ec451009e",
   "metadata": {},
   "source": [
    "Other features, including Destination Movement ID, day, and speed_mph_mean, and the label, Mean Travel Time(Seconds), are hardly correlated shown as below figure, but the Exploratory Data Analysis we finished in previous Part1 indicates they are likely to be strongly related.\n",
    "\n",
    "We want to further explore their relationships and find the best fit model."
   ]
  },
  {
   "cell_type": "code",
   "execution_count": 85,
   "id": "dc7a7513-d103-4dce-9d84-8a838a31743a",
   "metadata": {},
   "outputs": [
    {
     "data": {
      "image/png": "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\n",
      "text/plain": [
       "<Figure size 432x288 with 2 Axes>"
      ]
     },
     "metadata": {
      "needs_background": "light"
     },
     "output_type": "display_data"
    }
   ],
   "source": [
    "train_initial = sns.heatmap(train[['MOVEMENT_ID',\n",
    "                 'day',\n",
    "                 'speed_mph_mean',\n",
    "                'Mean Travel Time (Seconds)',\n",
    "                ]].corr(method=\"pearson\"), annot = True)\n",
    "train_initial.set_xticklabels(train_initial.get_xticklabels(), rotation=45, horizontalalignment='right');\n",
    "# figure = plt.gcf()\n",
    "# figure.set_size_inches(13, 10)\n",
    "# plt.savefig(\"Other Feature\", dpi=100)"
   ]
  },
  {
   "cell_type": "code",
   "execution_count": 86,
   "id": "92a9821d-0733-4d60-b82c-da2237639e9f",
   "metadata": {},
   "outputs": [],
   "source": [
    "X_train = train[['MOVEMENT_ID',\n",
    "                 'day',\n",
    "                 'speed_mph_mean'\n",
    "                ]]\n",
    "y_train = train['Mean Travel Time (Seconds)']\n",
    "X_test = test[['MOVEMENT_ID',\n",
    "               'day',\n",
    "               'speed_mph_mean'\n",
    "              ]]\n",
    "y_test = test['Mean Travel Time (Seconds)']"
   ]
  },
  {
   "cell_type": "code",
   "execution_count": 87,
   "id": "be1c5ea2-908e-41f8-ac35-e8dcc564a606",
   "metadata": {},
   "outputs": [
    {
     "data": {
      "text/plain": [
       "0.33593756265067587"
      ]
     },
     "execution_count": 87,
     "metadata": {},
     "output_type": "execute_result"
    }
   ],
   "source": [
    "# linear regression\n",
    "linreg = LinearRegression().fit(X_train,y_train)\n",
    "score_linreg = linreg.score(X_train, y_train)\n",
    "score_linreg"
   ]
  },
  {
   "cell_type": "code",
   "execution_count": 88,
   "id": "0641924c-6d33-42cb-a2f2-43db3ca6660d",
   "metadata": {},
   "outputs": [],
   "source": [
    "# RMSE\n",
    "def rmse(y, yhat):\n",
    "    return np.sqrt(np.mean((y - yhat)**2))"
   ]
  },
  {
   "cell_type": "code",
   "execution_count": 89,
   "id": "53e01656-94e9-4f0d-9e96-f797ed647da1",
   "metadata": {},
   "outputs": [
    {
     "name": "stdout",
     "output_type": "stream",
     "text": [
      "Training RMSE of Linear Regression: 297.93976873214035\n",
      "Testing RMSE of Linear Regression: 223.21404918305052\n"
     ]
    }
   ],
   "source": [
    "# Training and Testing RMSE\n",
    "Y_hat = linreg.predict(X_train)\n",
    "Y_pred = linreg.predict(X_test)\n",
    "\n",
    "print(\"Training RMSE of Linear Regression:\", rmse(y_train, Y_hat))\n",
    "print(\"Testing RMSE of Linear Regression:\", rmse(y_test, Y_pred))"
   ]
  },
  {
   "cell_type": "markdown",
   "id": "71c3fdb3",
   "metadata": {},
   "source": [
    "## Question 5b\n",
    "\n",
    "Improve on your baseline model. Specify the model you designed and its input features. Justify why you chose these features and their relevance to your model's predictions.\n",
    "\n",
    "**Example**\n",
    "\n",
    "Here are potential questions to consider for this part: How does the other variant of your travel times dataset, aggregated across time but reported for all routes, useful?  What additional data from the Uber Movement website can you export to better your model?"
   ]
  },
  {
   "cell_type": "code",
   "execution_count": 90,
   "id": "b8e78e0d-e98b-4a9d-8274-aee5a92c875b",
   "metadata": {},
   "outputs": [
    {
     "data": {
      "text/html": [
       "<div>\n",
       "<style scoped>\n",
       "    .dataframe tbody tr th:only-of-type {\n",
       "        vertical-align: middle;\n",
       "    }\n",
       "\n",
       "    .dataframe tbody tr th {\n",
       "        vertical-align: top;\n",
       "    }\n",
       "\n",
       "    .dataframe thead th {\n",
       "        text-align: right;\n",
       "    }\n",
       "</style>\n",
       "<table border=\"1\" class=\"dataframe\">\n",
       "  <thead>\n",
       "    <tr style=\"text-align: right;\">\n",
       "      <th></th>\n",
       "      <th>Origin Movement ID</th>\n",
       "      <th>Origin Display Name</th>\n",
       "      <th>Destination Movement ID</th>\n",
       "      <th>Destination Display Name</th>\n",
       "      <th>Date Range</th>\n",
       "      <th>Mean Travel Time (Seconds)</th>\n",
       "      <th>Range - Lower Bound Travel Time (Seconds)</th>\n",
       "      <th>Range - Upper Bound Travel Time (Seconds)</th>\n",
       "      <th>day</th>\n",
       "      <th>MOVEMENT_ID</th>\n",
       "      <th>speed_mph_mean</th>\n",
       "    </tr>\n",
       "  </thead>\n",
       "  <tbody>\n",
       "    <tr>\n",
       "      <th>0</th>\n",
       "      <td>1277</td>\n",
       "      <td>300 Hayes Street, Civic Center, San Francisco</td>\n",
       "      <td>9</td>\n",
       "      <td>500 Hyde Street, Tenderloin, San Francisco</td>\n",
       "      <td>3/1/2020 - 3/1/2020, Every day, Daily Average</td>\n",
       "      <td>322</td>\n",
       "      <td>211</td>\n",
       "      <td>489</td>\n",
       "      <td>1</td>\n",
       "      <td>9</td>\n",
       "      <td>16.196918</td>\n",
       "    </tr>\n",
       "    <tr>\n",
       "      <th>1</th>\n",
       "      <td>1277</td>\n",
       "      <td>300 Hayes Street, Civic Center, San Francisco</td>\n",
       "      <td>20</td>\n",
       "      <td>900 Sutter Street, Lower Nob Hill, San Francisco</td>\n",
       "      <td>3/1/2020 - 3/1/2020, Every day, Daily Average</td>\n",
       "      <td>291</td>\n",
       "      <td>179</td>\n",
       "      <td>470</td>\n",
       "      <td>1</td>\n",
       "      <td>20</td>\n",
       "      <td>17.418045</td>\n",
       "    </tr>\n",
       "    <tr>\n",
       "      <th>2</th>\n",
       "      <td>1277</td>\n",
       "      <td>300 Hayes Street, Civic Center, San Francisco</td>\n",
       "      <td>21</td>\n",
       "      <td>3400 Pierce Street, Marina District, San Franc...</td>\n",
       "      <td>3/1/2020 - 3/1/2020, Every day, Daily Average</td>\n",
       "      <td>635</td>\n",
       "      <td>438</td>\n",
       "      <td>920</td>\n",
       "      <td>1</td>\n",
       "      <td>21</td>\n",
       "      <td>15.141171</td>\n",
       "    </tr>\n",
       "    <tr>\n",
       "      <th>3</th>\n",
       "      <td>1277</td>\n",
       "      <td>300 Hayes Street, Civic Center, San Francisco</td>\n",
       "      <td>44</td>\n",
       "      <td>1700 Egbert Avenue, Bayview, San Francisco</td>\n",
       "      <td>3/1/2020 - 3/1/2020, Every day, Daily Average</td>\n",
       "      <td>786</td>\n",
       "      <td>566</td>\n",
       "      <td>1090</td>\n",
       "      <td>1</td>\n",
       "      <td>44</td>\n",
       "      <td>25.079544</td>\n",
       "    </tr>\n",
       "    <tr>\n",
       "      <th>4</th>\n",
       "      <td>1277</td>\n",
       "      <td>300 Hayes Street, Civic Center, San Francisco</td>\n",
       "      <td>78</td>\n",
       "      <td>1400 Thomas Avenue, Bayview, San Francisco</td>\n",
       "      <td>3/1/2020 - 3/1/2020, Every day, Daily Average</td>\n",
       "      <td>789</td>\n",
       "      <td>640</td>\n",
       "      <td>971</td>\n",
       "      <td>1</td>\n",
       "      <td>78</td>\n",
       "      <td>16.174464</td>\n",
       "    </tr>\n",
       "  </tbody>\n",
       "</table>\n",
       "</div>"
      ],
      "text/plain": [
       "   Origin Movement ID                            Origin Display Name  \\\n",
       "0                1277  300 Hayes Street, Civic Center, San Francisco   \n",
       "1                1277  300 Hayes Street, Civic Center, San Francisco   \n",
       "2                1277  300 Hayes Street, Civic Center, San Francisco   \n",
       "3                1277  300 Hayes Street, Civic Center, San Francisco   \n",
       "4                1277  300 Hayes Street, Civic Center, San Francisco   \n",
       "\n",
       "   Destination Movement ID                           Destination Display Name  \\\n",
       "0                        9         500 Hyde Street, Tenderloin, San Francisco   \n",
       "1                       20   900 Sutter Street, Lower Nob Hill, San Francisco   \n",
       "2                       21  3400 Pierce Street, Marina District, San Franc...   \n",
       "3                       44         1700 Egbert Avenue, Bayview, San Francisco   \n",
       "4                       78         1400 Thomas Avenue, Bayview, San Francisco   \n",
       "\n",
       "                                      Date Range  Mean Travel Time (Seconds)  \\\n",
       "0  3/1/2020 - 3/1/2020, Every day, Daily Average                         322   \n",
       "1  3/1/2020 - 3/1/2020, Every day, Daily Average                         291   \n",
       "2  3/1/2020 - 3/1/2020, Every day, Daily Average                         635   \n",
       "3  3/1/2020 - 3/1/2020, Every day, Daily Average                         786   \n",
       "4  3/1/2020 - 3/1/2020, Every day, Daily Average                         789   \n",
       "\n",
       "   Range - Lower Bound Travel Time (Seconds)  \\\n",
       "0                                        211   \n",
       "1                                        179   \n",
       "2                                        438   \n",
       "3                                        566   \n",
       "4                                        640   \n",
       "\n",
       "   Range - Upper Bound Travel Time (Seconds)  day  MOVEMENT_ID  speed_mph_mean  \n",
       "0                                        489    1            9       16.196918  \n",
       "1                                        470    1           20       17.418045  \n",
       "2                                        920    1           21       15.141171  \n",
       "3                                       1090    1           44       25.079544  \n",
       "4                                        971    1           78       16.174464  "
      ]
     },
     "execution_count": 90,
     "metadata": {},
     "output_type": "execute_result"
    }
   ],
   "source": [
    "merge_data.head()"
   ]
  },
  {
   "cell_type": "code",
   "execution_count": 91,
   "id": "cbb80aa2-fcb1-4c39-84bc-b0a790ea9c10",
   "metadata": {},
   "outputs": [],
   "source": [
    "# find the slowest movementid\n",
    "def find_slowest_movementid(data, n=10, metric=np.median):\n",
    "    n = pd.DataFrame(data.groupby('Destination Movement ID')['Mean Travel Time (Seconds)'].agg(metric).nlargest(n)).reset_index()\n",
    "    Movement = n['Destination Movement ID'].tolist()   \n",
    "    return [int(id) for id in Movement]\n",
    "\n",
    "def add_in_slow_movement(data, slow_movement):\n",
    "    data['in_slow_movement'] = data['Destination Movement ID'].isin(slow_movement).astype(int)\n",
    "    return data"
   ]
  },
  {
   "cell_type": "code",
   "execution_count": 92,
   "id": "80cc18ba-e279-4e82-9644-35533cad168d",
   "metadata": {},
   "outputs": [],
   "source": [
    "slow_movement = find_slowest_movementid(merge_data, 20, np.median)\n",
    "improve_data = add_in_slow_movement(merge_data, slow_movement)"
   ]
  },
  {
   "cell_type": "code",
   "execution_count": 93,
   "id": "dbf88fd9",
   "metadata": {},
   "outputs": [
    {
     "data": {
      "text/html": [
       "<div>\n",
       "<style scoped>\n",
       "    .dataframe tbody tr th:only-of-type {\n",
       "        vertical-align: middle;\n",
       "    }\n",
       "\n",
       "    .dataframe tbody tr th {\n",
       "        vertical-align: top;\n",
       "    }\n",
       "\n",
       "    .dataframe thead th {\n",
       "        text-align: right;\n",
       "    }\n",
       "</style>\n",
       "<table border=\"1\" class=\"dataframe\">\n",
       "  <thead>\n",
       "    <tr style=\"text-align: right;\">\n",
       "      <th></th>\n",
       "      <th>day</th>\n",
       "      <th>speed_mph_mean</th>\n",
       "      <th>Mean Travel Time (Seconds)</th>\n",
       "      <th>in_slow_movement</th>\n",
       "      <th>MOVEMENT_ID_9</th>\n",
       "      <th>MOVEMENT_ID_20</th>\n",
       "      <th>MOVEMENT_ID_21</th>\n",
       "      <th>MOVEMENT_ID_44</th>\n",
       "      <th>MOVEMENT_ID_78</th>\n",
       "      <th>MOVEMENT_ID_79</th>\n",
       "      <th>...</th>\n",
       "      <th>MOVEMENT_ID_2624</th>\n",
       "      <th>MOVEMENT_ID_2625</th>\n",
       "      <th>MOVEMENT_ID_2629</th>\n",
       "      <th>MOVEMENT_ID_2643</th>\n",
       "      <th>MOVEMENT_ID_2660</th>\n",
       "      <th>MOVEMENT_ID_2673</th>\n",
       "      <th>MOVEMENT_ID_2694</th>\n",
       "      <th>MOVEMENT_ID_2695</th>\n",
       "      <th>MOVEMENT_ID_2700</th>\n",
       "      <th>MOVEMENT_ID_2708</th>\n",
       "    </tr>\n",
       "  </thead>\n",
       "  <tbody>\n",
       "    <tr>\n",
       "      <th>0</th>\n",
       "      <td>1</td>\n",
       "      <td>16.196918</td>\n",
       "      <td>322</td>\n",
       "      <td>0</td>\n",
       "      <td>1</td>\n",
       "      <td>0</td>\n",
       "      <td>0</td>\n",
       "      <td>0</td>\n",
       "      <td>0</td>\n",
       "      <td>0</td>\n",
       "      <td>...</td>\n",
       "      <td>0</td>\n",
       "      <td>0</td>\n",
       "      <td>0</td>\n",
       "      <td>0</td>\n",
       "      <td>0</td>\n",
       "      <td>0</td>\n",
       "      <td>0</td>\n",
       "      <td>0</td>\n",
       "      <td>0</td>\n",
       "      <td>0</td>\n",
       "    </tr>\n",
       "    <tr>\n",
       "      <th>1</th>\n",
       "      <td>1</td>\n",
       "      <td>17.418045</td>\n",
       "      <td>291</td>\n",
       "      <td>0</td>\n",
       "      <td>0</td>\n",
       "      <td>1</td>\n",
       "      <td>0</td>\n",
       "      <td>0</td>\n",
       "      <td>0</td>\n",
       "      <td>0</td>\n",
       "      <td>...</td>\n",
       "      <td>0</td>\n",
       "      <td>0</td>\n",
       "      <td>0</td>\n",
       "      <td>0</td>\n",
       "      <td>0</td>\n",
       "      <td>0</td>\n",
       "      <td>0</td>\n",
       "      <td>0</td>\n",
       "      <td>0</td>\n",
       "      <td>0</td>\n",
       "    </tr>\n",
       "    <tr>\n",
       "      <th>2</th>\n",
       "      <td>1</td>\n",
       "      <td>15.141171</td>\n",
       "      <td>635</td>\n",
       "      <td>0</td>\n",
       "      <td>0</td>\n",
       "      <td>0</td>\n",
       "      <td>1</td>\n",
       "      <td>0</td>\n",
       "      <td>0</td>\n",
       "      <td>0</td>\n",
       "      <td>...</td>\n",
       "      <td>0</td>\n",
       "      <td>0</td>\n",
       "      <td>0</td>\n",
       "      <td>0</td>\n",
       "      <td>0</td>\n",
       "      <td>0</td>\n",
       "      <td>0</td>\n",
       "      <td>0</td>\n",
       "      <td>0</td>\n",
       "      <td>0</td>\n",
       "    </tr>\n",
       "    <tr>\n",
       "      <th>3</th>\n",
       "      <td>1</td>\n",
       "      <td>25.079544</td>\n",
       "      <td>786</td>\n",
       "      <td>0</td>\n",
       "      <td>0</td>\n",
       "      <td>0</td>\n",
       "      <td>0</td>\n",
       "      <td>1</td>\n",
       "      <td>0</td>\n",
       "      <td>0</td>\n",
       "      <td>...</td>\n",
       "      <td>0</td>\n",
       "      <td>0</td>\n",
       "      <td>0</td>\n",
       "      <td>0</td>\n",
       "      <td>0</td>\n",
       "      <td>0</td>\n",
       "      <td>0</td>\n",
       "      <td>0</td>\n",
       "      <td>0</td>\n",
       "      <td>0</td>\n",
       "    </tr>\n",
       "    <tr>\n",
       "      <th>4</th>\n",
       "      <td>1</td>\n",
       "      <td>16.174464</td>\n",
       "      <td>789</td>\n",
       "      <td>0</td>\n",
       "      <td>0</td>\n",
       "      <td>0</td>\n",
       "      <td>0</td>\n",
       "      <td>0</td>\n",
       "      <td>1</td>\n",
       "      <td>0</td>\n",
       "      <td>...</td>\n",
       "      <td>0</td>\n",
       "      <td>0</td>\n",
       "      <td>0</td>\n",
       "      <td>0</td>\n",
       "      <td>0</td>\n",
       "      <td>0</td>\n",
       "      <td>0</td>\n",
       "      <td>0</td>\n",
       "      <td>0</td>\n",
       "      <td>0</td>\n",
       "    </tr>\n",
       "    <tr>\n",
       "      <th>...</th>\n",
       "      <td>...</td>\n",
       "      <td>...</td>\n",
       "      <td>...</td>\n",
       "      <td>...</td>\n",
       "      <td>...</td>\n",
       "      <td>...</td>\n",
       "      <td>...</td>\n",
       "      <td>...</td>\n",
       "      <td>...</td>\n",
       "      <td>...</td>\n",
       "      <td>...</td>\n",
       "      <td>...</td>\n",
       "      <td>...</td>\n",
       "      <td>...</td>\n",
       "      <td>...</td>\n",
       "      <td>...</td>\n",
       "      <td>...</td>\n",
       "      <td>...</td>\n",
       "      <td>...</td>\n",
       "      <td>...</td>\n",
       "      <td>...</td>\n",
       "    </tr>\n",
       "    <tr>\n",
       "      <th>6609</th>\n",
       "      <td>31</td>\n",
       "      <td>27.463973</td>\n",
       "      <td>502</td>\n",
       "      <td>0</td>\n",
       "      <td>0</td>\n",
       "      <td>0</td>\n",
       "      <td>0</td>\n",
       "      <td>0</td>\n",
       "      <td>0</td>\n",
       "      <td>0</td>\n",
       "      <td>...</td>\n",
       "      <td>1</td>\n",
       "      <td>0</td>\n",
       "      <td>0</td>\n",
       "      <td>0</td>\n",
       "      <td>0</td>\n",
       "      <td>0</td>\n",
       "      <td>0</td>\n",
       "      <td>0</td>\n",
       "      <td>0</td>\n",
       "      <td>0</td>\n",
       "    </tr>\n",
       "    <tr>\n",
       "      <th>6610</th>\n",
       "      <td>31</td>\n",
       "      <td>16.825286</td>\n",
       "      <td>571</td>\n",
       "      <td>0</td>\n",
       "      <td>0</td>\n",
       "      <td>0</td>\n",
       "      <td>0</td>\n",
       "      <td>0</td>\n",
       "      <td>0</td>\n",
       "      <td>0</td>\n",
       "      <td>...</td>\n",
       "      <td>0</td>\n",
       "      <td>0</td>\n",
       "      <td>0</td>\n",
       "      <td>1</td>\n",
       "      <td>0</td>\n",
       "      <td>0</td>\n",
       "      <td>0</td>\n",
       "      <td>0</td>\n",
       "      <td>0</td>\n",
       "      <td>0</td>\n",
       "    </tr>\n",
       "    <tr>\n",
       "      <th>6611</th>\n",
       "      <td>31</td>\n",
       "      <td>36.297986</td>\n",
       "      <td>367</td>\n",
       "      <td>0</td>\n",
       "      <td>0</td>\n",
       "      <td>0</td>\n",
       "      <td>0</td>\n",
       "      <td>0</td>\n",
       "      <td>0</td>\n",
       "      <td>0</td>\n",
       "      <td>...</td>\n",
       "      <td>0</td>\n",
       "      <td>0</td>\n",
       "      <td>0</td>\n",
       "      <td>0</td>\n",
       "      <td>0</td>\n",
       "      <td>1</td>\n",
       "      <td>0</td>\n",
       "      <td>0</td>\n",
       "      <td>0</td>\n",
       "      <td>0</td>\n",
       "    </tr>\n",
       "    <tr>\n",
       "      <th>6612</th>\n",
       "      <td>31</td>\n",
       "      <td>24.056357</td>\n",
       "      <td>222</td>\n",
       "      <td>0</td>\n",
       "      <td>0</td>\n",
       "      <td>0</td>\n",
       "      <td>0</td>\n",
       "      <td>0</td>\n",
       "      <td>0</td>\n",
       "      <td>0</td>\n",
       "      <td>...</td>\n",
       "      <td>0</td>\n",
       "      <td>0</td>\n",
       "      <td>0</td>\n",
       "      <td>0</td>\n",
       "      <td>0</td>\n",
       "      <td>0</td>\n",
       "      <td>1</td>\n",
       "      <td>0</td>\n",
       "      <td>0</td>\n",
       "      <td>0</td>\n",
       "    </tr>\n",
       "    <tr>\n",
       "      <th>6613</th>\n",
       "      <td>31</td>\n",
       "      <td>19.959500</td>\n",
       "      <td>917</td>\n",
       "      <td>0</td>\n",
       "      <td>0</td>\n",
       "      <td>0</td>\n",
       "      <td>0</td>\n",
       "      <td>0</td>\n",
       "      <td>0</td>\n",
       "      <td>0</td>\n",
       "      <td>...</td>\n",
       "      <td>0</td>\n",
       "      <td>0</td>\n",
       "      <td>0</td>\n",
       "      <td>0</td>\n",
       "      <td>0</td>\n",
       "      <td>0</td>\n",
       "      <td>0</td>\n",
       "      <td>1</td>\n",
       "      <td>0</td>\n",
       "      <td>0</td>\n",
       "    </tr>\n",
       "  </tbody>\n",
       "</table>\n",
       "<p>6614 rows × 287 columns</p>\n",
       "</div>"
      ],
      "text/plain": [
       "      day  speed_mph_mean  Mean Travel Time (Seconds)  in_slow_movement  \\\n",
       "0       1       16.196918                         322                 0   \n",
       "1       1       17.418045                         291                 0   \n",
       "2       1       15.141171                         635                 0   \n",
       "3       1       25.079544                         786                 0   \n",
       "4       1       16.174464                         789                 0   \n",
       "...   ...             ...                         ...               ...   \n",
       "6609   31       27.463973                         502                 0   \n",
       "6610   31       16.825286                         571                 0   \n",
       "6611   31       36.297986                         367                 0   \n",
       "6612   31       24.056357                         222                 0   \n",
       "6613   31       19.959500                         917                 0   \n",
       "\n",
       "      MOVEMENT_ID_9  MOVEMENT_ID_20  MOVEMENT_ID_21  MOVEMENT_ID_44  \\\n",
       "0                 1               0               0               0   \n",
       "1                 0               1               0               0   \n",
       "2                 0               0               1               0   \n",
       "3                 0               0               0               1   \n",
       "4                 0               0               0               0   \n",
       "...             ...             ...             ...             ...   \n",
       "6609              0               0               0               0   \n",
       "6610              0               0               0               0   \n",
       "6611              0               0               0               0   \n",
       "6612              0               0               0               0   \n",
       "6613              0               0               0               0   \n",
       "\n",
       "      MOVEMENT_ID_78  MOVEMENT_ID_79  ...  MOVEMENT_ID_2624  MOVEMENT_ID_2625  \\\n",
       "0                  0               0  ...                 0                 0   \n",
       "1                  0               0  ...                 0                 0   \n",
       "2                  0               0  ...                 0                 0   \n",
       "3                  0               0  ...                 0                 0   \n",
       "4                  1               0  ...                 0                 0   \n",
       "...              ...             ...  ...               ...               ...   \n",
       "6609               0               0  ...                 1                 0   \n",
       "6610               0               0  ...                 0                 0   \n",
       "6611               0               0  ...                 0                 0   \n",
       "6612               0               0  ...                 0                 0   \n",
       "6613               0               0  ...                 0                 0   \n",
       "\n",
       "      MOVEMENT_ID_2629  MOVEMENT_ID_2643  MOVEMENT_ID_2660  MOVEMENT_ID_2673  \\\n",
       "0                    0                 0                 0                 0   \n",
       "1                    0                 0                 0                 0   \n",
       "2                    0                 0                 0                 0   \n",
       "3                    0                 0                 0                 0   \n",
       "4                    0                 0                 0                 0   \n",
       "...                ...               ...               ...               ...   \n",
       "6609                 0                 0                 0                 0   \n",
       "6610                 0                 1                 0                 0   \n",
       "6611                 0                 0                 0                 1   \n",
       "6612                 0                 0                 0                 0   \n",
       "6613                 0                 0                 0                 0   \n",
       "\n",
       "      MOVEMENT_ID_2694  MOVEMENT_ID_2695  MOVEMENT_ID_2700  MOVEMENT_ID_2708  \n",
       "0                    0                 0                 0                 0  \n",
       "1                    0                 0                 0                 0  \n",
       "2                    0                 0                 0                 0  \n",
       "3                    0                 0                 0                 0  \n",
       "4                    0                 0                 0                 0  \n",
       "...                ...               ...               ...               ...  \n",
       "6609                 0                 0                 0                 0  \n",
       "6610                 0                 0                 0                 0  \n",
       "6611                 0                 0                 0                 0  \n",
       "6612                 1                 0                 0                 0  \n",
       "6613                 0                 1                 0                 0  \n",
       "\n",
       "[6614 rows x 287 columns]"
      ]
     },
     "execution_count": 93,
     "metadata": {},
     "output_type": "execute_result"
    }
   ],
   "source": [
    "improve_data = merge_data[['MOVEMENT_ID',\n",
    "                 'day',\n",
    "                 'speed_mph_mean',\n",
    "                 'Mean Travel Time (Seconds)',\n",
    "                 'in_slow_movement'\n",
    "                ]]\n",
    "# get dummy variable\n",
    "improve_data = pd.get_dummies(improve_data, columns=['MOVEMENT_ID'])\n",
    "improve_data"
   ]
  },
  {
   "cell_type": "code",
   "execution_count": 94,
   "id": "b4084edf-0956-43a0-b2b2-993d030c3756",
   "metadata": {},
   "outputs": [
    {
     "data": {
      "text/plain": [
       "((5291, 287), (1323, 287))"
      ]
     },
     "execution_count": 94,
     "metadata": {},
     "output_type": "execute_result"
    }
   ],
   "source": [
    "# train test split\n",
    "train_improve = improve_data.iloc[:split_point]\n",
    "test_improve = improve_data.iloc[split_point:]\n",
    "train_improve.shape, test_improve.shape"
   ]
  },
  {
   "cell_type": "code",
   "execution_count": 95,
   "id": "289d90b6-0212-4abc-b85d-2df100a785a0",
   "metadata": {},
   "outputs": [],
   "source": [
    "X_train_improve = train_improve.drop(['Mean Travel Time (Seconds)'],axis=1)\n",
    "y_train_improve = train_improve['Mean Travel Time (Seconds)']\n",
    "X_test_improve = test_improve.drop(['Mean Travel Time (Seconds)'],axis=1)\n",
    "y_test_improve = test_improve['Mean Travel Time (Seconds)']"
   ]
  },
  {
   "cell_type": "code",
   "execution_count": 96,
   "id": "e44d6add-7950-4ba7-8864-244e883d4e33",
   "metadata": {},
   "outputs": [
    {
     "data": {
      "text/plain": [
       "0.9426232000864797"
      ]
     },
     "execution_count": 96,
     "metadata": {},
     "output_type": "execute_result"
    }
   ],
   "source": [
    "# fit model\n",
    "linreg_improve = LinearRegression().fit(X_train_improve, y_train_improve)\n",
    "score_linreg_improve = linreg_improve.score(X_train_improve, y_train_improve)\n",
    "score_linreg_improve"
   ]
  },
  {
   "cell_type": "code",
   "execution_count": 97,
   "id": "762a2f47-2e2a-400c-94c0-7cc68f6efe12",
   "metadata": {},
   "outputs": [
    {
     "name": "stdout",
     "output_type": "stream",
     "text": [
      "Training RMSE of Linear Regression: 87.57742669358467\n",
      "Testing RMSE of Linear Regression: 95.88184335266895\n"
     ]
    }
   ],
   "source": [
    "# Training and Testing RMSE of linear regression\n",
    "Y_hat_improve = linreg_improve.predict(X_train_improve)\n",
    "Y_pred_improve = linreg_improve.predict(X_test_improve)\n",
    "\n",
    "print(\"Training RMSE of Linear Regression:\", rmse(y_train_improve, Y_hat_improve))\n",
    "print(\"Testing RMSE of Linear Regression:\", rmse(y_test_improve, Y_pred_improve))"
   ]
  },
  {
   "cell_type": "code",
   "execution_count": 98,
   "id": "0e2f7231-9d2b-4767-88e0-d6e20a7c76c5",
   "metadata": {},
   "outputs": [
    {
     "name": "stdout",
     "output_type": "stream",
     "text": [
      "Training RMSE of Ridge Regression: 91.61625858871709\n",
      "Testing RMSE of Ridge Regression: 93.81385888663858\n"
     ]
    }
   ],
   "source": [
    "# ridge regression\n",
    "from sklearn.linear_model import Ridge\n",
    "\n",
    "rdg = Ridge().fit(X_train_improve, y_train_improve)\n",
    "Y_hat_rdg = rdg.predict(X_train_improve)\n",
    "Y_pred_rdg = rdg.predict(X_test_improve)\n",
    "\n",
    "print(\"Training RMSE of Ridge Regression:\", rmse(y_train_improve, Y_hat_rdg))\n",
    "print(\"Testing RMSE of Ridge Regression:\", rmse(y_test_improve, Y_pred_rdg))"
   ]
  },
  {
   "cell_type": "markdown",
   "id": "bd8e5c3e",
   "metadata": {},
   "source": [
    "## Question 5c\n",
    "\n",
    "Explore other modeling aspects and/or temporal information. You are free to relate this to your hypothesis or not. Please expand into multiple parts that logically separate and break down your modeling work!\n",
    "\n",
    "**Example**\n",
    "\n",
    "For example, explore change across time, before and after the lockdown: (a) train and evaluate on *pre*-lockdown traffic travel times for that route; and (b) evaluate your model on *post*-lockdown traffic patterns.\n",
    "How would you correct your model for a more accurate post-lockdown traffic predictor? *The above is just a suggestion. You may pick any topic you find interesting.*"
   ]
  },
  {
   "cell_type": "code",
   "execution_count": 99,
   "id": "5780283b-6465-4fea-89e3-deb76edf8e54",
   "metadata": {},
   "outputs": [
    {
     "name": "stdout",
     "output_type": "stream",
     "text": [
      "Training RMSE of Decision Tree: 64.70556652588199\n",
      "Testing RMSE of Decision Tree: 156.59586136044462\n"
     ]
    }
   ],
   "source": [
    "# decision tree\n",
    "from sklearn.tree import DecisionTreeRegressor\n",
    "\n",
    "dtr = DecisionTreeRegressor(min_samples_split = 10, \n",
    "                            ccp_alpha = 0.02,\n",
    "                            random_state = 42)\n",
    "\n",
    "dtr = dtr.fit(X_train_improve,y_train_improve)\n",
    "y_hat_dtr = dtr.predict(X_train_improve)\n",
    "y_pred_dtr = dtr.predict(X_test_improve)\n",
    "\n",
    "print(\"Training RMSE of Decision Tree:\", rmse(y_train_improve, y_hat_dtr))\n",
    "print(\"Testing RMSE of Decision Tree:\", rmse(y_test_improve, y_pred_dtr))"
   ]
  },
  {
   "cell_type": "code",
   "execution_count": 100,
   "id": "2648a468",
   "metadata": {},
   "outputs": [
    {
     "name": "stdout",
     "output_type": "stream",
     "text": [
      "Training RMSE of Random Forest: 37.33878873256496\n",
      "Testing RMSE of Random Forest: 84.55788640103734\n"
     ]
    }
   ],
   "source": [
    "# random forest\n",
    "from sklearn.ensemble import RandomForestRegressor\n",
    "\n",
    "rf = RandomForestRegressor(max_features = 5,\n",
    "                           n_estimators = 500,\n",
    "                           random_state = 42)\n",
    "\n",
    "rf.fit(X_train_improve,y_train_improve)\n",
    "y_hat_rf = rf.predict(X_train_improve)\n",
    "y_pred_rf = rf.predict(X_test_improve)\n",
    "\n",
    "print(\"Training RMSE of Random Forest:\", rmse(y_train_improve, y_hat_rf))\n",
    "print(\"Testing RMSE of Random Forest:\", rmse(y_test_improve, y_pred_rf))"
   ]
  },
  {
   "cell_type": "code",
   "execution_count": null,
   "id": "8fd4ba2f-6659-4010-a515-f1ca9a457b38",
   "metadata": {},
   "outputs": [],
   "source": [
    "# neural network\n",
    "from sklearn.neural_network import MLPClassifier\n",
    "\n",
    "nn = MLPClassifier(random_state = 42, max_iter = 50)\n",
    "\n",
    "nn = nn.fit(X_train_improve,y_train_improve)\n",
    "y_hat_nn = nn.predict(X_train_improve)\n",
    "y_pred_nn = nn.predict(X_test_improve)\n",
    "\n",
    "print(\"Training RMSE of Neural Network:\", rmse(y_train_improve, y_hat_nn))\n",
    "print(\"Testing RMSE of Neural Network:\", rmse(y_test_improve, y_pred_nn))"
   ]
  },
  {
   "cell_type": "code",
   "execution_count": null,
   "id": "c4fe1e40-dae3-4678-b828-27dc77602507",
   "metadata": {},
   "outputs": [],
   "source": [
    "# loss curve of MLP\n",
    "pd.DataFrame(nn.loss_curve_).plot(grid = True, legend = False)\n",
    "plt.xlabel(\"Iteration Times\")\n",
    "plt.ylabel(\"Loss\")\n",
    "plt.title(\"loss curve of MLP\");"
   ]
  },
  {
   "cell_type": "code",
   "execution_count": null,
   "id": "68d1467c-f514-416c-ae29-d14a8cea72bf",
   "metadata": {
    "scrolled": true,
    "tags": []
   },
   "outputs": [],
   "source": [
    "# random forest with grid search and cross-validation\n",
    "from sklearn.model_selection import GridSearchCV\n",
    "import time\n",
    "\n",
    "grid_values = {'max_features': np.linspace(1,101,5, dtype='int32'),\n",
    "              'min_samples_leaf': [1],\n",
    "              'n_estimators': [100],\n",
    "              'random_state': [42]} \n",
    "\n",
    "tic = time.time()\n",
    "\n",
    "rf_cv = GridSearchCV(RandomForestRegressor(), param_grid=grid_values, scoring = 'neg_mean_squared_error', cv=5, verbose=2)\n",
    "rf_cv.fit(X_train_improve, y_train_improve)\n",
    "\n",
    "toc = time.time()\n",
    "print('time:', round(toc-tic, 2),'s')"
   ]
  },
  {
   "cell_type": "code",
   "execution_count": null,
   "id": "d1fa9caa-3dec-4b8a-a9aa-517e4d40fa87",
   "metadata": {},
   "outputs": [],
   "source": [
    "# Plot the relationship between max_feature and accuracy\n",
    "max_features = rf_cv.cv_results_['param_max_features'].data\n",
    "rmse_min_features = rf_cv.cv_results_['mean_test_score']*(-1)\n",
    "\n",
    "plt.figure(figsize=(8, 6))\n",
    "plt.xlabel('max features', fontsize=16)\n",
    "plt.ylabel('CV RMSE', fontsize=16)\n",
    "plt.scatter(max_features, rmse_min_features, s=2)\n",
    "plt.plot(max_features, rmse_min_features, linewidth=3)\n",
    "plt.grid(True, which='both')"
   ]
  },
  {
   "cell_type": "code",
   "execution_count": null,
   "id": "85a0fe91-4b59-48a6-903f-910147fc9a4a",
   "metadata": {},
   "outputs": [],
   "source": [
    "# Print the optimal value of ccp_alpha\n",
    "print('Grid best parameter max_features (max. accuracy): ', rf_cv.best_params_['max_features'])\n",
    "print('Grid best score (rmse): ', rf_cv.best_score_*(-1))"
   ]
  },
  {
   "cell_type": "code",
   "execution_count": null,
   "id": "9f350272-d8f7-4ac0-b815-0e15d4a56a64",
   "metadata": {},
   "outputs": [],
   "source": [
    "# Training and Testing RMSE\n",
    "Y_hat_rf_cv = rf_cv.predict(X_train_improve)\n",
    "Y_pred_rf_cv = rf_cv.predict(X_test_improve)\n",
    "\n",
    "print(\"Training RMSE of Random Forest with Cross-Validation:\", rmse(y_train_improve, Y_hat_rf_cv))\n",
    "print(\"Testing RMSE of Random Forest with Cross-Validation:\", rmse(y_test_improve, Y_pred_rf_cv))"
   ]
  },
  {
   "cell_type": "code",
   "execution_count": null,
   "id": "352fdb89-e696-4cee-809f-636a2b447db6",
   "metadata": {},
   "outputs": [],
   "source": [
    "# plot tree\n",
    "from sklearn import tree\n",
    "\n",
    "rf_plot = RandomForestRegressor(max_features = 1,\n",
    "                           n_estimators = 500,\n",
    "                           random_state = 42)\n",
    "\n",
    "rf_plot.fit(X_train_improve,y_train_improve)\n",
    "y_hat_rf_plot = rf_plot.predict(X_train_improve)\n",
    "y_pred_rf_plot = rf_plot.predict(X_test_improve)\n",
    "\n",
    "plt.figure(figsize=(40,18))\n",
    "plot_tree = tree.plot_tree(rf_plot.estimators_[0], feature_names=X_train_improve.columns, filled=True, max_depth = 3);"
   ]
  },
  {
   "cell_type": "code",
   "execution_count": null,
   "id": "7a9261d9-0c25-49c7-bc3b-e09fbd25013c",
   "metadata": {},
   "outputs": [],
   "source": [
    "# split by 13th\n",
    "speeds_daily = speeds_to_tract[[\"day\", \"speed_mph_mean\"]].groupby(\"day\").mean()[\"speed_mph_mean\"]\n",
    "plt.plot(speeds_daily)\n",
    "plt.ylabel('Mean Speed')\n",
    "plt.xlabel('Day')\n",
    "plt.savefig(\"Mean Speed\", dpi=300)"
   ]
  },
  {
   "cell_type": "code",
   "execution_count": null,
   "id": "6ab96d27-5f0e-453e-ac91-e1279aa6bce7",
   "metadata": {},
   "outputs": [],
   "source": [
    "# before 13th\n",
    "before = improve_data[improve_data['day'] <= 13]\n",
    "train_before = before.iloc[:int(before.shape[0]*0.80)]\n",
    "test_before = before.iloc[int(before.shape[0]*0.80):]\n",
    "train_before.shape, test_before.shape"
   ]
  },
  {
   "cell_type": "code",
   "execution_count": null,
   "id": "62af42dd-be9b-4da2-acb8-1d67a734e846",
   "metadata": {},
   "outputs": [],
   "source": [
    "X_train_before = train_before.drop(['Mean Travel Time (Seconds)'],axis=1)\n",
    "y_train_before = train_before['Mean Travel Time (Seconds)']\n",
    "X_test_before = test_before.drop(['Mean Travel Time (Seconds)'],axis=1)\n",
    "y_test_before = test_before['Mean Travel Time (Seconds)']"
   ]
  },
  {
   "cell_type": "code",
   "execution_count": null,
   "id": "d760e05d-255a-47c9-89fc-275ba43d9987",
   "metadata": {},
   "outputs": [],
   "source": [
    "rf_before = RandomForestRegressor(max_features = 1,\n",
    "                           n_estimators = 100,\n",
    "                           random_state = 42)\n",
    "\n",
    "rf_before.fit(X_train_before,y_train_before)\n",
    "y_hat_rf_before = rf_before.predict(X_train_before)\n",
    "y_pred_rf_before = rf_before.predict(X_test_before)\n",
    "\n",
    "print(\"Training RMSE of Random Forest before 13th:\", rmse(y_train_before, y_hat_rf_before))\n",
    "print(\"Testing RMSE of Random Forest before 13th:\", rmse(y_test_before, y_pred_rf_before))"
   ]
  },
  {
   "cell_type": "code",
   "execution_count": null,
   "id": "27814766-d84b-4661-ad10-7d9bc840d4cc",
   "metadata": {},
   "outputs": [],
   "source": [
    "# after 13th\n",
    "after = improve_data[improve_data['day'] > 13]\n",
    "train_after = after.iloc[:int(after.shape[0]*0.80)]\n",
    "test_after = after.iloc[int(after.shape[0]*0.80):]\n",
    "train_after.shape, test_after.shape"
   ]
  },
  {
   "cell_type": "code",
   "execution_count": null,
   "id": "2ef85892-d4c0-4958-aae2-39c150c52a5f",
   "metadata": {},
   "outputs": [],
   "source": [
    "X_train_after = train_after.drop(['Mean Travel Time (Seconds)'],axis=1)\n",
    "y_train_after = train_after['Mean Travel Time (Seconds)']\n",
    "X_test_after = test_after.drop(['Mean Travel Time (Seconds)'],axis=1)\n",
    "y_test_after = test_after['Mean Travel Time (Seconds)']"
   ]
  },
  {
   "cell_type": "code",
   "execution_count": null,
   "id": "2d622ce5-0c5f-449d-bc71-390f96e2643f",
   "metadata": {},
   "outputs": [],
   "source": [
    "rf_after = RandomForestRegressor(max_features = 1,\n",
    "                           n_estimators = 100,\n",
    "                           random_state = 42)\n",
    "\n",
    "rf_after.fit(X_train_after,y_train_after)\n",
    "y_hat_rf_after = rf_after.predict(X_train_after)\n",
    "y_pred_rf_after = rf_after.predict(X_test_after)\n",
    "\n",
    "print(\"Training RMSE of Random Forest after 13th:\", rmse(y_train_after, y_hat_rf_after))\n",
    "print(\"Testing RMSE of Random Forest after 13th:\", rmse(y_test_after, y_pred_rf_after))"
   ]
  },
  {
   "cell_type": "markdown",
   "id": "400dba85",
   "metadata": {
    "deletable": false,
    "editable": false
   },
   "source": [
    "---\n",
    "\n",
    "To double-check your work, the cell below will rerun all of the autograder tests."
   ]
  },
  {
   "cell_type": "code",
   "execution_count": null,
   "id": "a6d058c6",
   "metadata": {
    "deletable": false,
    "editable": false
   },
   "outputs": [],
   "source": [
    "grader.check_all()"
   ]
  },
  {
   "cell_type": "markdown",
   "id": "9a248128",
   "metadata": {
    "deletable": false,
    "editable": false
   },
   "source": [
    "## Submission\n",
    "\n",
    "Make sure you have run all cells in your notebook in order before running the cell below, so that all images/graphs appear in the output. The cell below will generate a zip file for you to submit. **Please save before exporting!**"
   ]
  },
  {
   "cell_type": "code",
   "execution_count": null,
   "id": "c99e244f",
   "metadata": {
    "deletable": false,
    "editable": false
   },
   "outputs": [],
   "source": [
    "# Save your notebook first, then run this cell to export your submission.\n",
    "grader.export()"
   ]
  },
  {
   "cell_type": "markdown",
   "id": "732614ed",
   "metadata": {},
   "source": [
    " "
   ]
  }
 ],
 "metadata": {
  "kernelspec": {
   "display_name": "Python 3 (ipykernel)",
   "language": "python",
   "name": "python3"
  },
  "language_info": {
   "codemirror_mode": {
    "name": "ipython",
    "version": 3
   },
   "file_extension": ".py",
   "mimetype": "text/x-python",
   "name": "python",
   "nbconvert_exporter": "python",
   "pygments_lexer": "ipython3",
   "version": "3.9.7"
  }
 },
 "nbformat": 4,
 "nbformat_minor": 5
}
